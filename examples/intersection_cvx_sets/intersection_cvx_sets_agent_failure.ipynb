{
 "cells": [
  {
   "cell_type": "code",
   "execution_count": 1,
   "id": "774ad77d",
   "metadata": {},
   "outputs": [
    {
     "name": "stdout",
     "output_type": "stream",
     "text": [
      "(CVXPY) Oct 12 03:12:20 PM: Encountered unexpected exception importing solver SCS:\n",
      "ImportError('dlopen(/opt/anaconda3/envs/exp_env16/lib/python3.10/site-packages/scs-3.2.0-py3.10-macosx-10.9-x86_64.egg/_scs_direct.cpython-310-darwin.so, 2): Symbol not found: _aligned_alloc\\n  Referenced from: /opt/anaconda3/envs/exp_env16/lib/python3.10/site-packages/scs-3.2.0-py3.10-macosx-10.9-x86_64.egg/scs/.dylibs/libgomp.1.dylib (which was built for Mac OS X 10.15)\\n  Expected in: /usr/lib/libSystem.B.dylib\\n in /opt/anaconda3/envs/exp_env16/lib/python3.10/site-packages/scs-3.2.0-py3.10-macosx-10.9-x86_64.egg/scs/.dylibs/libgomp.1.dylib')\n"
     ]
    }
   ],
   "source": [
    "import numpy as np\n",
    "import cvxpy as cp\n",
    "import osbdo as ob"
   ]
  },
  {
   "cell_type": "markdown",
   "id": "dfa0460f",
   "metadata": {},
   "source": [
    "# Create parameters"
   ]
  },
  {
   "cell_type": "code",
   "execution_count": 2,
   "id": "8bb04ca2",
   "metadata": {},
   "outputs": [],
   "source": [
    "params = ob.ics_params(num_row=200, num_col=300, num_agents=20)"
   ]
  },
  {
   "cell_type": "markdown",
   "id": "4865fc32",
   "metadata": {},
   "source": [
    "# Distributed solution with agent failure probability $p$"
   ]
  },
  {
   "cell_type": "code",
   "execution_count": 3,
   "id": "16e39fab",
   "metadata": {},
   "outputs": [],
   "source": [
    "agents = ob.ics_agents(params)\n",
    "g = ob.ics_coupling(agents, params)\n",
    "prob = ob.Problem(agents = agents, g = g)"
   ]
  },
  {
   "cell_type": "code",
   "execution_count": 4,
   "id": "28e69411",
   "metadata": {
    "scrolled": true
   },
   "outputs": [
    {
     "name": "stdout",
     "output_type": "stream",
     "text": [
      "k=0, rel_gap=inf, L=0.0, U=6.470369944856402\n",
      "k=1, rel_gap=inf, L=0.0, U=6.470369944856402\n",
      "k=2, rel_gap=inf, L=0.0, U=3.700160976994014\n",
      "k=3, rel_gap=inf, L=0.0, U=2.115332801834241\n",
      "k=4, rel_gap=inf, L=0.0, U=1.209372474155953\n",
      "k=5, rel_gap=inf, L=0.0, U=0.6917086633868161\n",
      "k=6, rel_gap=inf, L=0.0, U=0.39554561742500993\n",
      "k=7, rel_gap=inf, L=0.0, U=0.22650737369420093\n",
      "k=8, rel_gap=inf, L=0.0, U=0.12965454583221278\n",
      "k=9, rel_gap=inf, L=0.0, U=0.0739413519804193\n",
      "k=10, rel_gap=inf, L=0.0, U=0.042400770162579496\n",
      "k=11, rel_gap=inf, L=0.0, U=0.02415486082216241\n",
      "k=12, rel_gap=inf, L=0.0, U=0.013756757915373594\n",
      "k=13, rel_gap=inf, L=0.0, U=0.007798868537112086\n",
      "k=14, rel_gap=inf, L=0.0, U=0.004411528322951973\n",
      "k=15, rel_gap=inf, L=0.0, U=0.002492436914982585\n",
      "k=16, rel_gap=inf, L=0.0, U=0.0014071203722274136\n",
      "k=17, rel_gap=inf, L=0.0, U=0.0007935717949215763\n",
      "k=18, rel_gap=inf, L=0.0, U=0.00044690635421093\n",
      "k=19, rel_gap=inf, L=0.0, U=0.0002516075850294529\n",
      "k=20, rel_gap=inf, L=0.0, U=0.0001415543472640902\n",
      "k=21, rel_gap=inf, L=0.0, U=8.120889511762497e-05\n",
      "k=22, rel_gap=inf, L=0.0, U=4.6718247905583535e-05\n",
      "k=23, rel_gap=inf, L=0.0, U=2.6949340860489013e-05\n",
      "k=24, rel_gap=inf, L=0.0, U=1.557083130218266e-05\n",
      "k=25, rel_gap=inf, L=0.0, U=9.044383052258695e-06\n",
      "k=0, rel_gap=inf, L=0.0, U=6.470369944856402\n",
      "k=1, rel_gap=inf, L=0.0, U=6.470369944856402\n",
      "k=2, rel_gap=inf, L=0.0, U=3.700160976994014\n",
      "k=3, rel_gap=inf, L=0.0, U=2.115332801834241\n",
      "k=4, rel_gap=inf, L=0.0, U=1.209372474155953\n",
      "k=5, rel_gap=inf, L=0.0, U=0.6917086633868161\n",
      "k=6, rel_gap=inf, L=0.0, U=0.39554561742500993\n",
      "k=7, rel_gap=inf, L=0.0, U=0.22650737369420093\n",
      "k=8, rel_gap=inf, L=0.0, U=0.12965454583221278\n",
      "k=9, rel_gap=inf, L=0.0, U=0.0739413519804193\n",
      "k=10, rel_gap=inf, L=0.0, U=0.0739413519804193\n",
      "k=11, rel_gap=inf, L=0.0, U=0.037910037925336655\n",
      "k=12, rel_gap=inf, L=0.0, U=0.02163675076143235\n",
      "k=13, rel_gap=inf, L=0.0, U=0.012369912775330649\n",
      "k=14, rel_gap=inf, L=0.0, U=0.007020077017103675\n",
      "k=15, rel_gap=inf, L=0.0, U=0.003972802109236496\n",
      "k=16, rel_gap=inf, L=0.0, U=0.002245123709893731\n",
      "k=17, rel_gap=inf, L=0.0, U=0.0012676261474602758\n",
      "k=18, rel_gap=inf, L=0.0, U=0.000714865868200981\n",
      "k=19, rel_gap=inf, L=0.0, U=0.000714865868200981\n",
      "k=20, rel_gap=inf, L=0.0, U=0.00036675143044189183\n",
      "k=21, rel_gap=inf, L=0.0, U=0.00036675143044189183\n",
      "k=22, rel_gap=inf, L=0.0, U=0.0002362408195503116\n",
      "k=23, rel_gap=inf, L=0.0, U=0.000137657256002525\n",
      "k=24, rel_gap=inf, L=0.0, U=7.475434105968522e-05\n",
      "k=25, rel_gap=inf, L=0.0, U=4.1071911053606634e-05\n",
      "k=26, rel_gap=inf, L=0.0, U=2.267637566069207e-05\n",
      "k=27, rel_gap=inf, L=0.0, U=1.2567417276558779e-05\n",
      "k=28, rel_gap=inf, L=0.0, U=7.025664456485322e-06\n",
      "k=0, rel_gap=inf, L=0.0, U=6.470369944856402\n",
      "k=1, rel_gap=inf, L=0.0, U=6.470369944856402\n",
      "k=2, rel_gap=inf, L=0.0, U=3.700160976994014\n",
      "k=3, rel_gap=inf, L=0.0, U=3.700160976994014\n",
      "k=4, rel_gap=inf, L=0.0, U=1.8705907029834727\n",
      "k=5, rel_gap=inf, L=0.0, U=1.8705907029834727\n",
      "k=6, rel_gap=inf, L=0.0, U=0.9459100526956171\n",
      "k=7, rel_gap=inf, L=0.0, U=0.9459100526956171\n",
      "k=8, rel_gap=inf, L=0.0, U=0.48403445925530864\n",
      "k=9, rel_gap=inf, L=0.0, U=0.27738262784869094\n",
      "k=10, rel_gap=inf, L=0.0, U=0.15945177710255287\n",
      "k=11, rel_gap=inf, L=0.0, U=0.09133814371403631\n",
      "k=12, rel_gap=inf, L=0.0, U=0.09133814371403631\n",
      "k=13, rel_gap=inf, L=0.0, U=0.047531310990518355\n",
      "k=14, rel_gap=inf, L=0.0, U=0.027160257638293283\n",
      "k=15, rel_gap=inf, L=0.0, U=0.015497564503838164\n",
      "k=16, rel_gap=inf, L=0.0, U=0.015497564503838164\n",
      "k=17, rel_gap=inf, L=0.0, U=0.008076710079735927\n",
      "k=18, rel_gap=inf, L=0.0, U=0.0045777925224730585\n",
      "k=19, rel_gap=inf, L=0.0, U=0.0045777925224730585\n",
      "k=20, rel_gap=inf, L=0.0, U=0.0045777925224730585\n",
      "k=21, rel_gap=inf, L=0.0, U=0.0045777925224730585\n",
      "k=22, rel_gap=inf, L=0.0, U=0.002821201771737463\n",
      "k=23, rel_gap=inf, L=0.0, U=0.002821201771737463\n",
      "k=24, rel_gap=inf, L=0.0, U=0.002821201771737463\n",
      "k=25, rel_gap=inf, L=0.0, U=0.002821201771737463\n",
      "k=26, rel_gap=inf, L=0.0, U=0.002821201771737463\n",
      "k=27, rel_gap=inf, L=0.0, U=0.002821201771737463\n",
      "k=28, rel_gap=inf, L=0.0, U=0.0017443523825898808\n",
      "k=29, rel_gap=inf, L=0.0, U=0.0017443523825898808\n",
      "k=30, rel_gap=inf, L=0.0, U=0.0011119854719256654\n",
      "k=31, rel_gap=inf, L=0.0, U=0.0011119854719256654\n",
      "k=32, rel_gap=inf, L=0.0, U=0.000711245976088179\n",
      "k=33, rel_gap=inf, L=0.0, U=0.00040853041327717685\n",
      "k=34, rel_gap=inf, L=0.0, U=0.00022316063528239087\n",
      "k=35, rel_gap=inf, L=0.0, U=0.00022316063528239087\n",
      "k=36, rel_gap=inf, L=0.0, U=0.00014681246776423153\n"
     ]
    },
    {
     "name": "stderr",
     "output_type": "stream",
     "text": [
      "/opt/anaconda3/envs/exp_env16/lib/python3.10/site-packages/cvxpy-1.3.0-py3.10-macosx-10.9-x86_64.egg/cvxpy/problems/problem.py:154: UserWarning: Objective contains too many subexpressions. Consider vectorizing your CVXPY code to speed up compilation.\n",
      "  warnings.warn(\"Objective contains too many subexpressions. \"\n"
     ]
    },
    {
     "name": "stdout",
     "output_type": "stream",
     "text": [
      "k=37, rel_gap=inf, L=0.0, U=8.685935030955195e-05\n",
      "k=38, rel_gap=inf, L=0.0, U=4.840723642844654e-05\n",
      "k=39, rel_gap=inf, L=0.0, U=2.726389163935109e-05\n",
      "k=40, rel_gap=inf, L=0.0, U=1.5451971919077922e-05\n",
      "k=41, rel_gap=inf, L=0.0, U=1.5451971919077922e-05\n",
      "k=42, rel_gap=inf, L=0.0, U=1.0238361803638145e-05\n",
      "k=43, rel_gap=inf, L=0.0, U=6.151760186674925e-06\n"
     ]
    }
   ],
   "source": [
    "max_iter = 50\n",
    "fail_probability = [0, 0.01, 0.02]\n",
    "fail_bounds = {}\n",
    "for p in fail_probability:\n",
    "    agent_reply_pattern = [[np.random.rand()>p for j in range(max_iter+1)] for i in range(len(agents))]\n",
    "    prob.solve(rel_gap=10**(-5), abs_gap=10**(-5), max_iter=max_iter, agent_reply_pattern=agent_reply_pattern)\n",
    "    fail_bounds[p] = {'uk':prob.upper_bnd, 'lk':prob.lower_bnd}"
   ]
  },
  {
   "cell_type": "markdown",
   "id": "9de5ea29",
   "metadata": {},
   "source": [
    "# Centralized solution"
   ]
  },
  {
   "cell_type": "code",
   "execution_count": 5,
   "id": "dbc11139",
   "metadata": {},
   "outputs": [],
   "source": [
    "h_cvx = ob.cvx_intersection_cvx_sets(params=params)[2]"
   ]
  },
  {
   "cell_type": "markdown",
   "id": "222d6cd2",
   "metadata": {},
   "source": [
    "# Plot"
   ]
  },
  {
   "cell_type": "code",
   "execution_count": 6,
   "id": "d7d7fb30",
   "metadata": {},
   "outputs": [
    {
     "data": {
      "image/png": "[encoded data removed]",
      "text/plain": [
       "<Figure size 640x480 with 1 Axes>"
      ]
     },
     "metadata": {},
     "output_type": "display_data"
    }
   ],
   "source": [
    "ob.plot_agent_failure_abs(fail_bounds=fail_bounds, fail_probability=fail_probability, h_true=h_cvx)"
   ]
  },
  {
   "cell_type": "code",
   "execution_count": null,
   "id": "a9f715d7",
   "metadata": {},
   "outputs": [],
   "source": []
  }
 ],
 "metadata": {
  "kernelspec": {
   "display_name": "Python 3 (ipykernel)",
   "language": "python",
   "name": "python3"
  },
  "language_info": {
   "codemirror_mode": {
    "name": "ipython",
    "version": 3
   },
   "file_extension": ".py",
   "mimetype": "text/x-python",
   "name": "python",
   "nbconvert_exporter": "python",
   "pygments_lexer": "ipython3",
   "version": "3.10.4"
  }
 },
 "nbformat": 4,
 "nbformat_minor": 5
}
