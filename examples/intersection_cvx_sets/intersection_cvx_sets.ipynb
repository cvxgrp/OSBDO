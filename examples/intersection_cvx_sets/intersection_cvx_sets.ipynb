{
 "cells": [
  {
   "cell_type": "code",
   "execution_count": 1,
   "id": "c28a7012",
   "metadata": {},
   "outputs": [],
   "source": [
    "import cvxpy as cp\n",
    "import numpy as np\n",
    "import osbdo as ob"
   ]
  },
  {
   "cell_type": "markdown",
   "id": "b906c20f",
   "metadata": {},
   "source": [
    "# Problem description\n",
    "Find intersection point of $M$ overlapping convex sets\n",
    "$$\\begin{array}{ll}\n",
    "\\mbox{minimize } & \\sum_{i=1}^M \\|v-x_i\\|_2^2\\\\\n",
    "\\mbox{subject to }& A_ix_i\\leq b_i \\mbox{ for }i=1,\\ldots,M\\\\\n",
    "\\end{array}$$"
   ]
  },
  {
   "cell_type": "markdown",
   "id": "74370cfd",
   "metadata": {},
   "source": [
    "# Create parameters"
   ]
  },
  {
   "cell_type": "code",
   "execution_count": 2,
   "id": "a6c463f7",
   "metadata": {},
   "outputs": [],
   "source": [
    "params = ob.ics_params(num_row=200, num_col=300, num_agents=20)"
   ]
  },
  {
   "cell_type": "markdown",
   "id": "2c5fa550",
   "metadata": {},
   "source": [
    "# Distributed solution"
   ]
  },
  {
   "cell_type": "code",
   "execution_count": 3,
   "id": "8646d0ee",
   "metadata": {},
   "outputs": [],
   "source": [
    "agents = ob.ics_agents(params)\n",
    "g = ob.ics_coupling(agents, params)\n",
    "prob = ob.Problem(agents = agents, g = g)"
   ]
  },
  {
   "cell_type": "code",
   "execution_count": 6,
   "id": "7a198378",
   "metadata": {
    "scrolled": true
   },
   "outputs": [
    {
     "name": "stdout",
     "output_type": "stream",
     "text": [
      "k=0, rel_gap=inf, L=0.0, U=7.922656459450639\n",
      "k=1, rel_gap=inf, L=0.0, U=7.922656459450639\n",
      "k=2, rel_gap=inf, L=0.0, U=4.558378100418025\n",
      "k=3, rel_gap=inf, L=0.0, U=2.6432256077215324\n",
      "k=4, rel_gap=inf, L=0.0, U=1.5328709168623593\n",
      "k=5, rel_gap=inf, L=0.0, U=0.8825329573481909\n",
      "k=6, rel_gap=inf, L=0.0, U=0.5057476468496815\n",
      "k=7, rel_gap=inf, L=0.0, U=0.2888631512272173\n",
      "k=8, rel_gap=inf, L=0.0, U=0.16513904828674258\n",
      "k=9, rel_gap=inf, L=0.0, U=0.09397183094799508\n",
      "k=10, rel_gap=inf, L=0.0, U=0.05338419407052204\n",
      "k=11, rel_gap=inf, L=0.0, U=0.03025589836359106\n",
      "k=12, rel_gap=inf, L=0.0, U=0.01712147741836117\n",
      "k=13, rel_gap=inf, L=0.0, U=0.009674579647449107\n",
      "k=14, rel_gap=inf, L=0.0, U=0.005467864574226974\n",
      "k=15, rel_gap=inf, L=0.0, U=0.0030924785250334816\n",
      "k=16, rel_gap=inf, L=0.0, U=0.0017514299953113345\n",
      "k=17, rel_gap=inf, L=0.0, U=0.000989779597849303\n",
      "k=18, rel_gap=inf, L=0.0, U=0.0005582982968851959\n",
      "k=19, rel_gap=inf, L=0.0, U=0.00031453389409639765\n",
      "k=20, rel_gap=inf, L=0.0, U=0.00017703935815804859\n",
      "k=21, rel_gap=inf, L=0.0, U=0.00010251052004640358\n",
      "k=22, rel_gap=inf, L=0.0, U=5.957502836011555e-05\n",
      "k=23, rel_gap=inf, L=0.0, U=3.47411717312943e-05\n",
      "k=24, rel_gap=inf, L=0.0, U=2.0317590488949365e-05\n",
      "k=25, rel_gap=inf, L=0.0, U=1.1917321440006243e-05\n",
      "k=26, rel_gap=inf, L=0.0, U=7.014169142083609e-06\n"
     ]
    }
   ],
   "source": [
    "x_agent, x_global = prob.solve(rel_gap=10**(-5), abs_gap=10**(-5), max_iter=30)"
   ]
  },
  {
   "cell_type": "markdown",
   "id": "4f0ceb27",
   "metadata": {},
   "source": [
    "# Centralized solution"
   ]
  },
  {
   "cell_type": "code",
   "execution_count": 7,
   "id": "e5501f8d",
   "metadata": {},
   "outputs": [],
   "source": [
    "x_cvx, prob_cvx, h_cvx = ob.cvx_intersection_cvx_sets(params=params)"
   ]
  },
  {
   "cell_type": "code",
   "execution_count": 8,
   "id": "f974899e",
   "metadata": {},
   "outputs": [
    {
     "data": {
      "text/plain": [
       "(3.1946417353249873e-18, 7.014169142083609e-06)"
      ]
     },
     "execution_count": 8,
     "metadata": {},
     "output_type": "execute_result"
    }
   ],
   "source": [
    "h_cvx, prob.upper_bnd[-1]"
   ]
  },
  {
   "cell_type": "markdown",
   "id": "78535344",
   "metadata": {},
   "source": [
    "# Plot"
   ]
  },
  {
   "cell_type": "code",
   "execution_count": 9,
   "id": "231f4c7a",
   "metadata": {},
   "outputs": [
    {
     "data": {
      "image/png": "[encoded data removed]",
      "text/plain": [
       "<Figure size 600x400 with 1 Axes>"
      ]
     },
     "metadata": {
      "needs_background": "light"
     },
     "output_type": "display_data"
    }
   ],
   "source": [
    "ob.plot_true_abs_gap_uk(lk=prob.lower_bnd, uk=prob.upper_bnd, h_true=h_cvx)"
   ]
  },
  {
   "cell_type": "code",
   "execution_count": null,
   "id": "bc5a6da2",
   "metadata": {},
   "outputs": [],
   "source": []
  }
 ],
 "metadata": {
  "kernelspec": {
   "display_name": "Python 3 (ipykernel)",
   "language": "python",
   "name": "python3"
  },
  "language_info": {
   "codemirror_mode": {
    "name": "ipython",
    "version": 3
   },
   "file_extension": ".py",
   "mimetype": "text/x-python",
   "name": "python",
   "nbconvert_exporter": "python",
   "pygments_lexer": "ipython3",
   "version": "3.8.8"
  }
 },
 "nbformat": 4,
 "nbformat_minor": 5
}
