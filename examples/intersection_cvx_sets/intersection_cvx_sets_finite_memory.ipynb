{
 "cells": [
  {
   "cell_type": "code",
   "execution_count": 1,
   "id": "2d29d48e",
   "metadata": {},
   "outputs": [],
   "source": [
    "import cvxpy as cp\n",
    "import numpy as np\n",
    "import osbdo as ob"
   ]
  },
  {
   "cell_type": "markdown",
   "id": "a35a146e",
   "metadata": {},
   "source": [
    "# Create parameters"
   ]
  },
  {
   "cell_type": "code",
   "execution_count": 2,
   "id": "50323271",
   "metadata": {},
   "outputs": [],
   "source": [
    "params = ob.ics_params(num_row=200, num_col=300, num_agents=20)"
   ]
  },
  {
   "cell_type": "markdown",
   "id": "1c2e0340",
   "metadata": {},
   "source": [
    "# Distributed solution with limited memory $m$"
   ]
  },
  {
   "cell_type": "code",
   "execution_count": 3,
   "id": "47fa5f31",
   "metadata": {},
   "outputs": [],
   "source": [
    "agents = ob.ics_agents(params)\n",
    "g = ob.ics_coupling(agents, params)\n",
    "prob = ob.Problem(agents = agents, g = g)"
   ]
  },
  {
   "cell_type": "code",
   "execution_count": 4,
   "id": "c0db3792",
   "metadata": {
    "scrolled": true
   },
   "outputs": [
    {
     "name": "stdout",
     "output_type": "stream",
     "text": [
      "k=0, rel_gap=inf, L=0.0, U=8.085690313443152\n",
      "k=1, rel_gap=inf, L=0.0, U=8.085690313443152\n",
      "k=2, rel_gap=inf, L=0.0, U=4.636525835466449\n",
      "k=3, rel_gap=inf, L=0.0, U=2.6749726366036084\n",
      "k=4, rel_gap=inf, L=0.0, U=1.5446902738061632\n",
      "k=5, rel_gap=inf, L=0.0, U=0.892158607646112\n",
      "k=6, rel_gap=inf, L=0.0, U=0.5140564588802256\n",
      "k=7, rel_gap=inf, L=0.0, U=0.2949145294033265\n",
      "k=8, rel_gap=inf, L=0.0, U=0.16858314980062458\n",
      "k=9, rel_gap=inf, L=0.0, U=0.09615244837563382\n",
      "k=10, rel_gap=inf, L=0.0, U=0.054680800789434915\n",
      "k=11, rel_gap=inf, L=0.0, U=0.030991158204522033\n",
      "k=12, rel_gap=inf, L=0.0, U=0.017516079587503248\n",
      "k=13, rel_gap=inf, L=0.0, U=0.009884168757718522\n",
      "k=14, rel_gap=inf, L=0.0, U=0.0055722678282083575\n",
      "k=15, rel_gap=inf, L=0.0, U=0.0031420822161743896\n",
      "k=16, rel_gap=inf, L=0.0, U=0.001771470034091428\n",
      "k=17, rel_gap=inf, L=0.0, U=0.0009979584026169205\n",
      "k=18, rel_gap=inf, L=0.0, U=0.0005620040136891585\n",
      "k=19, rel_gap=inf, L=0.0, U=0.0003163889429829477\n",
      "k=20, rel_gap=inf, L=0.0, U=0.00017805760262272065\n",
      "k=21, rel_gap=inf, L=0.0, U=0.00010188392780312071\n",
      "k=22, rel_gap=inf, L=0.0, U=5.852031232202478e-05\n",
      "k=23, rel_gap=inf, L=0.0, U=3.3780424806188705e-05\n",
      "k=24, rel_gap=inf, L=0.0, U=1.9614707390950404e-05\n",
      "k=25, rel_gap=inf, L=0.0, U=1.1446327363117812e-05\n",
      "k=26, rel_gap=inf, L=0.0, U=6.692581573998205e-06\n",
      "k=0, rel_gap=inf, L=0.0, U=8.085690313443152\n",
      "k=1, rel_gap=inf, L=0.0, U=8.085690313443152\n",
      "k=2, rel_gap=inf, L=0.0, U=4.636525835466449\n",
      "k=3, rel_gap=inf, L=0.0, U=2.6749726366036084\n",
      "k=4, rel_gap=inf, L=0.0, U=1.5446902738061632\n",
      "k=5, rel_gap=inf, L=0.0, U=0.892158607646112\n",
      "k=6, rel_gap=inf, L=0.0, U=0.5140564588802256\n",
      "k=7, rel_gap=inf, L=0.0, U=0.2949145294033265\n",
      "k=8, rel_gap=inf, L=0.0, U=0.16858314980062458\n",
      "k=9, rel_gap=inf, L=0.0, U=0.09615244837563382\n",
      "k=10, rel_gap=inf, L=0.0, U=0.054680800789434915\n",
      "k=11, rel_gap=inf, L=0.0, U=0.030991158204522033\n",
      "k=12, rel_gap=inf, L=0.0, U=0.017516079771142615\n",
      "k=13, rel_gap=inf, L=0.0, U=0.009884168317130317\n",
      "k=14, rel_gap=inf, L=0.0, U=0.005572268591913739\n",
      "k=15, rel_gap=inf, L=0.0, U=0.0031420842603717926\n",
      "k=16, rel_gap=inf, L=0.0, U=0.0017714839194282513\n",
      "k=17, rel_gap=inf, L=0.0, U=0.000997968168759676\n",
      "k=18, rel_gap=inf, L=0.0, U=0.0005619770312183843\n",
      "k=19, rel_gap=inf, L=0.0, U=0.00031637997120902725\n",
      "k=20, rel_gap=inf, L=0.0, U=0.00017812064573331907\n",
      "k=21, rel_gap=inf, L=0.0, U=0.00010194012623955718\n",
      "k=22, rel_gap=inf, L=0.0, U=5.857685587672961e-05\n",
      "k=23, rel_gap=inf, L=0.0, U=3.3830035050463616e-05\n",
      "k=24, rel_gap=inf, L=0.0, U=1.964619450862857e-05\n",
      "k=25, rel_gap=inf, L=0.0, U=1.1469320946341785e-05\n",
      "k=26, rel_gap=inf, L=0.0, U=6.7065861932263514e-06\n",
      "k=0, rel_gap=inf, L=0.0, U=8.085690313443152\n",
      "k=1, rel_gap=inf, L=0.0, U=8.085690313443152\n",
      "k=2, rel_gap=inf, L=0.0, U=4.636525835466449\n",
      "k=3, rel_gap=inf, L=0.0, U=2.6749726366036084\n",
      "k=4, rel_gap=inf, L=0.0, U=1.5446902738061632\n",
      "k=5, rel_gap=inf, L=0.0, U=0.892158607646112\n",
      "k=6, rel_gap=inf, L=0.0, U=0.5140564588802256\n",
      "k=7, rel_gap=inf, L=0.0, U=0.2949145294033265\n",
      "k=8, rel_gap=inf, L=0.0, U=0.16858314980062458\n",
      "k=9, rel_gap=inf, L=0.0, U=0.09615244837563382\n",
      "k=10, rel_gap=inf, L=0.0, U=0.054680800789434915\n",
      "k=11, rel_gap=inf, L=0.0, U=0.030991158204522033\n",
      "k=12, rel_gap=inf, L=0.0, U=0.017516079771142615\n",
      "k=13, rel_gap=inf, L=0.0, U=0.009884168317130317\n",
      "k=14, rel_gap=inf, L=0.0, U=0.005572268591913739\n",
      "k=15, rel_gap=inf, L=0.0, U=0.0031420842603717926\n",
      "k=16, rel_gap=inf, L=0.0, U=0.0017714839194282513\n",
      "k=17, rel_gap=inf, L=0.0, U=0.000997968168759676\n",
      "k=18, rel_gap=inf, L=0.0, U=0.0005619770312183843\n",
      "k=19, rel_gap=inf, L=0.0, U=0.00031637997120902725\n",
      "k=20, rel_gap=inf, L=0.0, U=0.00017812064573331907\n",
      "k=21, rel_gap=inf, L=0.0, U=0.00010194012623955718\n",
      "k=22, rel_gap=inf, L=0.0, U=5.857739918227737e-05\n",
      "k=23, rel_gap=inf, L=0.0, U=3.382855493972588e-05\n",
      "k=24, rel_gap=inf, L=0.0, U=1.964627041060888e-05\n",
      "k=25, rel_gap=inf, L=0.0, U=1.1469176461884308e-05\n",
      "k=26, rel_gap=inf, L=0.0, U=6.702612863659907e-06\n"
     ]
    }
   ],
   "source": [
    "max_iter = 30\n",
    "memory = [10, 20, max_iter]\n",
    "memory_bounds = {}\n",
    "for m in memory:\n",
    "    prob.solve(rel_gap=10**(-5), abs_gap=10**(-5), max_iter=max_iter, memory=m)\n",
    "    memory_bounds[m] = {'uk':prob.upper_bnd, 'lk':prob.lower_bnd}"
   ]
  },
  {
   "cell_type": "markdown",
   "id": "6ed71714",
   "metadata": {},
   "source": [
    "# Centralized solution"
   ]
  },
  {
   "cell_type": "code",
   "execution_count": 5,
   "id": "189040e5",
   "metadata": {},
   "outputs": [],
   "source": [
    "h_cvx = ob.cvx_intersection_cvx_sets(params=params)[2]"
   ]
  },
  {
   "cell_type": "markdown",
   "id": "02798bb3",
   "metadata": {},
   "source": [
    "# Plot"
   ]
  },
  {
   "cell_type": "code",
   "execution_count": 6,
   "id": "e3f0d024",
   "metadata": {},
   "outputs": [
    {
     "data": {
      "image/png": "[encoded data removed]",
      "text/plain": [
       "<Figure size 600x400 with 1 Axes>"
      ]
     },
     "metadata": {
      "needs_background": "light"
     },
     "output_type": "display_data"
    }
   ],
   "source": [
    "ob.plot_finite_memory_abs(memory_bounds=memory_bounds, memory=memory, h_true=h_cvx)"
   ]
  }
 ],
 "metadata": {
  "kernelspec": {
   "display_name": "Python 3 (ipykernel)",
   "language": "python",
   "name": "python3"
  },
  "language_info": {
   "codemirror_mode": {
    "name": "ipython",
    "version": 3
   },
   "file_extension": ".py",
   "mimetype": "text/x-python",
   "name": "python",
   "nbconvert_exporter": "python",
   "pygments_lexer": "ipython3",
   "version": "3.8.8"
  }
 },
 "nbformat": 4,
 "nbformat_minor": 5
}
