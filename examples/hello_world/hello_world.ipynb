{
 "cells": [
  {
   "cell_type": "code",
   "execution_count": 1,
   "id": "1a9a012e",
   "metadata": {
    "scrolled": true
   },
   "outputs": [],
   "source": [
    "import cvxpy as cp\n",
    "import numpy as np\n",
    "import osbdo as ob"
   ]
  },
  {
   "cell_type": "markdown",
   "id": "2193880f",
   "metadata": {},
   "source": [
    "# Hello world example\n",
    "$$\\begin{array}{ll}\n",
    "\\mbox{minimize } &\\left((1/2)x_1^TP_1x_1+q_1^Tx_1+r_1\\right)+\\left(c_2^Tx_2+d_2\\right)+\\left((1/2)x_3^TP_3x_3+q_3^Tx_3+r_3\\right)\\\\\n",
    "\\mbox{subject to }&l_1\\leq x_1\\leq u_1\\\\\n",
    "&l_2\\leq x_2\\leq u_2\\\\\n",
    "&l_3\\leq x_3\\leq u_3\\\\\n",
    "&(x_{1})_1+2(x_2)_1=(x_3)_1\n",
    "\\end{array}$$"
   ]
  },
  {
   "cell_type": "markdown",
   "id": "7aae87b1",
   "metadata": {},
   "source": [
    "# Describe each $f_i$ in a class `Agent_i(osbdo.Agent)`"
   ]
  },
  {
   "cell_type": "code",
   "execution_count": 2,
   "id": "589ffaed",
   "metadata": {},
   "outputs": [],
   "source": [
    "class AffineAgent(ob.Agent):\n",
    "    \"\"\"\n",
    "       objective: c^T x + d\n",
    "    \"\"\"    \n",
    "    def _construct_params(self):\n",
    "        self.c = self.params['c']\n",
    "        self.d = self.params['d']\n",
    "        \n",
    "    def query(self, *, v, solver):\n",
    "        return ob.Point(x=v, q=self.c, f=(self.c.T@v+self.d).sum())\n",
    "    \n",
    "    def get_init_minorant(self):\n",
    "        var = cp.Variable(self.dim)\n",
    "        prob = cp.Problem(cp.Minimize(self.c.T@var+self.d),[var<=self.upb, var>=self.lwb])\n",
    "        prob.solve()\n",
    "        return cp.Constant(prob.value)\n",
    "\n",
    "            \n",
    "class QuadraticAgent(ob.Agent):\n",
    "    \"\"\"\n",
    "       objective:(1/2) x^T P x + q^T x + r\n",
    "    \"\"\"\n",
    "    def _construct_params(self):\n",
    "        self.P = self.params['P']\n",
    "        self.q = self.params['q']\n",
    "        self.r = self.params['r']\n",
    "\n",
    "    def query(self, *, v, solver):\n",
    "        return ob.Point(x=v, q=self.P@v+self.q, f=(0.5*v.T@self.P@v+self.q.T@v+self.r).sum())\n",
    "    \n",
    "    def get_init_minorant(self):\n",
    "        var = cp.Variable(self.dim)\n",
    "        prob = cp.Problem(cp.Minimize(0.5*cp.quad_form(var,self.P)+self.q.T@var+self.r),\\\n",
    "                                                                    [var<=self.upb, var>=self.lwb])\n",
    "        prob.solve()\n",
    "        return cp.Constant(prob.value)"
   ]
  },
  {
   "cell_type": "markdown",
   "id": "8fd2403c",
   "metadata": {},
   "source": [
    "### Create 3 agents"
   ]
  },
  {
   "cell_type": "markdown",
   "id": "6dbf6a0e",
   "metadata": {},
   "source": [
    "The public variables have size $x_1  \\in {\\mathbf R}^5,~ x_2 \\in {\\mathbf R}^3,~ x_3 \\in {\\mathbf R}$."
   ]
  },
  {
   "cell_type": "code",
   "execution_count": 3,
   "id": "a3eddb08",
   "metadata": {},
   "outputs": [],
   "source": [
    "# define agent 1\n",
    "P = np.random.rand(5,5)\n",
    "P1 = P.T@P\n",
    "params1 = {'dimension':5, 'lower_bound':np.array([-2,-3,2,-6,-10]), 'upper_bound':np.array([1,3,6,9,-5]),\n",
    "          'P': P1, 'q':np.random.rand(5), 'r':np.random.rand()}\n",
    "tetiana = QuadraticAgent(params1)\n",
    "\n",
    "# define agent 2\n",
    "params2 = {'dimension':3, 'lower_bound':np.array([-2,6,-5]), 'upper_bound':np.array([5,10,-1]), \n",
    "          'c':np.random.rand(3), 'd':np.random.rand()}\n",
    "fangzhao = AffineAgent(params2)\n",
    "\n",
    "# define agent 3\n",
    "P = np.random.rand(1,1)\n",
    "P3 = P.T@P\n",
    "params3 = {'dimension':1, 'lower_bound': np.array([-2]), 'upper_bound': np.array([17]),\n",
    "          'P': P3, 'q': np.random.rand(1), 'r': np.random.rand()}\n",
    "stephen = QuadraticAgent(params3)"
   ]
  },
  {
   "cell_type": "code",
   "execution_count": 4,
   "id": "b99afb74",
   "metadata": {},
   "outputs": [],
   "source": [
    "agents = [tetiana, fangzhao, stephen]"
   ]
  },
  {
   "cell_type": "markdown",
   "id": "f6b0f68e",
   "metadata": {},
   "source": [
    "# Coupling"
   ]
  },
  {
   "cell_type": "code",
   "execution_count": 5,
   "id": "068e7fa9",
   "metadata": {},
   "outputs": [],
   "source": [
    "domain = [tetiana.x[0] + 2 * fangzhao.x[0] == stephen.x]\n",
    "g = ob.Coupling(agents=agents, \\\n",
    "                function = cp.Constant(0), domain = domain)"
   ]
  },
  {
   "cell_type": "markdown",
   "id": "8a39c52c",
   "metadata": {},
   "source": [
    "# Problem"
   ]
  },
  {
   "cell_type": "code",
   "execution_count": 6,
   "id": "0389ee0d",
   "metadata": {},
   "outputs": [],
   "source": [
    "prob = ob.Problem(agents = agents, g = g)"
   ]
  },
  {
   "cell_type": "markdown",
   "id": "9e40642f",
   "metadata": {},
   "source": [
    "# Solve problem"
   ]
  },
  {
   "cell_type": "code",
   "execution_count": 7,
   "id": "d0c23a61",
   "metadata": {
    "scrolled": false
   },
   "outputs": [
    {
     "name": "stdout",
     "output_type": "stream",
     "text": [
      "k=0, rel_gap=9.619739370870892, L=3.353756015316975, U=35.61601479615676\n",
      "k=1, rel_gap=9.616478973738262, L=3.354785977936684, U=35.61601479615676\n",
      "k=2, rel_gap=5.835906987752071, L=3.3547859779496534, U=22.9330049090787\n",
      "k=3, rel_gap=3.9505496955284602, L=3.354785977960471, U=16.608034701755358\n",
      "k=4, rel_gap=2.9469276085295912, L=3.3547859779852405, U=13.241097397217892\n",
      "k=5, rel_gap=2.0169321916419793, L=3.3547859779740903, U=10.121161813019153\n",
      "k=6, rel_gap=1.4121526956072046, L=3.3547859782238296, U=8.092256040557864\n",
      "k=7, rel_gap=0.9913308659523186, L=3.354785977944025, U=6.680488866543971\n",
      "k=8, rel_gap=0.6278268648472287, L=3.3547859780312024, U=5.461010740851976\n",
      "k=9, rel_gap=0.36316549678341775, L=3.354785977930203, U=4.573128494207269\n",
      "k=10, rel_gap=0.19674531131619657, L=3.354785978007097, U=4.0148243896493145\n",
      "k=11, rel_gap=0.10915528420371182, L=3.3547859779674587, U=3.720978594835124\n",
      "k=12, rel_gap=0.061287345681784886, L=3.3547859779451072, U=3.560391905863834\n",
      "k=13, rel_gap=0.033375419676246625, L=3.354785977993582, U=3.466753367933105\n",
      "k=14, rel_gap=0.016885761972624293, L=3.354785977988083, U=3.4114340954814875\n",
      "k=15, rel_gap=0.009042346630245847, L=3.3547859780319667, U=3.38512111571562\n"
     ]
    }
   ],
   "source": [
    "x_agents, x_global = prob.solve()"
   ]
  },
  {
   "cell_type": "markdown",
   "id": "a37187bc",
   "metadata": {},
   "source": [
    "# Centralized solution"
   ]
  },
  {
   "cell_type": "code",
   "execution_count": 8,
   "id": "a726e334",
   "metadata": {},
   "outputs": [
    {
     "data": {
      "text/plain": [
       "3.354785977927074"
      ]
     },
     "execution_count": 8,
     "metadata": {},
     "output_type": "execute_result"
    }
   ],
   "source": [
    "x1 = cp.Variable(5)\n",
    "x2 = cp.Variable(3)\n",
    "x3 = cp.Variable(1)\n",
    "\n",
    "f1 = 0.5 * cp.quad_form(x1,params1['P']) + params1['q'].T@x1 + params1['r']\n",
    "f2 = params2['c'].T@x2 + params2['d']\n",
    "f3 = 0.5 * cp.quad_form(x3,params3['P']) + params3['q'].T@x3 + params3['r']\n",
    "\n",
    "constr1 = [x1 >= params1['lower_bound'], x1 <= params1['upper_bound']]\n",
    "constr2 = [x2 >= params2['lower_bound'], x2 <= params2['upper_bound']]\n",
    "constr3 = [x3 >= params3['lower_bound'], x3 <= params3['upper_bound']]\n",
    "constr4 = [x1[0] + 2*x2[0] == x3]\n",
    "\n",
    "cvx_prob = cp.Problem(cp.Minimize(f1+f2+f3), constr1+constr2+constr3+constr4)\n",
    "cvx_prob.solve()"
   ]
  },
  {
   "cell_type": "markdown",
   "id": "6a7efc49",
   "metadata": {},
   "source": [
    "# Comparison"
   ]
  },
  {
   "cell_type": "code",
   "execution_count": 9,
   "id": "8c5f54b8",
   "metadata": {},
   "outputs": [
    {
     "data": {
      "text/plain": [
       "[array([ 0.96034745,  2.88240132,  4.28726087, -0.63905436, -5.        ]),\n",
       " array([-1.48017372,  6.        , -5.        ]),\n",
       " array([-2.])]"
      ]
     },
     "execution_count": 9,
     "metadata": {},
     "output_type": "execute_result"
    }
   ],
   "source": [
    "x_agents"
   ]
  },
  {
   "cell_type": "code",
   "execution_count": 10,
   "id": "71c3dcea",
   "metadata": {},
   "outputs": [
    {
     "data": {
      "text/plain": [
       "(array([ 1.        ,  2.81656147,  4.43089021, -0.77164592, -5.        ]),\n",
       " array([-1.5,  6. , -5. ]),\n",
       " array([-2.]))"
      ]
     },
     "execution_count": 10,
     "metadata": {},
     "output_type": "execute_result"
    }
   ],
   "source": [
    "x1.value, x2.value, x3.value"
   ]
  },
  {
   "cell_type": "markdown",
   "id": "8f662d83",
   "metadata": {},
   "source": [
    "# $L^k, \\quad h^\\star, \\quad U^k$"
   ]
  },
  {
   "cell_type": "code",
   "execution_count": 11,
   "id": "37458766",
   "metadata": {},
   "outputs": [
    {
     "data": {
      "text/plain": [
       "(3.3547859782238296, 3.354785977927074, 3.38512111571562)"
      ]
     },
     "execution_count": 11,
     "metadata": {},
     "output_type": "execute_result"
    }
   ],
   "source": [
    "prob.lower_bnd[-1], cvx_prob.value, prob.upper_bnd[-1]"
   ]
  }
 ],
 "metadata": {
  "kernelspec": {
   "display_name": "Python 3 (ipykernel)",
   "language": "python",
   "name": "python3"
  },
  "language_info": {
   "codemirror_mode": {
    "name": "ipython",
    "version": 3
   },
   "file_extension": ".py",
   "mimetype": "text/x-python",
   "name": "python",
   "nbconvert_exporter": "python",
   "pygments_lexer": "ipython3",
   "version": "3.8.8"
  }
 },
 "nbformat": 4,
 "nbformat_minor": 5
}
