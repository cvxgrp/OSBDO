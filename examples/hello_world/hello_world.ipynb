{
 "cells": [
  {
   "cell_type": "code",
   "execution_count": 1,
   "id": "1a9a012e",
   "metadata": {
    "scrolled": true
   },
   "outputs": [],
   "source": [
    "import cvxpy as cp\n",
    "import numpy as np\n",
    "import osbdo as ob"
   ]
  },
  {
   "attachments": {},
   "cell_type": "markdown",
   "id": "2193880f",
   "metadata": {},
   "source": [
    "# Hello world example\n",
    "$$\\begin{array}{ll}\n",
    "\\mbox{minimize } &\\left((1/2)x_1^TP_1x_1+q_1^Tx_1+r_1\\right)+\\left(c_2^Tx_2+d_2\\right)+\\left((1/2)x_3^TP_3x_3+q_3^Tx_3+r_3\\right)\\\\\n",
    "\\mbox{subject to }&l_1\\leq x_1\\leq u_1\\\\\n",
    "&l_2\\leq x_2\\leq u_2\\\\\n",
    "&l_3\\leq x_3\\leq u_3\\\\\n",
    "&(x_{1})_1+2(x_2)_1=(x_3)_1\n",
    "\\end{array}$$"
   ]
  },
  {
   "attachments": {},
   "cell_type": "markdown",
   "id": "7aae87b1",
   "metadata": {},
   "source": [
    "# Describe each $f_i$ in a class `Agent_i(osbdo.Agent)`"
   ]
  },
  {
   "cell_type": "code",
   "execution_count": 2,
   "id": "589ffaed",
   "metadata": {},
   "outputs": [],
   "source": [
    "class AffineAgent(ob.Agent):\n",
    "    \"\"\"\n",
    "       objective: c^T x + d\n",
    "    \"\"\"    \n",
    "    def _construct_params(self):\n",
    "        self.c = self.params['c']\n",
    "        self.d = self.params['d']\n",
    "        \n",
    "    def query(self, *, v, solver):\n",
    "        return ob.Point(x=v, q=self.c, f=(self.c.T@v+self.d).sum())\n",
    "    \n",
    "    def get_init_minorant(self):\n",
    "        var = cp.Variable(self.dim)\n",
    "        prob = cp.Problem(cp.Minimize(self.c.T@var+self.d),[var<=self.upb, var>=self.lwb])\n",
    "        prob.solve()\n",
    "        self.lwb_const = prob.value\n",
    "        return cp.Constant(prob.value)\n",
    "\n",
    "            \n",
    "class QuadraticAgent(ob.Agent):\n",
    "    \"\"\"\n",
    "       objective:(1/2) x^T P x + q^T x + r\n",
    "    \"\"\"\n",
    "    def _construct_params(self):\n",
    "        self.P = self.params['P']\n",
    "        self.q = self.params['q']\n",
    "        self.r = self.params['r']\n",
    "\n",
    "    def query(self, *, v, solver):\n",
    "        return ob.Point(x=v, q=self.P@v+self.q, f=(0.5*v.T@self.P@v+self.q.T@v+self.r).sum())\n",
    "    \n",
    "    def get_init_minorant(self):\n",
    "        var = cp.Variable(self.dim)\n",
    "        prob = cp.Problem(cp.Minimize(0.5*cp.quad_form(var,self.P)+self.q.T@var+self.r),\\\n",
    "                                                                    [var<=self.upb, var>=self.lwb])\n",
    "        prob.solve()\n",
    "        self.lwb_const = prob.value\n",
    "        return cp.Constant(prob.value)"
   ]
  },
  {
   "attachments": {},
   "cell_type": "markdown",
   "id": "8fd2403c",
   "metadata": {},
   "source": [
    "### Create 3 agents"
   ]
  },
  {
   "attachments": {},
   "cell_type": "markdown",
   "id": "6dbf6a0e",
   "metadata": {},
   "source": [
    "The public variables have size $x_1  \\in {\\mathbf R}^5,~ x_2 \\in {\\mathbf R}^3,~ x_3 \\in {\\mathbf R}$."
   ]
  },
  {
   "cell_type": "code",
   "execution_count": 3,
   "id": "a3eddb08",
   "metadata": {},
   "outputs": [],
   "source": [
    "# define agent 1\n",
    "P = np.random.rand(5,5)\n",
    "P1 = P.T@P\n",
    "params1 = {'dimension':5, 'lower_bound':np.array([-2,-3,2,-6,-10]), 'upper_bound':np.array([1,3,6,9,-5]),\n",
    "          'P': P1, 'q':np.random.rand(5), 'r':np.random.rand()}\n",
    "tetiana = QuadraticAgent(params1)\n",
    "\n",
    "# define agent 2\n",
    "params2 = {'dimension':3, 'lower_bound':np.array([-2,6,-5]), 'upper_bound':np.array([5,10,-1]), \n",
    "          'c':np.random.rand(3), 'd':np.random.rand()}\n",
    "fangzhao = AffineAgent(params2)\n",
    "\n",
    "# define agent 3\n",
    "P = np.random.rand(1,1)\n",
    "P3 = P.T@P\n",
    "params3 = {'dimension':1, 'lower_bound': np.array([-2]), 'upper_bound': np.array([17]),\n",
    "          'P': P3, 'q': np.random.rand(1), 'r': np.random.rand()}\n",
    "stephen = QuadraticAgent(params3)"
   ]
  },
  {
   "cell_type": "code",
   "execution_count": 4,
   "id": "b99afb74",
   "metadata": {},
   "outputs": [],
   "source": [
    "agents = [tetiana, fangzhao, stephen]"
   ]
  },
  {
   "attachments": {},
   "cell_type": "markdown",
   "id": "f6b0f68e",
   "metadata": {},
   "source": [
    "# Coupling"
   ]
  },
  {
   "cell_type": "code",
   "execution_count": 5,
   "id": "068e7fa9",
   "metadata": {},
   "outputs": [],
   "source": [
    "domain = [tetiana.x[0] + 2 * fangzhao.x[0] == stephen.x]\n",
    "g = ob.Coupling(agents=agents, \\\n",
    "                function = cp.Constant(0), domain = domain)"
   ]
  },
  {
   "attachments": {},
   "cell_type": "markdown",
   "id": "8a39c52c",
   "metadata": {},
   "source": [
    "# Problem"
   ]
  },
  {
   "cell_type": "code",
   "execution_count": 6,
   "id": "0389ee0d",
   "metadata": {},
   "outputs": [],
   "source": [
    "prob = ob.Problem(agents = agents, g = g)"
   ]
  },
  {
   "attachments": {},
   "cell_type": "markdown",
   "id": "9e40642f",
   "metadata": {},
   "source": [
    "# Solve problem"
   ]
  },
  {
   "cell_type": "code",
   "execution_count": 7,
   "id": "d0c23a61",
   "metadata": {
    "scrolled": false
   },
   "outputs": [
    {
     "name": "stdout",
     "output_type": "stream",
     "text": [
      "k=0, rel_gap=2.9838230923369116, L=5.112779881297483, U=20.368410557148486, L0=5.112779881297483\n",
      "k=1, rel_gap=2.8483646707700916, L=5.292744399161265, U=20.368410557148486, L0=5.292744399161265\n",
      "k=2, rel_gap=2.8043138969201684, L=5.29274439988923, U=20.135261073344996, L0=5.29274439988923\n",
      "k=3, rel_gap=1.8122031220997188, L=5.29274439988923, U=14.884272325844295, L0=5.292744399040429\n"
     ]
    },
    {
     "name": "stdout",
     "output_type": "stream",
     "text": [
      "k=4, rel_gap=1.280956738770169, L=5.380411429785339, U=12.27248570812491, L0=5.380411429785339\n",
      "k=5, rel_gap=0.8001075647459097, L=5.562411684500406, U=10.012939351500219, L0=5.562411684500406\n",
      "k=6, rel_gap=0.5468747432495842, L=5.606328930237508, U=8.672288624533861, L0=5.606328930237508\n",
      "k=7, rel_gap=0.31812884084839677, L=5.755223365865451, U=7.586125904071835, L0=5.755223365865451\n",
      "k=8, rel_gap=0.18605746247102845, L=5.793787959725707, U=6.871765445607469, L0=5.793787959725707\n",
      "k=9, rel_gap=0.10426960027407321, L=5.830301497374655, U=6.4382247039832405, L0=5.830301497374655\n",
      "k=10, rel_gap=0.09848540457630436, L=5.861001591064855, U=6.4382247039832405, L0=5.861001591064855\n",
      "k=11, rel_gap=0.061642389922367466, L=5.868201391306227, U=6.229931349612105, L0=5.868201391306227\n",
      "k=12, rel_gap=0.03562680561347408, L=5.874905469679945, U=6.084209584845768, L0=5.874905469679945\n",
      "k=13, rel_gap=0.02338794426376355, L=5.874905469679945, U=6.012307431359699, L0=5.87490546899669\n",
      "k=14, rel_gap=0.013814071328126086, L=5.87760313806802, U=5.958796767055709, L0=5.87760313806802\n",
      "k=15, rel_gap=0.007184565704648037, L=5.881385480405349, U=5.923640680823684, L0=5.881385480405349\n",
      "rel_gap=0.007184565704648037, L=5.881385480405349, U=5.923640680823684\n"
     ]
    }
   ],
   "source": [
    "x_agents, x_global = prob.solve()"
   ]
  },
  {
   "attachments": {},
   "cell_type": "markdown",
   "id": "a37187bc",
   "metadata": {},
   "source": [
    "# Centralized solution"
   ]
  },
  {
   "cell_type": "code",
   "execution_count": 8,
   "id": "a726e334",
   "metadata": {},
   "outputs": [
    {
     "data": {
      "text/plain": [
       "5.883623195911768"
      ]
     },
     "execution_count": 8,
     "metadata": {},
     "output_type": "execute_result"
    }
   ],
   "source": [
    "x1 = cp.Variable(5)\n",
    "x2 = cp.Variable(3)\n",
    "x3 = cp.Variable(1)\n",
    "\n",
    "f1 = 0.5 * cp.quad_form(x1,params1['P']) + params1['q'].T@x1 + params1['r']\n",
    "f2 = params2['c'].T@x2 + params2['d']\n",
    "f3 = 0.5 * cp.quad_form(x3,params3['P']) + params3['q'].T@x3 + params3['r']\n",
    "\n",
    "constr1 = [x1 >= params1['lower_bound'], x1 <= params1['upper_bound']]\n",
    "constr2 = [x2 >= params2['lower_bound'], x2 <= params2['upper_bound']]\n",
    "constr3 = [x3 >= params3['lower_bound'], x3 <= params3['upper_bound']]\n",
    "constr4 = [x1[0] + 2*x2[0] == x3]\n",
    "\n",
    "cvx_prob = cp.Problem(cp.Minimize(f1+f2+f3), constr1+constr2+constr3+constr4)\n",
    "cvx_prob.solve()"
   ]
  },
  {
   "attachments": {},
   "cell_type": "markdown",
   "id": "6a7efc49",
   "metadata": {},
   "source": [
    "# Comparison"
   ]
  },
  {
   "cell_type": "code",
   "execution_count": 9,
   "id": "8c5f54b8",
   "metadata": {},
   "outputs": [
    {
     "data": {
      "text/plain": [
       "[array([-1.99202073,  2.8980713 ,  2.1523286 ,  0.74561374, -5.        ]),\n",
       " array([-3.98963339e-03,  6.00000000e+00, -4.89726857e+00]),\n",
       " array([-2.])]"
      ]
     },
     "execution_count": 9,
     "metadata": {},
     "output_type": "execute_result"
    }
   ],
   "source": [
    "x_agents"
   ]
  },
  {
   "cell_type": "code",
   "execution_count": 10,
   "id": "71c3dcea",
   "metadata": {},
   "outputs": [
    {
     "data": {
      "text/plain": [
       "(array([-2.        ,  2.91899752,  2.19170551,  0.72887879, -5.        ]),\n",
       " array([-3.09666421e-17,  6.00000000e+00, -5.00000000e+00]),\n",
       " array([-2.]))"
      ]
     },
     "execution_count": 10,
     "metadata": {},
     "output_type": "execute_result"
    }
   ],
   "source": [
    "x1.value, x2.value, x3.value"
   ]
  },
  {
   "attachments": {},
   "cell_type": "markdown",
   "id": "8f662d83",
   "metadata": {},
   "source": [
    "# $L^k, \\quad h^\\star, \\quad U^k$"
   ]
  },
  {
   "cell_type": "code",
   "execution_count": 11,
   "id": "37458766",
   "metadata": {},
   "outputs": [
    {
     "data": {
      "text/plain": [
       "(5.881385480405349, 5.883623195911768, 5.923640680823684)"
      ]
     },
     "execution_count": 11,
     "metadata": {},
     "output_type": "execute_result"
    }
   ],
   "source": [
    "prob.lower_bnd[-1], cvx_prob.value, prob.upper_bnd[-1]"
   ]
  }
 ],
 "metadata": {
  "kernelspec": {
   "display_name": "Python 3 (ipykernel)",
   "language": "python",
   "name": "python3"
  },
  "language_info": {
   "codemirror_mode": {
    "name": "ipython",
    "version": 3
   },
   "file_extension": ".py",
   "mimetype": "text/x-python",
   "name": "python",
   "nbconvert_exporter": "python",
   "pygments_lexer": "ipython3",
   "version": "3.9.16"
  }
 },
 "nbformat": 4,
 "nbformat_minor": 5
}
