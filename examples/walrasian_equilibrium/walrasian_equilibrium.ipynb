{
 "cells": [
  {
   "cell_type": "markdown",
   "id": "8abd5cc2",
   "metadata": {},
   "source": [
    "We consider a pure exchange economy with $M$ agents and $n$ commodities.\n",
    "Each agent $i$ has an endowment $e_i \\in {\\bf{R}}_+^n$ and a utility \n",
    "function $U_i(r_i)$, where $U_i: {\\bf{R}}_+^n \\to {\\bf{R}}$ is a concave nondecreasing. These primitives define the exchange economy $\\mathcal{E}=\\left( (U_i, e_i)_{i \\in [M]}\\right)$. Denote the total endowment by $E = \\sum_{i=1}^M e_i$.\n",
    "\n",
    "\n",
    "**Walrasian equilibrium** for exchange economy $\\mathcal{E}$ is a vector $\\left( \\nu, (x_i)_{i \\in [M]}\\right)$, such that \n",
    "* every agent's consumption  $x_i\\in {\\bf{R}}^n$ maximizes her utility given prices $\\nu \\in {\\bf{R}}_+^n$\n",
    "$$\n",
    "\\begin{array}{ll}\n",
    "\\mbox{maximize} & U_i(x_i)  \\\\\n",
    "\\mbox{subject to} & \\nu^T x_i \\leq \\nu^T e_i \\\\\n",
    "& x_i \\geq  0,\n",
    "\\end{array}\n",
    "$$\n",
    "* markets clear $\\sum_{i=1}^M x_i \\leq \\sum_{i=1}^M e_i=E$.\n",
    "\n",
    "The goal of this notebook is to see the performance of OSBDO when applied to the action directed Walrasian Equilibrium (over primal variables $x_1, \\ldots, x_M$) and price directed Walrasian Equilibrium (over dual variable $\\nu$). This corresponds to the primal formulation of the problem, given by\n",
    "$$\n",
    "\\begin{array}{ll}\n",
    "\\mbox{minimize} & \\sum_{i=1}^M -U_i(x_i)  \\\\\n",
    "\\mbox{subject to} & \\sum_{i=1}^M x_i = E \\\\\n",
    "& x_i  \\geq 0, \\quad i=1,\\ldots, M,\n",
    "\\end{array}\n",
    "$$\n",
    "and negated dual formulation of the problem, given by  \n",
    "$$\n",
    "\\begin{array}{ll}\n",
    "\\mbox{minimize} & \\sum_{i=1}^M \\underset{x_i\\geq 0}{\\max} \\left(\n",
    " U_i(x_i) - \\nu_i^Tx_i \n",
    "\\right ) + \\nu_1^T E   \\\\\n",
    "\\mbox{subject to} & \\nu_1=\\cdots=\\nu_M.\n",
    "\\end{array}\n",
    "$$\n"
   ]
  },
  {
   "cell_type": "code",
   "execution_count": 1,
   "id": "1a9a012e",
   "metadata": {
    "scrolled": true
   },
   "outputs": [],
   "source": [
    "import cvxpy as cp\n",
    "import numpy as np\n",
    "import osbdo as ob\n",
    "import random\n",
    "\n",
    "from scipy import stats\n",
    "import time\n",
    "from scipy import stats"
   ]
  },
  {
   "cell_type": "code",
   "execution_count": 2,
   "id": "d117fd45",
   "metadata": {},
   "outputs": [],
   "source": [
    "import matplotlib.pyplot as plt"
   ]
  },
  {
   "cell_type": "code",
   "execution_count": 3,
   "id": "3ab15f8c",
   "metadata": {},
   "outputs": [],
   "source": [
    "def get_rel_diff(a,b):\n",
    "    return np.linalg.norm(a-b) / min(np.linalg.norm(a), np.linalg.norm(b)) "
   ]
  },
  {
   "cell_type": "code",
   "execution_count": 4,
   "id": "a630280e",
   "metadata": {},
   "outputs": [],
   "source": [
    "def check_subgrads(agent, ntimes):\n",
    "    l, u = agent.lwb, agent.upb\n",
    "    n = agent.dim\n",
    "    for _ in range(ntimes):\n",
    "        v = l + np.multiply(np.random.rand(n), u-l)\n",
    "        point = agent.query(v=v)\n",
    "        linear = lambda x: point.f + point.q @ (x - point.x)\n",
    "        for _ in range(10):\n",
    "            test = l + np.multiply(np.random.rand(n), u-l)\n",
    "            a = linear(test)\n",
    "            b = agent.query(v=test).f + 10**(-6)\n",
    "            assert a <= b, print(a, b, b-a)\n",
    "    print(\"passed\")"
   ]
  },
  {
   "cell_type": "markdown",
   "id": "51d8b008",
   "metadata": {},
   "source": [
    "# Create instance of the problem"
   ]
  },
  {
   "cell_type": "code",
   "execution_count": 5,
   "id": "b472629d",
   "metadata": {},
   "outputs": [],
   "source": [
    "# fix seed for reproducibility\n",
    "np.random.rand(1001)\n",
    "random.seed(1001)"
   ]
  },
  {
   "cell_type": "code",
   "execution_count": 6,
   "id": "58b7b590",
   "metadata": {},
   "outputs": [],
   "source": [
    "M = 50\n",
    "\n",
    "params, R = ob.ra_params(num_resources=M, num_agents=M, num_participants=M)"
   ]
  },
  {
   "cell_type": "code",
   "execution_count": 7,
   "id": "ea63b7bb",
   "metadata": {},
   "outputs": [],
   "source": [
    "E = R\n",
    "n = params[0]['dimension']"
   ]
  },
  {
   "cell_type": "code",
   "execution_count": 8,
   "id": "376df2c7",
   "metadata": {},
   "outputs": [],
   "source": [
    "for j in range(n):\n",
    "    count = 0\n",
    "    for i in range(M):\n",
    "        A = params[i][\"A_list\"][0]\n",
    "        if A[0,j] > 0:\n",
    "            count += 1\n",
    "    assert count > 0"
   ]
  },
  {
   "cell_type": "markdown",
   "id": "5b928e6f",
   "metadata": {},
   "source": [
    "# Centralized solution"
   ]
  },
  {
   "cell_type": "code",
   "execution_count": 9,
   "id": "ecbbd6b6",
   "metadata": {},
   "outputs": [
    {
     "name": "stdout",
     "output_type": "stream",
     "text": [
      "elapsed time =  1.9086570739746094\n",
      "h_cvx = -385.98249200224524\n"
     ]
    }
   ],
   "source": [
    "dim = params[0]['dimension']\n",
    "z = cp.Variable(len(params)*dim)\n",
    "num_agents = len(params)\n",
    "constraints = []\n",
    "f = 0\n",
    "xi_list = []\n",
    "start = time.time()\n",
    "for i in range(num_agents):\n",
    "    xi = z[(i*dim):((i+1)*dim)]\n",
    "    X = cp.Variable((len(params[i]['A_list']), dim))\n",
    "    for j in range(len(params[i]['A_list'])):\n",
    "        f += -cp.geo_mean(params[i]['A_list'][j] @ X[j].T + params[i]['b_list'][j])\n",
    "    constraints += [cp.sum(X,axis=0) <= xi, \\\n",
    "                    X>=0, \\\n",
    "                    xi<=params[i]['upper_bound'], \n",
    "                    xi>=params[i]['lower_bound']]\n",
    "    xi_list.append(xi)\n",
    "constraints += [sum(xi_list)==R]\n",
    "prob_cvx = cp.Problem(cp.Minimize(f), constraints)\n",
    "prob_cvx.solve(solver='ECOS')\n",
    "print(f\"elapsed time =  {time.time()-start}\")\n",
    "\n",
    "h_cvx, x_cvx = f.value, z.value\n",
    "nu_cvx = constraints[-1].dual_value\n",
    "print(f\"{h_cvx = }\")"
   ]
  },
  {
   "cell_type": "markdown",
   "id": "fe955a42",
   "metadata": {},
   "source": [
    "### Initial upper bound on $\\nu$\n",
    "$$\n",
    "\\nu^\\star_j \\leq \\nu_{\\max,j} ~=~ \\min_{i:{A_{i, \\cdot j}}\\neq 0 } \\quad \\left [ (1/m) \\mbox{geomean}(A_i E + b_i) ~ A_i^T b_i^{-1} \\right ]\n",
    "$$"
   ]
  },
  {
   "cell_type": "code",
   "execution_count": 10,
   "id": "d477c057",
   "metadata": {},
   "outputs": [],
   "source": [
    "nu_upb = np.inf * np.ones(n)\n",
    "m = params[0][\"A_list\"][0].shape[0]\n",
    "\n",
    "for i  in  range(M):\n",
    "    A = params[i][\"A_list\"][0]\n",
    "    b = params[i][\"b_list\"][0]\n",
    "    assert (A>=0).all() and (b>=0).all()\n",
    "    Ui = stats.mstats.gmean(A@E + b)\n",
    "    grad_i = (Ui/m) * A.T @ b**(-1)\n",
    "    \n",
    "    for j in range(n):\n",
    "        if A[0,j] > 0:\n",
    "            nu_upb[j] = min(nu_upb[j], grad_i[j])"
   ]
  },
  {
   "cell_type": "code",
   "execution_count": 11,
   "id": "edaae85b",
   "metadata": {},
   "outputs": [
    {
     "data": {
      "text/plain": [
       "(0.6719435124682612, 0.9362098681037011, 4.393557631961159, 27.033962137851475)"
      ]
     },
     "execution_count": 11,
     "metadata": {},
     "output_type": "execute_result"
    }
   ],
   "source": [
    "nu_cvx.min(), nu_cvx.max(), nu_upb.min(), nu_upb.max()"
   ]
  },
  {
   "cell_type": "code",
   "execution_count": 12,
   "id": "303e18e4",
   "metadata": {},
   "outputs": [],
   "source": [
    "assert (nu_cvx <= nu_upb + 10**(-8) ).all(), print(\"wrong bound on nu\")"
   ]
  },
  {
   "cell_type": "markdown",
   "id": "2193880f",
   "metadata": {},
   "source": [
    "# Action directed Walrasian equilibrium\n",
    "$$\n",
    "\\begin{array}{ll}\n",
    "\\mbox{minimize} & \\sum_{i=1}^M -U_i(x_i)  \\\\\n",
    "\\mbox{subject to} & \\sum_{i=1}^M x_i = E \\\\\n",
    "& x_i  \\geq 0, \\quad i=1,\\ldots, M,\n",
    "\\end{array}\n",
    "$$\n",
    "where $U_i(x_i)= \\left (\\prod_{k=1}^m (A_{i,k}x_{i} + b_{i,k})\\right)^{1/m}$.\n",
    "\n",
    "## OSBDO oracle-structured form \n",
    "We can solve the problem using OSBDO, by taking the agent function\n",
    "$$\n",
    "f_i(x_i) = -U_i(x_i),$$\n",
    "and the structured objective function $g$,\n",
    "$$\n",
    "g(x) = \\left\\{ \\begin{array}{ll} 0 &\n",
    "x_1 + \\cdots + x_M = E, \\quad x_i \\geq 0, \\quad i=1, \\ldots, M\\\\\n",
    "\\infty & \\mbox{otherwise}.\n",
    "\\end{array} \\right.\n",
    "$$"
   ]
  },
  {
   "cell_type": "code",
   "execution_count": 13,
   "id": "c911cffa",
   "metadata": {},
   "outputs": [],
   "source": [
    "rel_gap = 0.01"
   ]
  },
  {
   "cell_type": "markdown",
   "id": "5a9bcfaf",
   "metadata": {},
   "source": [
    "# OSBDO solution"
   ]
  },
  {
   "cell_type": "code",
   "execution_count": 14,
   "id": "652f6f4e",
   "metadata": {},
   "outputs": [],
   "source": [
    "agents = ob.ra_agents(params=params)\n",
    "\n",
    "domain = [sum([agents[i].x for i in range(len(agents))])==R]\n",
    "g = ob.Coupling(agents = agents, function = cp.Constant(0), domain = domain)\n",
    "\n",
    "prob = ob.Problem(agents = agents, g = g)"
   ]
  },
  {
   "cell_type": "code",
   "execution_count": 15,
   "id": "a97e7037",
   "metadata": {
    "scrolled": false
   },
   "outputs": [
    {
     "name": "stdout",
     "output_type": "stream",
     "text": [
      "k=0, rel_gap=28.831944548725165, L=-8210.58720837844, U=-275.22802594942846\n",
      "k=1, rel_gap=0.4397526002615963, L=-396.2602660255557, U=-275.22802594942846\n",
      "k=2, rel_gap=0.1783503150641179, L=-393.55716495570067, U=-333.9899518203005\n",
      "k=3, rel_gap=0.09148279561102253, L=-393.0767514662602, U=-360.13096408561535\n",
      "k=4, rel_gap=0.057592313173734436, L=-392.75915921187425, U=-371.3710418651221\n",
      "k=5, rel_gap=0.04494809511357782, L=-392.64529789778527, U=-375.7557908702707\n"
     ]
    },
    {
     "name": "stderr",
     "output_type": "stream",
     "text": [
      "/Users/parshakova.tanya/opt/anaconda3/envs/py38/lib/python3.8/site-packages/cvxpy/problems/problem.py:1333: UserWarning: Solution may be inaccurate. Try another solver, adjusting the solver settings, or solve with verbose=True for more information.\n",
      "  warnings.warn(\n"
     ]
    },
    {
     "name": "stdout",
     "output_type": "stream",
     "text": [
      "k=6, rel_gap=0.035492885476298336, L=-390.67718747834385, U=-377.286211192695\n",
      "k=7, rel_gap=0.02370395718872496, L=-388.3012763823935, U=-379.31012540846143\n",
      "k=8, rel_gap=0.01708723649302611, L=-388.2464137895395, U=-381.72380879366347\n",
      "k=9, rel_gap=0.014913835673589103, L=-388.2056573832333, U=-382.5010988500169\n",
      "k=10, rel_gap=0.011152736395849513, L=-386.9393012981778, U=-382.6714672971992\n",
      "k=11, rel_gap=0.007624467165450513, L=-386.9203101604063, U=-383.99257140792963\n",
      "elapsed time =  96.8302550315857\n"
     ]
    }
   ],
   "source": [
    "start = time.time()\n",
    "x_agent, x_global = prob.solve(rel_gap=rel_gap, abs_gap=10**(-3), max_iter=50)\n",
    "print(f\"elapsed time =  {time.time()-start}\")"
   ]
  },
  {
   "cell_type": "markdown",
   "id": "ff8d1da1",
   "metadata": {},
   "source": [
    "# $L^k, \\quad h^\\star, \\quad U^k$"
   ]
  },
  {
   "cell_type": "code",
   "execution_count": 16,
   "id": "8c3aadff",
   "metadata": {},
   "outputs": [
    {
     "data": {
      "text/plain": [
       "(-386.9203101604063, -385.98249200224524, -383.99257140792963)"
      ]
     },
     "execution_count": 16,
     "metadata": {},
     "output_type": "execute_result"
    }
   ],
   "source": [
    "prob.lower_bnd[-1], h_cvx, prob.upper_bnd[-1]"
   ]
  },
  {
   "cell_type": "markdown",
   "id": "1c011f51",
   "metadata": {},
   "source": [
    "## Plot"
   ]
  },
  {
   "cell_type": "code",
   "execution_count": 17,
   "id": "ba5373c2",
   "metadata": {},
   "outputs": [
    {
     "data": {
      "image/png": "[encoded data removed]",
      "text/plain": [
       "<Figure size 600x400 with 1 Axes>"
      ]
     },
     "metadata": {
      "needs_background": "light"
     },
     "output_type": "display_data"
    }
   ],
   "source": [
    "ob.plot_true_rel_gap_uk(lk = prob.lower_bnd, uk = prob.upper_bnd, h_true = h_cvx)"
   ]
  },
  {
   "cell_type": "markdown",
   "id": "681cc740",
   "metadata": {},
   "source": [
    "# Price directed Walrasian equilibrium\n",
    "$$\n",
    "\\begin{array}{ll}\n",
    "\\mbox{minimize} & \\sum_{i=1}^M \\underset{x_i\\geq 0}{\\max} \\left(\n",
    " U_i(x_i) - \\nu_i^Tx_i \n",
    "\\right ) + \\nu_1^T E   \\\\\n",
    "\\mbox{subject to} & \\nu_1=\\cdots=\\nu_M,\n",
    "\\end{array}\n",
    "$$\n",
    "where $U_i(x_i)= \\left (\\prod_{k=1}^m (A_{i,k}x_{i} + b_{i,k})\\right)^{1/m}$.\n",
    "\n",
    "## OSBDO oracle-structured form \n",
    "\n",
    "We can solve the problem in the dual variable using OSBDO, by taking the agent function\n",
    "$$\n",
    "f_i(\\nu_i) = \\underset{E \\geq x_i\\geq 0}{\\max} \\left(\n",
    " U_i(x_i) - \\nu_i^Tx_i \n",
    "\\right ),\n",
    "$$\n",
    "and $g$ the indicator function for consensus plus the total price for all  commodities,\n",
    "$$\n",
    "g(x) = \\left\\{ \\begin{array}{ll}  \\nu_1^T E & \\nu_1 = \\cdots = \\nu_M\\\\\n",
    "\\infty & \\mbox{otherwise}. \n",
    "\\end{array}\\right.\n",
    "$$\n",
    "Note that $f_i$ is convex as a pointwise supremum over linear functions in $\\nu_i$."
   ]
  },
  {
   "cell_type": "code",
   "execution_count": 18,
   "id": "589ffaed",
   "metadata": {},
   "outputs": [],
   "source": [
    "class GeoMeanConj(ob.Agent):\n",
    "    \"\"\"\n",
    "    fi(nu_i)  = \\max_{E\\geq x_i\\geq 0} ( U_i(x_i) - \\nu_i^Tx_i )\n",
    "    \"\"\"\n",
    "    def _construct_params(self):\n",
    "        self.A = self.params['A']\n",
    "        self.b = self.params['b']\n",
    "        self.E = self.params['E']\n",
    "        self.nu_max = self.params['nu_max']\n",
    "\n",
    "    def query(self, *, v, solver='ECOS'):\n",
    "        x = cp.Variable((self.dim), nonneg=True)\n",
    "        f = cp.geo_mean(self.A @ x + self.b) - v @ x\n",
    "        prob = cp.Problem(cp.Maximize(f), [x <= self.E])\n",
    "        prob.solve(solver=cp.MOSEK)\n",
    "        f = f.value\n",
    "        q = -x.value\n",
    "        return ob.Point(x=v, q=q, f=f)\n",
    "    \n",
    "    def get_init_minorant(self):\n",
    "        lwb = stats.mstats.gmean(self.b, axis=None) - self.E @ self.nu_max\n",
    "        return cp.Constant(lwb)\n",
    "    \n",
    "def get_total_obj(agents, xs):\n",
    "    obj = 0\n",
    "    for agent in agents:\n",
    "        obj += stats.mstats.gmean(agent.A @ xs[i] + agent.b, axis=None)\n",
    "    return -obj"
   ]
  },
  {
   "cell_type": "code",
   "execution_count": 19,
   "id": "fdba35cb",
   "metadata": {},
   "outputs": [],
   "source": [
    "agents = [0]*M\n",
    "nu_params = []\n",
    "for i  in  range(M): \n",
    "    nu_params += [{ 'dimension':n, \n",
    "                    'lower_bound':0, \n",
    "                    'upper_bound':None,\n",
    "                    'nu_max':nu_upb,\n",
    "                    'E':E,\n",
    "                    'A':params[i][\"A_list\"][0],\n",
    "                    'b':params[i][\"b_list\"][0]}]\n",
    "    \n",
    "    agents[i] = GeoMeanConj(nu_params[i])"
   ]
  },
  {
   "cell_type": "code",
   "execution_count": 20,
   "id": "29f25cb9",
   "metadata": {},
   "outputs": [],
   "source": [
    "domain = [agents[0].x == agent.x for agent in agents[1:]]\n",
    "\n",
    "g = ob.Coupling(agents = agents, function = agents[0].x @ E, domain = domain)"
   ]
  },
  {
   "cell_type": "code",
   "execution_count": 21,
   "id": "2efeb5a7",
   "metadata": {},
   "outputs": [],
   "source": [
    "prob = ob.Problem(agents = agents, g = g)"
   ]
  },
  {
   "cell_type": "markdown",
   "id": "eb8c4fec",
   "metadata": {},
   "source": [
    "# OSBDO solution"
   ]
  },
  {
   "cell_type": "code",
   "execution_count": 22,
   "id": "cd641c95",
   "metadata": {
    "scrolled": false
   },
   "outputs": [
    {
     "name": "stdout",
     "output_type": "stream",
     "text": [
      "k=0, rel_gap=inf, L=-269522.3640565145, U=8210.587111130264\n",
      "k=1, rel_gap=inf, L=-263936.39138620044, U=8210.587111130264\n",
      "k=2, rel_gap=inf, L=-174755.1053151682, U=2879.3656630675605\n",
      "get_hat_h_star ECOS fail\n",
      "k=3, rel_gap=inf, L=-172721.90163117473, U=2879.3656630675605\n",
      "k=4, rel_gap=17.10119895518521, L=159.07043893591074, U=2879.3656630675605\n",
      "k=5, rel_gap=6.4315483301472804, L=207.42799902705332, U=1541.51119979529\n"
     ]
    },
    {
     "name": "stderr",
     "output_type": "stream",
     "text": [
      "/Users/parshakova.tanya/opt/anaconda3/envs/py38/lib/python3.8/site-packages/cvxpy/problems/problem.py:1333: UserWarning: Solution may be inaccurate. Try another solver, adjusting the solver settings, or solve with verbose=True for more information.\n",
      "  warnings.warn(\n"
     ]
    },
    {
     "name": "stdout",
     "output_type": "stream",
     "text": [
      "k=6, rel_gap=2.9772559185495413, L=229.40080673804908, U=912.3857163189452\n",
      "k=7, rel_gap=1.5336421604830144, L=247.30877110993057, U=626.5919291413638\n",
      "k=8, rel_gap=0.8717630579059492, L=276.5624213639439, U=517.6593235140492\n",
      "k=9, rel_gap=0.3697380557860683, L=317.28464859190035, U=434.5968576930355\n",
      "k=10, rel_gap=0.17348368726348348, L=338.22962700521555, U=396.90694983983303\n",
      "k=11, rel_gap=0.04584063827284075, L=379.5099705585233, U=396.90694983983303\n",
      "k=12, rel_gap=0.024322008659230426, L=380.85360325363695, U=390.116727889871\n",
      "k=13, rel_gap=0.010937077970649342, L=383.53483596869637, U=387.7295863741462\n",
      "k=14, rel_gap=0.004536027537956251, L=385.1248084785008, U=386.87174521530943\n",
      "elapsed time =  115.58061790466309\n"
     ]
    }
   ],
   "source": [
    "start = time.time()\n",
    "x_agent, x_global = prob.solve(rel_gap=rel_gap, abs_gap=10**(-3), max_iter=50, \\\n",
    "                               solver=\"OSQP\")\n",
    "print(f\"elapsed time =  {time.time()-start}\")"
   ]
  },
  {
   "cell_type": "markdown",
   "id": "e27d97ce",
   "metadata": {},
   "source": [
    "# $L^k, \\quad h^\\star, \\quad U^k$"
   ]
  },
  {
   "cell_type": "code",
   "execution_count": 23,
   "id": "2852a1a6",
   "metadata": {},
   "outputs": [
    {
     "data": {
      "text/plain": [
       "(385.1248084785008, 385.98249200224524, 386.87174521530943)"
      ]
     },
     "execution_count": 23,
     "metadata": {},
     "output_type": "execute_result"
    }
   ],
   "source": [
    "prob.lower_bnd[-1], -h_cvx, prob.upper_bnd[-1]"
   ]
  },
  {
   "cell_type": "code",
   "execution_count": 24,
   "id": "b3c7659d",
   "metadata": {
    "scrolled": false
   },
   "outputs": [
    {
     "data": {
      "image/png": "[encoded data removed]",
      "text/plain": [
       "<Figure size 600x400 with 1 Axes>"
      ]
     },
     "metadata": {
      "needs_background": "light"
     },
     "output_type": "display_data"
    }
   ],
   "source": [
    "ob.plot_true_rel_gap_uk(lk = -np.array(prob.upper_bnd), uk = -np.array(prob.lower_bnd), h_true = h_cvx)"
   ]
  }
 ],
 "metadata": {
  "kernelspec": {
   "display_name": "Python 3 (ipykernel)",
   "language": "python",
   "name": "python3"
  },
  "language_info": {
   "codemirror_mode": {
    "name": "ipython",
    "version": 3
   },
   "file_extension": ".py",
   "mimetype": "text/x-python",
   "name": "python",
   "nbconvert_exporter": "python",
   "pygments_lexer": "ipython3",
   "version": "3.8.8"
  }
 },
 "nbformat": 4,
 "nbformat_minor": 5
}
