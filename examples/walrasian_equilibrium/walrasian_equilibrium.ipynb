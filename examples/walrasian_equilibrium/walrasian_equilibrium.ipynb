{
 "cells": [
  {
   "cell_type": "markdown",
   "id": "8abd5cc2",
   "metadata": {},
   "source": [
    "We consider a pure exchange economy with $N$ agents and $n$ commodities.\n",
    "Each agent $i$ has an endowment $e_i \\in {\\bf{R}}_+^n$ and a utility \n",
    "function $U_i(r_i)$, where $U_i: {\\bf{R}}_+^n \\to {\\bf{R}}$ is a concave nondecreasing. These primitives define the exchange economy $\\mathcal{E}=\\left( (U_i, e_i)_{i \\in [N]}\\right)$. Denote the total endowment by $E = \\sum_{i=1}^N e_i$.\n",
    "\n",
    "\n",
    "**Walrasian equilibrium** for exchange economy $\\mathcal{E}$ is a vector $\\left( \\nu, (x_i)_{i \\in [N]}\\right)$, such that \n",
    "* every agent's consumption  $x_i\\in {\\bf{R}}^n$ maximizes her utility given prices $\\nu \\in {\\bf{R}}_+^n$\n",
    "$$\n",
    "\\begin{array}{ll}\n",
    "\\mbox{maximize} & U_i(x_i)  \\\\\n",
    "\\mbox{subject to} & \\nu^T x_i \\leq \\nu^T e_i \\\\\n",
    "& x_i \\geq  0,\n",
    "\\end{array}\n",
    "$$\n",
    "* markets clear $\\sum_{i=1}^N x_i \\leq \\sum_{i=1}^N e_i=E$.\n",
    "\n",
    "The goal of this notebook is to see the performance of OSBDO when applied to the action directed Walrasian Equilibrium (over primal variables $x_1, \\ldots, x_N$) and price directed Walrasian Equilibrium (over dual variable $\\nu$). This corresponds to the primal formulation of the problem, given by\n",
    "$$\n",
    "\\begin{array}{ll}\n",
    "\\mbox{minimize} & \\sum_{i=1}^N -U_i(x_i)  \\\\\n",
    "\\mbox{subject to} & \\sum_{i=1}^N x_i = E \\\\\n",
    "& x_i  \\geq 0, \\quad i=1,\\ldots, N,\n",
    "\\end{array}\n",
    "$$\n",
    "and negated dual formulation of the problem, given by  \n",
    "$$\n",
    "\\begin{array}{ll}\n",
    "\\mbox{minimize} & \\sum_{i=1}^N \\underset{x_i\\geq 0}{\\max} \\left(\n",
    " U_i(x_i) - \\nu_i^Tx_i \n",
    "\\right ) + \\nu_1^T E   \\\\\n",
    "\\mbox{subject to} & \\nu_1=\\cdots=\\nu_N.\n",
    "\\end{array}\n",
    "$$\n"
   ]
  },
  {
   "cell_type": "code",
   "execution_count": 1,
   "id": "1a9a012e",
   "metadata": {
    "scrolled": true
   },
   "outputs": [],
   "source": [
    "import cvxpy as cp\n",
    "import numpy as np\n",
    "import osbdo as ob\n",
    "\n",
    "from scipy import stats\n",
    "import time\n",
    "from scipy import stats"
   ]
  },
  {
   "cell_type": "code",
   "execution_count": 2,
   "id": "d117fd45",
   "metadata": {},
   "outputs": [],
   "source": [
    "import matplotlib.pyplot as plt"
   ]
  },
  {
   "cell_type": "code",
   "execution_count": 3,
   "id": "3ab15f8c",
   "metadata": {},
   "outputs": [],
   "source": [
    "def get_rel_diff(a,b):\n",
    "    return np.linalg.norm(a-b) / min(np.linalg.norm(a), np.linalg.norm(b)) "
   ]
  },
  {
   "cell_type": "code",
   "execution_count": 4,
   "id": "a630280e",
   "metadata": {},
   "outputs": [],
   "source": [
    "def check_subgrads(agent, ntimes):\n",
    "    l, u = agent.lwb, agent.upb\n",
    "    n = agent.dim\n",
    "    for _ in range(ntimes):\n",
    "        v = l + np.multiply(np.random.rand(n), u-l)\n",
    "        point = agent.query(v=v)\n",
    "        linear = lambda x: point.f + point.q @ (x - point.x)\n",
    "        for _ in range(10):\n",
    "            test = l + np.multiply(np.random.rand(n), u-l)\n",
    "            a = linear(test)\n",
    "            b = agent.query(v=test).f + 10**(-6)\n",
    "            assert a <= b, print(a, b, b-a)\n",
    "    print(\"passed\")"
   ]
  },
  {
   "cell_type": "markdown",
   "id": "51d8b008",
   "metadata": {},
   "source": [
    "# Create instance of the problem"
   ]
  },
  {
   "cell_type": "code",
   "execution_count": 5,
   "id": "58b7b590",
   "metadata": {},
   "outputs": [],
   "source": [
    "N = 50\n",
    "\n",
    "params, R = ob.ra_params(num_resources=N, num_agents=N, num_participants=N)"
   ]
  },
  {
   "cell_type": "code",
   "execution_count": 6,
   "id": "ea63b7bb",
   "metadata": {},
   "outputs": [],
   "source": [
    "E = R\n",
    "n = params[0]['dimension']"
   ]
  },
  {
   "cell_type": "code",
   "execution_count": 7,
   "id": "376df2c7",
   "metadata": {},
   "outputs": [],
   "source": [
    "for j in range(n):\n",
    "    count = 0\n",
    "    for i in range(N):\n",
    "        A = params[i][\"A_list\"][0]\n",
    "        if A[0,j] > 0:\n",
    "            count += 1\n",
    "    assert count > 0"
   ]
  },
  {
   "cell_type": "markdown",
   "id": "5b928e6f",
   "metadata": {},
   "source": [
    "# Centralized solution"
   ]
  },
  {
   "cell_type": "code",
   "execution_count": 8,
   "id": "ecbbd6b6",
   "metadata": {},
   "outputs": [
    {
     "name": "stdout",
     "output_type": "stream",
     "text": [
      "elapsed time =  1.2062928676605225\n",
      "h_cvx = -467.79716766696\n"
     ]
    }
   ],
   "source": [
    "dim = params[0]['dimension']\n",
    "z = cp.Variable(len(params)*dim)\n",
    "num_agents = len(params)\n",
    "constraints = []\n",
    "f = 0\n",
    "xi_list = []\n",
    "start = time.time()\n",
    "for i in range(num_agents):\n",
    "    xi = z[(i*dim):((i+1)*dim)]\n",
    "    X = cp.Variable((len(params[i]['A_list']), dim))\n",
    "    for j in range(len(params[i]['A_list'])):\n",
    "        f += -cp.geo_mean(params[i]['A_list'][j] @ X[j].T + params[i]['b_list'][j])\n",
    "    constraints += [cp.sum(X,axis=0) <= xi, \\\n",
    "                    X>=0, \\\n",
    "                    xi<=params[i]['upper_bound'], \n",
    "                    xi>=params[i]['lower_bound']]\n",
    "    xi_list.append(xi)\n",
    "constraints += [sum(xi_list)==R]\n",
    "prob_cvx = cp.Problem(cp.Minimize(f), constraints)\n",
    "prob_cvx.solve(solver='ECOS')\n",
    "print(f\"elapsed time =  {time.time()-start}\")\n",
    "\n",
    "h_cvx, x_cvx = f.value, z.value\n",
    "nu_cvx = constraints[-1].dual_value\n",
    "print(f\"{h_cvx = }\")"
   ]
  },
  {
   "cell_type": "markdown",
   "id": "fe955a42",
   "metadata": {},
   "source": [
    "### Initial upper bound on $\\nu$\n",
    "$$\n",
    "\\nu^\\star_j \\leq \\nu_{\\max,j} ~=~ \\min_{i:{A_{i, \\cdot j}}\\neq 0 } \\quad \\left [ (1/m) \\mbox{geomean}(A_i E + b_i) ~ A_i^T b_i^{-1} \\right ]\n",
    "$$"
   ]
  },
  {
   "cell_type": "code",
   "execution_count": 9,
   "id": "d477c057",
   "metadata": {},
   "outputs": [],
   "source": [
    "nu_upb = np.inf * np.ones(n)\n",
    "m = params[0][\"A_list\"][0].shape[0]\n",
    "\n",
    "for i  in  range(N):\n",
    "    A = params[i][\"A_list\"][0]\n",
    "    b = params[i][\"b_list\"][0]\n",
    "    assert (A>=0).all() and (b>=0).all()\n",
    "    Ui = stats.mstats.gmean(A@E + b)\n",
    "    grad_i = (Ui/m) * A.T @ b**(-1)\n",
    "    \n",
    "    for j in range(n):\n",
    "        if A[0,j] > 0:\n",
    "            nu_upb[j] = min(nu_upb[j], grad_i[j])"
   ]
  },
  {
   "cell_type": "code",
   "execution_count": 10,
   "id": "edaae85b",
   "metadata": {},
   "outputs": [
    {
     "data": {
      "text/plain": [
       "(0.6569293287114274, 0.9102318956649578, 9.511224953406211, 27.597578921853007)"
      ]
     },
     "execution_count": 10,
     "metadata": {},
     "output_type": "execute_result"
    }
   ],
   "source": [
    "nu_cvx.min(), nu_cvx.max(), nu_upb.min(), nu_upb.max()"
   ]
  },
  {
   "cell_type": "code",
   "execution_count": 11,
   "id": "303e18e4",
   "metadata": {},
   "outputs": [],
   "source": [
    "assert (nu_cvx <= nu_upb + 10**(-8) ).all(), print(\"wrong bound on nu\")"
   ]
  },
  {
   "cell_type": "markdown",
   "id": "2193880f",
   "metadata": {},
   "source": [
    "# Action directed Walrasian equilibrium\n",
    "$$\n",
    "\\begin{array}{ll}\n",
    "\\mbox{minimize} & \\sum_{i=1}^N -U_i(x_i)  \\\\\n",
    "\\mbox{subject to} & \\sum_{i=1}^N x_i = E \\\\\n",
    "& x_i  \\geq 0, \\quad i=1,\\ldots, N,\n",
    "\\end{array}\n",
    "$$\n",
    "where $U_i(x_i)= \\left (\\prod_{k=1}^m (A_{i,k}x_{i} + b_{i,k})\\right)^{1/m}$.\n",
    "\n",
    "## OSBDO oracle-structured form \n",
    "We can solve the problem using OSBDO, by taking the agent function\n",
    "$$\n",
    "f_i(x_i) = -U_i(x_i),$$\n",
    "and the structured objective function $g$,\n",
    "$$\n",
    "g(x) = \\left\\{ \\begin{array}{ll} 0 &\n",
    "x_1 + \\cdots + x_N = E, \\quad x_i \\geq 0, \\quad i=1, \\ldots, N\\\\\n",
    "\\infty & \\mbox{otherwise}.\n",
    "\\end{array} \\right.\n",
    "$$"
   ]
  },
  {
   "cell_type": "code",
   "execution_count": 12,
   "id": "c911cffa",
   "metadata": {},
   "outputs": [],
   "source": [
    "rel_gap = 0.01"
   ]
  },
  {
   "cell_type": "markdown",
   "id": "5a9bcfaf",
   "metadata": {},
   "source": [
    "# OSBDO solution"
   ]
  },
  {
   "cell_type": "code",
   "execution_count": 13,
   "id": "652f6f4e",
   "metadata": {},
   "outputs": [],
   "source": [
    "agents = ob.ra_agents(params=params)\n",
    "\n",
    "domain = [sum([agents[i].x for i in range(len(agents))])==R]\n",
    "g = ob.Coupling(agents = agents, function = cp.Constant(0), domain = domain)\n",
    "\n",
    "prob = ob.Problem(agents = agents, g = g)"
   ]
  },
  {
   "cell_type": "code",
   "execution_count": 14,
   "id": "a97e7037",
   "metadata": {
    "scrolled": false
   },
   "outputs": [
    {
     "name": "stdout",
     "output_type": "stream",
     "text": [
      "k=0, rel_gap=31.213382604688135, L=-10419.203406474478, U=-323.4433196394014\n",
      "k=1, rel_gap=0.4845424371401474, L=-480.16533401417666, U=-323.4433196394014\n",
      "k=2, rel_gap=0.19507787381930697, L=-477.10049117823314, U=-399.2212571499501\n",
      "k=3, rel_gap=0.10381038131768544, L=-476.4021112919189, U=-431.59778106381714\n",
      "k=4, rel_gap=0.06898180200738095, L=-476.0240786713894, U=-445.3060639362527\n"
     ]
    },
    {
     "name": "stderr",
     "output_type": "stream",
     "text": [
      "/Users/parshakova.tanya/opt/anaconda3/envs/py38/lib/python3.8/site-packages/cvxpy/problems/problem.py:1333: UserWarning: Solution may be inaccurate. Try another solver, adjusting the solver settings, or solve with verbose=True for more information.\n",
      "  warnings.warn(\n"
     ]
    },
    {
     "name": "stdout",
     "output_type": "stream",
     "text": [
      "k=5, rel_gap=0.05276148212653877, L=-474.9488061488716, U=-451.14569084489375\n",
      "k=6, rel_gap=0.045773579896904906, L=-474.82342011894207, U=-454.0403670991109\n",
      "k=7, rel_gap=0.0398494303320606, L=-473.29045819126003, U=-455.1528753928554\n",
      "k=8, rel_gap=0.03747028231317991, L=-473.18550884111517, U=-456.095482355489\n",
      "k=9, rel_gap=0.030021564242344454, L=-470.1283599394179, U=-456.4257451107166\n",
      "k=10, rel_gap=0.018898404454328832, L=-470.1010544352988, U=-461.3816768974739\n",
      "k=11, rel_gap=0.014162670872323764, L=-469.935660829207, U=-463.3730606796991\n",
      "k=12, rel_gap=0.01053926885133906, L=-469.0439414385151, U=-464.1521174844284\n",
      "k=13, rel_gap=0.008091767879346401, L=-469.02280537896127, U=-465.2580452726168\n",
      "elapsed time =  127.35884594917297\n"
     ]
    }
   ],
   "source": [
    "start = time.time()\n",
    "x_agent, x_global = prob.solve(rel_gap=rel_gap, abs_gap=10**(-3), max_iter=50)\n",
    "print(f\"elapsed time =  {time.time()-start}\")"
   ]
  },
  {
   "cell_type": "markdown",
   "id": "ff8d1da1",
   "metadata": {},
   "source": [
    "# $L^k, \\quad h^\\star, \\quad U^k$"
   ]
  },
  {
   "cell_type": "code",
   "execution_count": 15,
   "id": "8c3aadff",
   "metadata": {},
   "outputs": [
    {
     "data": {
      "text/plain": [
       "(-469.02280537896127, -467.79716766696, -465.2580452726168)"
      ]
     },
     "execution_count": 15,
     "metadata": {},
     "output_type": "execute_result"
    }
   ],
   "source": [
    "prob.lower_bnd[-1], h_cvx, prob.upper_bnd[-1]"
   ]
  },
  {
   "cell_type": "markdown",
   "id": "1c011f51",
   "metadata": {},
   "source": [
    "## Plot"
   ]
  },
  {
   "cell_type": "code",
   "execution_count": 16,
   "id": "ba5373c2",
   "metadata": {},
   "outputs": [
    {
     "data": {
      "image/png": "[encoded data removed]",
      "text/plain": [
       "<Figure size 600x400 with 1 Axes>"
      ]
     },
     "metadata": {
      "needs_background": "light"
     },
     "output_type": "display_data"
    }
   ],
   "source": [
    "ob.plot_true_rel_gap_uk(lk = prob.lower_bnd, uk = prob.upper_bnd, h_true = h_cvx)"
   ]
  },
  {
   "cell_type": "markdown",
   "id": "681cc740",
   "metadata": {},
   "source": [
    "# Price directed Walrasian equilibrium\n",
    "$$\n",
    "\\begin{array}{ll}\n",
    "\\mbox{minimize} & \\sum_{i=1}^N \\underset{x_i\\geq 0}{\\max} \\left(\n",
    " U_i(x_i) - \\nu_i^Tx_i \n",
    "\\right ) + \\nu_1^T E   \\\\\n",
    "\\mbox{subject to} & \\nu_1=\\cdots=\\nu_N,\n",
    "\\end{array}\n",
    "$$\n",
    "where $U_i(x_i)= \\left (\\prod_{k=1}^m (A_{i,k}x_{i} + b_{i,k})\\right)^{1/m}$.\n",
    "\n",
    "## OSBDO oracle-structured form \n",
    "\n",
    "We can solve the problem in the dual variable using OSBDO, by taking the agent function\n",
    "$$\n",
    "f_i(\\nu_i) = \\underset{E \\geq x_i\\geq 0}{\\max} \\left(\n",
    " U_i(x_i) - \\nu_i^Tx_i \n",
    "\\right ),\n",
    "$$\n",
    "and $g$ the indicator function for consensus plus the total price for all  commodities,\n",
    "$$\n",
    "g(x) = \\left\\{ \\begin{array}{ll}  \\nu_1^T E & \\nu_1 = \\cdots = \\nu_N\\\\\n",
    "\\infty & \\mbox{otherwise}. \n",
    "\\end{array}\\right.\n",
    "$$\n",
    "Note that $f_i$ is convex as a pointwise supremum over linear functions in $\\nu_i$."
   ]
  },
  {
   "cell_type": "code",
   "execution_count": 17,
   "id": "589ffaed",
   "metadata": {},
   "outputs": [],
   "source": [
    "class GeoMeanConj(ob.Agent):\n",
    "    \"\"\"\n",
    "    fi(nu_i)  = \\max_{E\\geq x_i\\geq 0} ( U_i(x_i) - \\nu_i^Tx_i )\n",
    "    \"\"\"\n",
    "    def _construct_params(self):\n",
    "        self.A = self.params['A']\n",
    "        self.b = self.params['b']\n",
    "        self.E = self.params['E']\n",
    "        self.nu_max = self.params['nu_max']\n",
    "\n",
    "    def query(self, *, v, solver='ECOS'):\n",
    "        x = cp.Variable((self.dim), nonneg=True)\n",
    "        f = cp.geo_mean(self.A @ x + self.b) - v @ x\n",
    "        prob = cp.Problem(cp.Maximize(f), [x <= self.E])\n",
    "        prob.solve(solver=cp.MOSEK)\n",
    "        f = f.value\n",
    "        q = -x.value\n",
    "        return ob.Point(x=v, q=q, f=f)\n",
    "    \n",
    "    def get_init_minorant(self):\n",
    "        lwb = stats.mstats.gmean(self.b, axis=None) - self.E @ self.nu_max\n",
    "        return cp.Constant(lwb)\n",
    "    \n",
    "def get_total_obj(agents, xs):\n",
    "    obj = 0\n",
    "    for agent in agents:\n",
    "        obj += stats.mstats.gmean(agent.A @ xs[i] + agent.b, axis=None)\n",
    "    return -obj"
   ]
  },
  {
   "cell_type": "code",
   "execution_count": 18,
   "id": "fdba35cb",
   "metadata": {},
   "outputs": [],
   "source": [
    "agents = [0]*N\n",
    "nu_params = []\n",
    "for i  in  range(N): \n",
    "    nu_params += [{ 'dimension':n, \n",
    "                    'lower_bound':0, \n",
    "                    'upper_bound':None,\n",
    "                    'nu_max':nu_upb,\n",
    "                    'E':E,\n",
    "                    'A':params[i][\"A_list\"][0],\n",
    "                    'b':params[i][\"b_list\"][0]}]\n",
    "    \n",
    "    agents[i] = GeoMeanConj(nu_params[i])"
   ]
  },
  {
   "cell_type": "code",
   "execution_count": 19,
   "id": "29f25cb9",
   "metadata": {},
   "outputs": [],
   "source": [
    "domain = [agents[0].x == agent.x for agent in agents[1:]]\n",
    "\n",
    "g = ob.Coupling(agents = agents, function = agents[0].x @ E, domain = domain)"
   ]
  },
  {
   "cell_type": "code",
   "execution_count": 20,
   "id": "2efeb5a7",
   "metadata": {},
   "outputs": [],
   "source": [
    "prob = ob.Problem(agents = agents, g = g)"
   ]
  },
  {
   "cell_type": "markdown",
   "id": "eb8c4fec",
   "metadata": {},
   "source": [
    "# OSBDO solution"
   ]
  },
  {
   "cell_type": "code",
   "execution_count": 21,
   "id": "cd641c95",
   "metadata": {
    "scrolled": false
   },
   "outputs": [
    {
     "name": "stdout",
     "output_type": "stream",
     "text": [
      "k=0, rel_gap=inf, L=-453494.66251604824, U=10419.203175712555\n",
      "k=1, rel_gap=inf, L=-444187.5043394375, U=10419.203175712555\n",
      "k=2, rel_gap=inf, L=-417201.9043293528, U=4761.845400539485\n",
      "k=3, rel_gap=inf, L=-407896.82123752334, U=4761.845400539485\n"
     ]
    },
    {
     "name": "stderr",
     "output_type": "stream",
     "text": [
      "/Users/parshakova.tanya/opt/anaconda3/envs/py38/lib/python3.8/site-packages/cvxpy/problems/problem.py:1333: UserWarning: Solution may be inaccurate. Try another solver, adjusting the solver settings, or solve with verbose=True for more information.\n",
      "  warnings.warn(\n"
     ]
    },
    {
     "name": "stdout",
     "output_type": "stream",
     "text": [
      "k=4, rel_gap=13.42138570035397, L=330.19333228308335, U=4761.845400539485\n",
      "k=5, rel_gap=6.696668616028355, L=333.16868470789166, U=2564.288959434676\n",
      "get_hat_h_star ECOS fail\n",
      "k=6, rel_gap=3.4935991280648513, L=330.5888968002662, U=1485.5339784095972\n",
      "k=7, rel_gap=1.847380581858283, L=333.17927609971923, U=948.68820104394\n",
      "k=8, rel_gap=1.3090017667404814, L=334.94132969345105, U=773.3801220165846\n",
      "k=9, rel_gap=0.8005065449141214, L=337.483571110037, U=607.641378584612\n",
      "k=10, rel_gap=0.4574102978299307, L=398.7611515713078, U=581.1586086745458\n",
      "k=11, rel_gap=0.23766301940144466, L=410.27987047560333, U=507.78822329246884\n",
      "k=12, rel_gap=0.16459133347009242, L=430.2213608044142, U=501.0320682665305\n",
      "k=13, rel_gap=0.02016666678770784, L=463.9401535216592, U=473.29628000716855\n",
      "k=14, rel_gap=0.01156274597013166, L=464.36437596221555, U=469.73370327904536\n",
      "k=15, rel_gap=0.004645030884795906, L=466.2992364412114, U=468.4652107960376\n",
      "elapsed time =  91.59903717041016\n"
     ]
    }
   ],
   "source": [
    "start = time.time()\n",
    "x_agent, x_global = prob.solve(rel_gap=rel_gap, abs_gap=10**(-3), max_iter=50, \\\n",
    "                               solver=\"OSQP\")\n",
    "print(f\"elapsed time =  {time.time()-start}\")"
   ]
  },
  {
   "cell_type": "markdown",
   "id": "e27d97ce",
   "metadata": {},
   "source": [
    "# $L^k, \\quad h^\\star, \\quad U^k$"
   ]
  },
  {
   "cell_type": "code",
   "execution_count": 22,
   "id": "2852a1a6",
   "metadata": {},
   "outputs": [
    {
     "data": {
      "text/plain": [
       "(466.2992364412114, 467.79716766696, 468.4652107960376)"
      ]
     },
     "execution_count": 22,
     "metadata": {},
     "output_type": "execute_result"
    }
   ],
   "source": [
    "prob.lower_bnd[-1], -h_cvx, prob.upper_bnd[-1]"
   ]
  },
  {
   "cell_type": "code",
   "execution_count": 23,
   "id": "b3c7659d",
   "metadata": {
    "scrolled": false
   },
   "outputs": [
    {
     "data": {
      "image/png": "[encoded data removed]",
      "text/plain": [
       "<Figure size 600x400 with 1 Axes>"
      ]
     },
     "metadata": {
      "needs_background": "light"
     },
     "output_type": "display_data"
    }
   ],
   "source": [
    "ob.plot_true_rel_gap_uk(lk = -np.array(prob.upper_bnd), uk = -np.array(prob.lower_bnd), h_true = h_cvx)"
   ]
  }
 ],
 "metadata": {
  "kernelspec": {
   "display_name": "Python 3 (ipykernel)",
   "language": "python",
   "name": "python3"
  },
  "language_info": {
   "codemirror_mode": {
    "name": "ipython",
    "version": 3
   },
   "file_extension": ".py",
   "mimetype": "text/x-python",
   "name": "python",
   "nbconvert_exporter": "python",
   "pygments_lexer": "ipython3",
   "version": "3.8.8"
  }
 },
 "nbformat": 4,
 "nbformat_minor": 5
}
