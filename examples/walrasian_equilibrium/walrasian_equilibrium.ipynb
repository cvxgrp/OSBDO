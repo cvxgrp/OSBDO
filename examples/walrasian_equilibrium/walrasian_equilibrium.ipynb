{
 "cells": [
  {
   "attachments": {},
   "cell_type": "markdown",
   "id": "8abd5cc2",
   "metadata": {},
   "source": [
    "We consider a pure exchange economy with $M$ agents and $n$ commodities.\n",
    "Each agent $i$ has an endowment $e_i \\in {\\bf{R}}_+^n$ and a utility \n",
    "function $U_i(r_i)$, where $U_i: {\\bf{R}}_+^n \\to {\\bf{R}}$ is a concave nondecreasing. These primitives define the exchange economy $\\mathcal{E}=\\left( (U_i, e_i)_{i \\in [M]}\\right)$. Denote the total endowment by $E = \\sum_{i=1}^M e_i$.\n",
    "\n",
    "\n",
    "**Walrasian equilibrium** for exchange economy $\\mathcal{E}$ is a vector $\\left( \\nu, (x_i)_{i \\in [M]}\\right)$, such that \n",
    "* every agent's consumption  $x_i\\in {\\bf{R}}^n$ maximizes her utility given prices $\\nu \\in {\\bf{R}}_+^n$\n",
    "$$\n",
    "\\begin{array}{ll}\n",
    "\\mbox{maximize} & U_i(x_i)  \\\\\n",
    "\\mbox{subject to} & \\nu^T x_i \\leq \\nu^T e_i \\\\\n",
    "& x_i \\geq  0,\n",
    "\\end{array}\n",
    "$$\n",
    "* markets clear $\\sum_{i=1}^M x_i \\leq \\sum_{i=1}^M e_i=E$.\n",
    "\n",
    "The goal of this notebook is to see the performance of OSBDO when applied to the action directed Walrasian Equilibrium (over primal variables $x_1, \\ldots, x_M$) and price directed Walrasian Equilibrium (over dual variable $\\nu$). This corresponds to the primal formulation of the problem, given by\n",
    "$$\n",
    "\\begin{array}{ll}\n",
    "\\mbox{minimize} & \\sum_{i=1}^M -U_i(x_i)  \\\\\n",
    "\\mbox{subject to} & \\sum_{i=1}^M x_i = E \\\\\n",
    "& x_i  \\geq 0, \\quad i=1,\\ldots, M,\n",
    "\\end{array}\n",
    "$$\n",
    "and negated dual formulation of the problem, given by  \n",
    "$$\n",
    "\\begin{array}{ll}\n",
    "\\mbox{minimize} & \\sum_{i=1}^M \\underset{x_i\\geq 0}{\\max} \\left(\n",
    " U_i(x_i) - \\nu_i^Tx_i \n",
    "\\right ) + \\nu_1^T E   \\\\\n",
    "\\mbox{subject to} & \\nu_1=\\cdots=\\nu_M.\n",
    "\\end{array}\n",
    "$$\n"
   ]
  },
  {
   "cell_type": "code",
   "execution_count": 1,
   "id": "1a9a012e",
   "metadata": {
    "scrolled": true
   },
   "outputs": [],
   "source": [
    "import cvxpy as cp\n",
    "import numpy as np\n",
    "import osbdo as ob\n",
    "import random\n",
    "\n",
    "from scipy import stats\n",
    "import time\n",
    "from scipy import stats"
   ]
  },
  {
   "cell_type": "code",
   "execution_count": 2,
   "id": "d117fd45",
   "metadata": {},
   "outputs": [],
   "source": [
    "import matplotlib.pyplot as plt"
   ]
  },
  {
   "cell_type": "code",
   "execution_count": 3,
   "id": "a2e06033",
   "metadata": {},
   "outputs": [],
   "source": [
    "import random, time\n",
    "\n",
    "np.random.seed(1001)\n",
    "random.seed(1001)"
   ]
  },
  {
   "cell_type": "code",
   "execution_count": 4,
   "id": "3ab15f8c",
   "metadata": {},
   "outputs": [],
   "source": [
    "def get_rel_diff(a,b):\n",
    "    return np.linalg.norm(a-b) / min(np.linalg.norm(a), np.linalg.norm(b)) "
   ]
  },
  {
   "cell_type": "code",
   "execution_count": 5,
   "id": "a630280e",
   "metadata": {},
   "outputs": [],
   "source": [
    "def check_subgrads(agent, ntimes):\n",
    "    l, u = agent.lwb, agent.upb\n",
    "    n = agent.dim\n",
    "    for _ in range(ntimes):\n",
    "        v = l + np.multiply(np.random.rand(n), u-l)\n",
    "        point = agent.query(v=v)\n",
    "        linear = lambda x: point.f + point.q @ (x - point.x)\n",
    "        for _ in range(10):\n",
    "            test = l + np.multiply(np.random.rand(n), u-l)\n",
    "            a = linear(test)\n",
    "            b = agent.query(v=test).f + 10**(-6)\n",
    "            assert a <= b, print(a, b, b-a)\n",
    "    print(\"passed\")"
   ]
  },
  {
   "attachments": {},
   "cell_type": "markdown",
   "id": "51d8b008",
   "metadata": {},
   "source": [
    "# Create instance of the problem"
   ]
  },
  {
   "cell_type": "code",
   "execution_count": 6,
   "id": "58b7b590",
   "metadata": {},
   "outputs": [],
   "source": [
    "M = 50\n",
    "\n",
    "params, R = ob.ra_params(num_resources=M, num_agents=M, num_participants=M)"
   ]
  },
  {
   "cell_type": "code",
   "execution_count": 7,
   "id": "ea63b7bb",
   "metadata": {},
   "outputs": [],
   "source": [
    "E = R\n",
    "n = params[0]['dimension']"
   ]
  },
  {
   "cell_type": "code",
   "execution_count": 8,
   "id": "376df2c7",
   "metadata": {},
   "outputs": [],
   "source": [
    "for j in range(n):\n",
    "    count = 0\n",
    "    for i in range(M):\n",
    "        A = params[i][\"A_list\"][0]\n",
    "        if A[0,j] > 0:\n",
    "            count += 1\n",
    "    assert count > 0"
   ]
  },
  {
   "attachments": {},
   "cell_type": "markdown",
   "id": "5b928e6f",
   "metadata": {},
   "source": [
    "# Centralized solution"
   ]
  },
  {
   "cell_type": "code",
   "execution_count": 9,
   "id": "ecbbd6b6",
   "metadata": {},
   "outputs": [
    {
     "name": "stdout",
     "output_type": "stream",
     "text": [
      "elapsed time =  1.5994091033935547\n",
      "h_cvx = -401.83914918723735\n"
     ]
    }
   ],
   "source": [
    "dim = params[0]['dimension']\n",
    "z = cp.Variable(len(params)*dim)\n",
    "num_agents = len(params)\n",
    "constraints = []\n",
    "f = 0\n",
    "xi_list = []\n",
    "start = time.time()\n",
    "for i in range(num_agents):\n",
    "    xi = z[(i*dim):((i+1)*dim)]\n",
    "    X = cp.Variable((len(params[i]['A_list']), dim))\n",
    "    for j in range(len(params[i]['A_list'])):\n",
    "        f += -cp.geo_mean(params[i]['A_list'][j] @ X[j].T + params[i]['b_list'][j])\n",
    "    constraints += [cp.sum(X,axis=0) <= xi, \\\n",
    "                    X>=0, \\\n",
    "                    xi<=params[i]['upper_bound'], \n",
    "                    xi>=params[i]['lower_bound']]\n",
    "    xi_list.append(xi)\n",
    "constraints += [sum(xi_list)==R]\n",
    "prob_cvx = cp.Problem(cp.Minimize(f), constraints)\n",
    "prob_cvx.solve(solver='ECOS')\n",
    "print(f\"elapsed time =  {time.time()-start}\")\n",
    "\n",
    "h_cvx, x_cvx = f.value, z.value\n",
    "nu_cvx = constraints[-1].dual_value\n",
    "print(f\"{h_cvx = }\")"
   ]
  },
  {
   "attachments": {},
   "cell_type": "markdown",
   "id": "fe955a42",
   "metadata": {},
   "source": [
    "### Initial upper bound on $\\nu$\n",
    "$$\n",
    "\\nu^\\star_j \\leq \\nu_{\\max,j} ~=~ \\min_{i:{A_{i, \\cdot j}}\\neq 0 } \\quad \\left [ (1/m) \\mbox{geomean}(A_i E + b_i) ~ A_i^T b_i^{-1} \\right ]\n",
    "$$"
   ]
  },
  {
   "cell_type": "code",
   "execution_count": 10,
   "id": "d477c057",
   "metadata": {},
   "outputs": [],
   "source": [
    "nu_upb = np.inf * np.ones(n)\n",
    "m = params[0][\"A_list\"][0].shape[0]\n",
    "\n",
    "for i  in  range(M):\n",
    "    A = params[i][\"A_list\"][0]\n",
    "    b = params[i][\"b_list\"][0]\n",
    "    assert (A>=0).all() and (b>=0).all()\n",
    "    Ui = stats.mstats.gmean(A@E + b)\n",
    "    grad_i = (Ui/m) * A.T @ b**(-1)\n",
    "    \n",
    "    for j in range(n):\n",
    "        if A[0,j] > 0:\n",
    "            nu_upb[j] = min(nu_upb[j], grad_i[j])"
   ]
  },
  {
   "cell_type": "code",
   "execution_count": 11,
   "id": "edaae85b",
   "metadata": {},
   "outputs": [
    {
     "data": {
      "text/plain": [
       "(0.6712384168244405, 0.9072204434938136, 9.224530016791945, 21.609593105630275)"
      ]
     },
     "execution_count": 11,
     "metadata": {},
     "output_type": "execute_result"
    }
   ],
   "source": [
    "nu_cvx.min(), nu_cvx.max(), nu_upb.min(), nu_upb.max()"
   ]
  },
  {
   "cell_type": "code",
   "execution_count": 12,
   "id": "303e18e4",
   "metadata": {},
   "outputs": [],
   "source": [
    "assert (nu_cvx <= nu_upb + 10**(-8) ).all(), print(\"wrong bound on nu\")"
   ]
  },
  {
   "attachments": {},
   "cell_type": "markdown",
   "id": "2193880f",
   "metadata": {},
   "source": [
    "# Action directed Walrasian equilibrium\n",
    "$$\n",
    "\\begin{array}{ll}\n",
    "\\mbox{minimize} & \\sum_{i=1}^M -U_i(x_i)  \\\\\n",
    "\\mbox{subject to} & \\sum_{i=1}^M x_i = E \\\\\n",
    "& x_i  \\geq 0, \\quad i=1,\\ldots, M,\n",
    "\\end{array}\n",
    "$$\n",
    "where $U_i(x_i)= \\left (\\prod_{k=1}^m (A_{i,k}x_{i} + b_{i,k})\\right)^{1/m}$.\n",
    "\n",
    "## OSBDO oracle-structured form \n",
    "We can solve the problem using OSBDO, by taking the agent function\n",
    "$$\n",
    "f_i(x_i) = -U_i(x_i),$$\n",
    "and the structured objective function $g$,\n",
    "$$\n",
    "g(x) = \\left\\{ \\begin{array}{ll} 0 &\n",
    "x_1 + \\cdots + x_M = E, \\quad x_i \\geq 0, \\quad i=1, \\ldots, M\\\\\n",
    "\\infty & \\mbox{otherwise}.\n",
    "\\end{array} \\right.\n",
    "$$"
   ]
  },
  {
   "cell_type": "code",
   "execution_count": 13,
   "id": "c911cffa",
   "metadata": {},
   "outputs": [],
   "source": [
    "rel_gap = 0.01"
   ]
  },
  {
   "attachments": {},
   "cell_type": "markdown",
   "id": "5a9bcfaf",
   "metadata": {},
   "source": [
    "# OSBDO solution"
   ]
  },
  {
   "cell_type": "code",
   "execution_count": 14,
   "id": "652f6f4e",
   "metadata": {},
   "outputs": [],
   "source": [
    "agents = ob.ra_agents(params=params)\n",
    "\n",
    "domain = [sum([agents[i].x for i in range(len(agents))])==R]\n",
    "g = ob.Coupling(agents = agents, function = cp.Constant(0), domain = domain)\n",
    "\n",
    "prob = ob.Problem(agents = agents, g = g)"
   ]
  },
  {
   "cell_type": "code",
   "execution_count": 15,
   "id": "a97e7037",
   "metadata": {
    "scrolled": false
   },
   "outputs": [
    {
     "name": "stdout",
     "output_type": "stream",
     "text": [
      "k=0, rel_gap=28.559203959175875, L=-8495.399164212251, U=-287.40283993930353, L0=-8495.399164212251\n",
      "k=1, rel_gap=0.43308644362598375, L=-411.87311377662434, U=-287.40283993930353, L0=-411.87311377662434\n",
      "k=2, rel_gap=0.17673086815801123, L=-409.33505312511437, U=-347.8578358073198, L0=-409.33505312511437\n",
      "k=3, rel_gap=0.09154754320708462, L=-408.9619200699718, U=-374.6624896139636, L0=-408.9619200699718\n",
      "k=4, rel_gap=0.05900532537711672, L=-408.766241424627, U=-385.9907326519472, L0=-408.766241424627\n",
      "k=5, rel_gap=0.04697736812606132, L=-408.63667825535293, U=-390.3013481435169, L0=-408.63667825535293\n",
      "k=6, rel_gap=0.04200941889745147, L=-408.4552222256562, U=-391.988032754869, L0=-408.4552222256562\n",
      "k=7, rel_gap=0.04005414873483919, L=-408.3168792264533, U=-392.59194314367693, L0=-408.3168792264533\n",
      "k=8, rel_gap=0.03920697526336679, L=-408.1632428410418, U=-392.7641485832028, L0=-408.1632428410418\n",
      "k=9, rel_gap=0.038541536171977184, L=-407.90188222287816, U=-392.7641485832028, L0=-407.90188222287816\n",
      "k=10, rel_gap=0.037780869849544575, L=-407.603119762392, U=-392.7641485832028, L0=-407.603119762392\n",
      "k=11, rel_gap=0.03732967323564442, L=-407.4259059084899, U=-392.7641485832028, L0=-407.4259059084899\n",
      "k=12, rel_gap=0.036796224555820496, L=-407.216386391946, U=-392.7641485832028, L0=-407.216386391946\n"
     ]
    },
    {
     "name": "stderr",
     "output_type": "stream",
     "text": [
      "/Users/parshakova.tanya/opt/anaconda3/envs/osbdo/lib/python3.9/site-packages/cvxpy/problems/problem.py:1385: UserWarning: Solution may be inaccurate. Try another solver, adjusting the solver settings, or solve with verbose=True for more information.\n",
      "  warnings.warn(\n"
     ]
    },
    {
     "name": "stdout",
     "output_type": "stream",
     "text": [
      "k=13, rel_gap=0.03214773340396488, L=-405.3906257224909, U=-392.7641485832028, L0=-405.3906257224909\n",
      "k=14, rel_gap=0.029088569427799117, L=-405.2971068259953, U=-393.84084020226885, L0=-405.2971068259953\n",
      "k=15, rel_gap=0.028282113531061904, L=-405.2014980361198, U=-394.0567405618688, L0=-405.2014980361198\n",
      "k=16, rel_gap=0.027697264592427266, L=-405.0415615875123, U=-394.12536701471817, L0=-405.0415615875123\n",
      "k=17, rel_gap=0.02377572205577456, L=-403.5824397554349, U=-394.20981672140886, L0=-403.5824397554349\n",
      "k=18, rel_gap=0.01811145403000921, L=-403.5253672707425, U=-396.3469477466938, L0=-403.5253672707425\n",
      "k=19, rel_gap=0.01348585536208388, L=-402.76934338108754, U=-397.409930538391, L0=-402.76934338108754\n",
      "k=20, rel_gap=0.007994362854655365, L=-402.7549204656009, U=-399.5606873484816, L0=-402.7549204656009\n",
      "rho=10.838227337605082\n"
     ]
    },
    {
     "name": "stderr",
     "output_type": "stream",
     "text": [
      "/var/folders/13/wyn3w3nx7ks002_qzk18rz7h0000gn/T/ipykernel_12869/2063845772.py:2: DeprecationWarning: `product` is deprecated as of NumPy 1.25.0, and will be removed in NumPy 2.0. Please use `prod` instead.\n",
      "  x_agent, x_global = prob.solve(rel_gap=rel_gap, abs_gap=10**(-3), max_iter=60)\n"
     ]
    },
    {
     "name": "stdout",
     "output_type": "stream",
     "text": [
      "rel_gap=0.007994362854655365, L=-402.7549204656009, U=-399.5606873484816\n",
      "elapsed time =  123.9793930053711\n"
     ]
    }
   ],
   "source": [
    "start = time.time()\n",
    "x_agent, x_global = prob.solve(rel_gap=rel_gap, abs_gap=10**(-3), max_iter=60)\n",
    "print(f\"elapsed time =  {time.time()-start}\")"
   ]
  },
  {
   "attachments": {},
   "cell_type": "markdown",
   "id": "ff8d1da1",
   "metadata": {},
   "source": [
    "# $L^k, \\quad h^\\star, \\quad U^k$"
   ]
  },
  {
   "cell_type": "code",
   "execution_count": 16,
   "id": "8c3aadff",
   "metadata": {},
   "outputs": [
    {
     "data": {
      "text/plain": [
       "(-402.7549204656009, -401.83914918723735, -399.5606873484816)"
      ]
     },
     "execution_count": 16,
     "metadata": {},
     "output_type": "execute_result"
    }
   ],
   "source": [
    "prob.lower_bnd[-1], h_cvx, prob.upper_bnd[-1]"
   ]
  },
  {
   "attachments": {},
   "cell_type": "markdown",
   "id": "1c011f51",
   "metadata": {},
   "source": [
    "## Plot"
   ]
  },
  {
   "cell_type": "code",
   "execution_count": 17,
   "id": "ba5373c2",
   "metadata": {},
   "outputs": [
    {
     "name": "stdout",
     "output_type": "stream",
     "text": [
      "i=20, omega_k=0.007994362854655365, omega_true=0.005670084269698869\n"
     ]
    },
    {
     "data": {
      "image/png": "[encoded data removed]",
      "text/plain": [
       "<Figure size 640x480 with 1 Axes>"
      ]
     },
     "metadata": {},
     "output_type": "display_data"
    }
   ],
   "source": [
    "ob.plot_true_rel_gap_uk(lk = prob.lower_bnd, uk = prob.upper_bnd, h_true = h_cvx)"
   ]
  },
  {
   "attachments": {},
   "cell_type": "markdown",
   "id": "681cc740",
   "metadata": {},
   "source": [
    "# Price directed Walrasian equilibrium\n",
    "$$\n",
    "\\begin{array}{ll}\n",
    "\\mbox{minimize} & \\sum_{i=1}^M \\underset{x_i\\geq 0}{\\max} \\left(\n",
    " U_i(x_i) - \\nu_i^Tx_i \n",
    "\\right ) + \\nu_1^T E   \\\\\n",
    "\\mbox{subject to} & \\nu_1=\\cdots=\\nu_M,\n",
    "\\end{array}\n",
    "$$\n",
    "where $U_i(x_i)= \\left (\\prod_{k=1}^m (A_{i,k}x_{i} + b_{i,k})\\right)^{1/m}$.\n",
    "\n",
    "## OSBDO oracle-structured form \n",
    "\n",
    "We can solve the problem in the dual variable using OSBDO, by taking the agent function\n",
    "$$\n",
    "f_i(\\nu_i) = \\underset{E \\geq x_i\\geq 0}{\\max} \\left(\n",
    " U_i(x_i) - \\nu_i^Tx_i \n",
    "\\right ),\n",
    "$$\n",
    "and $g$ the indicator function for consensus plus the total price for all  commodities,\n",
    "$$\n",
    "g(x) = \\left\\{ \\begin{array}{ll}  \\nu_1^T E & \\nu_1 = \\cdots = \\nu_M\\\\\n",
    "\\infty & \\mbox{otherwise}. \n",
    "\\end{array}\\right.\n",
    "$$\n",
    "Note that $f_i$ is convex as a pointwise supremum over linear functions in $\\nu_i$."
   ]
  },
  {
   "cell_type": "code",
   "execution_count": 18,
   "id": "589ffaed",
   "metadata": {},
   "outputs": [],
   "source": [
    "class GeoMeanConj(ob.Agent):\n",
    "    \"\"\"\n",
    "    fi(nu_i)  = \\max_{E\\geq x_i\\geq 0} ( U_i(x_i) - \\nu_i^Tx_i )\n",
    "    \"\"\"\n",
    "    def _construct_params(self):\n",
    "        self.A = self.params['A']\n",
    "        self.b = self.params['b']\n",
    "        self.E = self.params['E']\n",
    "        self.nu_max = self.params['nu_max']\n",
    "\n",
    "    def query(self, *, v, solver='ECOS'):\n",
    "        x = cp.Variable((self.dim), nonneg=True)\n",
    "        f = cp.geo_mean(self.A @ x + self.b) - v @ x\n",
    "        prob = cp.Problem(cp.Maximize(f), [x <= self.E])\n",
    "        prob.solve(solver=cp.MOSEK)\n",
    "        f = f.value\n",
    "        q = -x.value\n",
    "        return ob.Point(x=v, q=q, f=f)\n",
    "    \n",
    "    def get_init_minorant(self):\n",
    "        lwb = stats.mstats.gmean(self.b, axis=None) - self.E @ self.nu_max\n",
    "        self.lwb_const = lwb\n",
    "        return cp.Constant(lwb)\n",
    "    \n",
    "def get_total_obj(agents, xs):\n",
    "    obj = 0\n",
    "    for agent in agents:\n",
    "        obj += stats.mstats.gmean(agent.A @ xs[i] + agent.b, axis=None)\n",
    "    return -obj"
   ]
  },
  {
   "cell_type": "code",
   "execution_count": 19,
   "id": "fdba35cb",
   "metadata": {},
   "outputs": [],
   "source": [
    "agents = [0]*M\n",
    "nu_params = []\n",
    "for i  in  range(M): \n",
    "    nu_params += [{ 'dimension':n, \n",
    "                    'lower_bound':0, \n",
    "                    'upper_bound':None,\n",
    "                    'nu_max':nu_upb,\n",
    "                    'E':E,\n",
    "                    'A':params[i][\"A_list\"][0],\n",
    "                    'b':params[i][\"b_list\"][0]}]\n",
    "    \n",
    "    agents[i] = GeoMeanConj(nu_params[i])"
   ]
  },
  {
   "cell_type": "code",
   "execution_count": 20,
   "id": "29f25cb9",
   "metadata": {},
   "outputs": [],
   "source": [
    "domain = [agents[0].x == agent.x for agent in agents[1:]]\n",
    "\n",
    "g = ob.Coupling(agents = agents, function = agents[0].x @ E, domain = domain)"
   ]
  },
  {
   "cell_type": "code",
   "execution_count": 21,
   "id": "2efeb5a7",
   "metadata": {},
   "outputs": [],
   "source": [
    "prob = ob.Problem(agents = agents, g = g)"
   ]
  },
  {
   "attachments": {},
   "cell_type": "markdown",
   "id": "eb8c4fec",
   "metadata": {},
   "source": [
    "# OSBDO solution"
   ]
  },
  {
   "cell_type": "code",
   "execution_count": 22,
   "id": "cd641c95",
   "metadata": {
    "scrolled": false
   },
   "outputs": [
    {
     "name": "stdout",
     "output_type": "stream",
     "text": [
      "k=0, rel_gap=inf, L=-286487.68618835206, U=8495.399015392732, L0=-286487.68618835206\n",
      "k=1, rel_gap=inf, L=-280088.7815561754, U=8495.399015392732, L0=-280088.7815561754\n",
      "k=2, rel_gap=inf, L=-258430.55726217257, U=3422.5974978393806, L0=-258430.55726217257\n",
      "k=3, rel_gap=inf, L=-252515.83414154517, U=3422.5974978393806, L0=-252515.83414154517\n",
      "k=4, rel_gap=10.861566657960843, L=288.54514724176994, U=3422.5974978393806, L0=288.54514724176994\n",
      "k=5, rel_gap=5.492748072736978, L=288.8971625842197, U=1875.7364955878738, L0=288.8971625842197\n",
      "k=6, rel_gap=2.8885593836107586, L=290.7992740355492, U=1130.7902457981313, L0=290.7992740355492\n",
      "k=7, rel_gap=1.5411518259468628, L=294.0262469170307, U=747.1653342295157, L0=294.0262469170307\n",
      "k=8, rel_gap=0.8922651881642532, L=304.6361823033534, U=576.4524428278947, L0=304.6361823033534\n",
      "k=9, rel_gap=0.4650023264312015, L=313.715482649138, U=459.59391191847436, L0=313.715482649138\n",
      "k=10, rel_gap=0.29356536208449385, L=355.29237670516284, U=459.59391191847436, L0=355.29237670516284\n",
      "k=11, rel_gap=0.14461524776094611, L=363.21124627768324, U=415.7371306476924, L0=363.21124627768324\n",
      "k=12, rel_gap=0.04630467671286727, L=397.33849986582953, U=415.7371306476924, L0=397.33849986582953\n",
      "k=13, rel_gap=0.024150383771367398, L=397.7872276761465, U=407.3939418838737, L0=397.7872276761465\n",
      "k=14, rel_gap=0.009220449694515959, L=400.00115989888627, U=403.689350471482, L0=400.00115989888627\n",
      "rel_gap=0.009220449694515959, L=400.00115989888627, U=403.689350471482\n",
      "elapsed time =  88.04110312461853\n"
     ]
    }
   ],
   "source": [
    "start = time.time()\n",
    "x_agent, x_global = prob.solve(rel_gap=rel_gap, abs_gap=10**(-3), max_iter=50, \\\n",
    "                               solver=\"OSQP\")\n",
    "print(f\"elapsed time =  {time.time()-start}\")"
   ]
  },
  {
   "attachments": {},
   "cell_type": "markdown",
   "id": "e27d97ce",
   "metadata": {},
   "source": [
    "# $L^k, \\quad h^\\star, \\quad U^k$"
   ]
  },
  {
   "cell_type": "code",
   "execution_count": 23,
   "id": "2852a1a6",
   "metadata": {},
   "outputs": [
    {
     "data": {
      "text/plain": [
       "(400.00115989888627, 401.83914918723735, 403.689350471482)"
      ]
     },
     "execution_count": 23,
     "metadata": {},
     "output_type": "execute_result"
    }
   ],
   "source": [
    "prob.lower_bnd[-1], -h_cvx, prob.upper_bnd[-1]"
   ]
  },
  {
   "cell_type": "code",
   "execution_count": 24,
   "id": "b3c7659d",
   "metadata": {
    "scrolled": false
   },
   "outputs": [
    {
     "name": "stdout",
     "output_type": "stream",
     "text": [
      "i=14, omega_k=0.009220449694515959, omega_true=0.004573942812860847\n"
     ]
    },
    {
     "data": {
      "image/png": "[encoded data removed]",
      "text/plain": [
       "<Figure size 640x480 with 1 Axes>"
      ]
     },
     "metadata": {},
     "output_type": "display_data"
    }
   ],
   "source": [
    "ob.plot_true_rel_gap_uk(lk = -np.array(prob.upper_bnd), uk = -np.array(prob.lower_bnd), h_true = h_cvx)"
   ]
  },
  {
   "cell_type": "code",
   "execution_count": null,
   "id": "f78b4f87",
   "metadata": {},
   "outputs": [],
   "source": []
  }
 ],
 "metadata": {
  "kernelspec": {
   "display_name": "Python 3 (ipykernel)",
   "language": "python",
   "name": "python3"
  },
  "language_info": {
   "codemirror_mode": {
    "name": "ipython",
    "version": 3
   },
   "file_extension": ".py",
   "mimetype": "text/x-python",
   "name": "python",
   "nbconvert_exporter": "python",
   "pygments_lexer": "ipython3",
   "version": "3.9.16"
  }
 },
 "nbformat": 4,
 "nbformat_minor": 5
}
