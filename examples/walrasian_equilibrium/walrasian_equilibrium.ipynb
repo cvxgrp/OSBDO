{
 "cells": [
  {
   "cell_type": "markdown",
   "id": "8abd5cc2",
   "metadata": {},
   "source": [
    "We consider a pure exchange economy with $N$ agents and $n$ commodities.\n",
    "Each agent $i$ has an endowment $e_i \\in {\\bf{R}}_+^n$ and a utility \n",
    "function $U_i(r_i)$, where $U_i: {\\bf{R}}_+^n \\to {\\bf{R}}$ is a concave nondecreasing. These primitives define the exchange economy $\\mathcal{E}=\\left( (U_i, e_i)_{i \\in [N]}\\right)$. Denote the total endowment by $E = \\sum_{i=1}^N e_i$.\n",
    "\n",
    "\n",
    "**Walrasian equilibrium** for exchange economy $\\mathcal{E}$ is a vector $\\left( \\nu, (x_i)_{i \\in [N]}\\right)$, such that \n",
    "* every agent's consumption  $x_i\\in {\\bf{R}}^n$ maximizes her utility given prices $\\nu \\in {\\bf{R}}_+^n$\n",
    "$$\n",
    "\\begin{array}{ll}\n",
    "\\mbox{maximize} & U_i(x_i)  \\\\\n",
    "\\mbox{subject to} & \\nu^T x_i \\leq \\nu^T e_i \\\\\n",
    "& x_i \\geq  0,\n",
    "\\end{array}\n",
    "$$\n",
    "* markets clear $\\sum_{i=1}^N x_i \\leq \\sum_{i=1}^N e_i=E$.\n",
    "\n",
    "The goal of this notebook is to see the performance of OSBDO when applied to the action directed Walrasian Equilibrium (over primal variables $x_1, \\ldots, x_N$) and price directed Walrasian Equilibrium (over dual variable $\\nu$). This corresponds to the primal formulation of the problem, given by\n",
    "$$\n",
    "\\begin{array}{ll}\n",
    "\\mbox{minimize} & \\sum_{i=1}^N -U_i(x_i)  \\\\\n",
    "\\mbox{subject to} & \\sum_{i=1}^N x_i = E \\\\\n",
    "& x_i  \\geq 0, \\quad i=1,\\ldots, N,\n",
    "\\end{array}\n",
    "$$\n",
    "and negated dual formulation of the problem, given by  \n",
    "$$\n",
    "\\begin{array}{ll}\n",
    "\\mbox{minimize} & \\sum_{i=1}^N \\underset{x_i\\geq 0}{\\max} \\left(\n",
    " U_i(x_i) - \\nu_i^Tx_i \n",
    "\\right ) + \\nu_1^T E   \\\\\n",
    "\\mbox{subject to} & \\nu_1=\\cdots=\\nu_N.\n",
    "\\end{array}\n",
    "$$\n"
   ]
  },
  {
   "cell_type": "code",
   "execution_count": 1,
   "id": "1a9a012e",
   "metadata": {
    "scrolled": true
   },
   "outputs": [],
   "source": [
    "import cvxpy as cp\n",
    "import numpy as np\n",
    "import osbdo as ob\n",
    "\n",
    "from scipy import stats\n",
    "import time\n",
    "from scipy import stats"
   ]
  },
  {
   "cell_type": "code",
   "execution_count": 2,
   "id": "d117fd45",
   "metadata": {},
   "outputs": [],
   "source": [
    "import matplotlib.pyplot as plt"
   ]
  },
  {
   "cell_type": "code",
   "execution_count": 3,
   "id": "3ab15f8c",
   "metadata": {},
   "outputs": [],
   "source": [
    "def get_rel_diff(a,b):\n",
    "    return np.linalg.norm(a-b) / min(np.linalg.norm(a), np.linalg.norm(b)) "
   ]
  },
  {
   "cell_type": "code",
   "execution_count": 4,
   "id": "a630280e",
   "metadata": {},
   "outputs": [],
   "source": [
    "def check_subgrads(agent, ntimes):\n",
    "    l, u = agent.lwb, agent.upb\n",
    "    n = agent.dim\n",
    "    for _ in range(ntimes):\n",
    "        v = l + np.multiply(np.random.rand(n), u-l)\n",
    "        point = agent.query(v=v)\n",
    "        linear = lambda x: point.f + point.q @ (x - point.x)\n",
    "        for _ in range(10):\n",
    "            test = l + np.multiply(np.random.rand(n), u-l)\n",
    "            a = linear(test)\n",
    "            b = agent.query(v=test).f + 10**(-6)\n",
    "            assert a <= b, print(a, b, b-a)\n",
    "    print(\"passed\")"
   ]
  },
  {
   "cell_type": "markdown",
   "id": "1fe5ff26",
   "metadata": {},
   "source": [
    "# Create instance of the problem"
   ]
  },
  {
   "cell_type": "code",
   "execution_count": 5,
   "id": "58b7b590",
   "metadata": {},
   "outputs": [],
   "source": [
    "N = 50\n",
    "\n",
    "params, R = ob.ra_params(num_resources=N, num_agents=N, num_participants=N)"
   ]
  },
  {
   "cell_type": "code",
   "execution_count": 6,
   "id": "ea63b7bb",
   "metadata": {},
   "outputs": [],
   "source": [
    "E = R\n",
    "n = params[0]['dimension']"
   ]
  },
  {
   "cell_type": "code",
   "execution_count": 7,
   "id": "376df2c7",
   "metadata": {},
   "outputs": [],
   "source": [
    "for j in range(n):\n",
    "    count = 0\n",
    "    for i in range(N):\n",
    "        A = params[i][\"A_list\"][0]\n",
    "        if A[0,j] > 0:\n",
    "            count += 1\n",
    "    assert count > 0"
   ]
  },
  {
   "cell_type": "markdown",
   "id": "5b928e6f",
   "metadata": {},
   "source": [
    "# Centralized solution"
   ]
  },
  {
   "cell_type": "code",
   "execution_count": 9,
   "id": "ecbbd6b6",
   "metadata": {},
   "outputs": [
    {
     "name": "stdout",
     "output_type": "stream",
     "text": [
      "elapsed time =  1.8503921031951904\n",
      "h_cvx = -441.2143119803273\n"
     ]
    }
   ],
   "source": [
    "dim = params[0]['dimension']\n",
    "z = cp.Variable(len(params)*dim)\n",
    "num_agents = len(params)\n",
    "constraints = []\n",
    "f = 0\n",
    "xi_list = []\n",
    "start = time.time()\n",
    "for i in range(num_agents):\n",
    "    xi = z[(i*dim):((i+1)*dim)]\n",
    "    X = cp.Variable((len(params[i]['A_list']), dim))\n",
    "    for j in range(len(params[i]['A_list'])):\n",
    "        f += -cp.geo_mean(params[i]['A_list'][j] @ X[j].T + params[i]['b_list'][j])\n",
    "    constraints += [cp.sum(X,axis=0) <= xi, \\\n",
    "                    X>=0, \\\n",
    "                    xi<=params[i]['upper_bound'], \n",
    "                    xi>=params[i]['lower_bound']]\n",
    "    xi_list.append(xi)\n",
    "constraints += [sum(xi_list)==R]\n",
    "prob_cvx = cp.Problem(cp.Minimize(f), constraints)\n",
    "prob_cvx.solve(solver='ECOS')\n",
    "print(f\"elapsed time =  {time.time()-start}\")\n",
    "\n",
    "h_cvx, x_cvx = f.value, z.value\n",
    "nu_cvx = constraints[-1].dual_value\n",
    "print(f\"{h_cvx = }\")"
   ]
  },
  {
   "cell_type": "markdown",
   "id": "fe955a42",
   "metadata": {},
   "source": [
    "### Initial upper bound on $\\nu$\n",
    "$$\n",
    "\\nu^\\star_j \\leq \\nu_{\\max,j} ~=~ \\min_{i:{A_{i, \\cdot j}}\\neq 0 } \\quad \\left [ (1/m) \\mbox{geomean}(A_i E + b_i) ~ A_i^T b_i^{-1} \\right ]\n",
    "$$"
   ]
  },
  {
   "cell_type": "code",
   "execution_count": null,
   "id": "d477c057",
   "metadata": {},
   "outputs": [],
   "source": [
    "nu_upb = np.inf * np.ones(n)\n",
    "m = params[0][\"A_list\"][0].shape[0]\n",
    "\n",
    "for i  in  range(N):\n",
    "    A = params[i][\"A_list\"][0]\n",
    "    b = params[i][\"b_list\"][0]\n",
    "    assert (A>=0).all() and (b>=0).all()\n",
    "    Ui = stats.mstats.gmean(A@E + b)\n",
    "    grad_i = (Ui/m) * A.T @ b**(-1)\n",
    "    \n",
    "    for j in range(n):\n",
    "        if A[0,j] > 0:\n",
    "            nu_upb[j] = min(nu_upb[j], grad_i[j])"
   ]
  },
  {
   "cell_type": "code",
   "execution_count": 12,
   "id": "edaae85b",
   "metadata": {},
   "outputs": [
    {
     "data": {
      "text/plain": [
       "(225.58239566083734,\n",
       " 0.605502579770611,\n",
       " 0.8625884345430109,\n",
       " 7.531374604706299,\n",
       " 28.12139502301498)"
      ]
     },
     "execution_count": 12,
     "metadata": {},
     "output_type": "execute_result"
    }
   ],
   "source": [
    "nu_cvx.min(), nu_cvx.max(), nu_upb.min(), nu_upb.max()"
   ]
  },
  {
   "cell_type": "code",
   "execution_count": 13,
   "id": "303e18e4",
   "metadata": {},
   "outputs": [],
   "source": [
    "assert (nu_cvx <= nu_upb + 10**(-8) ).all(), print(\"wrong bound on nu\")"
   ]
  },
  {
   "cell_type": "markdown",
   "id": "2193880f",
   "metadata": {},
   "source": [
    "# Walrasian equilibrium: action directed\n",
    "$$\n",
    "\\begin{array}{ll}\n",
    "\\mbox{minimize} & \\sum_{i=1}^N -U_i(x_i)  \\\\\n",
    "\\mbox{subject to} & \\sum_{i=1}^N x_i = E \\\\\n",
    "& x_i  \\geq 0, \\quad i=1,\\ldots, N,\n",
    "\\end{array}\n",
    "$$\n",
    "where $U_i(x_i)= \\mbox{geomean} \\left(A_ix_i+b_i\\right)$.\n",
    "\n",
    "## OSBDO oracle-structured form \n",
    "We can solve the problem using OSBDO, by taking the agent function\n",
    "$$\n",
    "f_i(x_i) = -U_i(x_i),$$\n",
    "and the structured objective function $g$,\n",
    "$$\n",
    "g(x) = \\left\\{ \\begin{array}{ll} 0 &\n",
    "x_1 + \\cdots + x_N = E, \\quad x_i \\geq 0, \\quad i=1, \\ldots, N\\\\\n",
    "\\infty & \\mbox{otherwise}.\n",
    "\\end{array} \\right.\n",
    "$$"
   ]
  },
  {
   "cell_type": "code",
   "execution_count": 15,
   "id": "c911cffa",
   "metadata": {},
   "outputs": [],
   "source": [
    "rel_gap = 0.01"
   ]
  },
  {
   "cell_type": "markdown",
   "id": "5a9bcfaf",
   "metadata": {},
   "source": [
    "# OSBDO solution"
   ]
  },
  {
   "cell_type": "code",
   "execution_count": 16,
   "id": "652f6f4e",
   "metadata": {},
   "outputs": [],
   "source": [
    "agents = ob.ra_agents(params=params)\n",
    "\n",
    "domain = [sum([agents[i].x for i in range(len(agents))])==R]\n",
    "g = ob.Coupling(agents = agents, function = cp.Constant(0), domain = domain)\n",
    "\n",
    "prob = ob.Problem(agents = agents, g = g)"
   ]
  },
  {
   "cell_type": "code",
   "execution_count": 18,
   "id": "a97e7037",
   "metadata": {
    "scrolled": false
   },
   "outputs": [
    {
     "name": "stdout",
     "output_type": "stream",
     "text": [
      "k=0, rel_gap=30.555930218133863, L=-10014.126281448845, U=-317.34530442376723\n",
      "k=1, rel_gap=0.427968422356101, L=-453.1590737001235, U=-317.34530442376723\n"
     ]
    },
    {
     "name": "stderr",
     "output_type": "stream",
     "text": [
      "/Users/parshakova.tanya/opt/anaconda3/envs/py38/lib/python3.8/site-packages/cvxpy/problems/problem.py:1333: UserWarning: Solution may be inaccurate. Try another solver, adjusting the solver settings, or solve with verbose=True for more information.\n",
      "  warnings.warn(\n"
     ]
    },
    {
     "name": "stdout",
     "output_type": "stream",
     "text": [
      "k=2, rel_gap=0.17238976286802235, L=-446.99503871313044, U=-381.2682888151842\n",
      "k=3, rel_gap=0.08243282676055635, L=-446.51584929331455, U=-412.51137091769647\n",
      "k=4, rel_gap=0.04732500636000662, L=-446.3192127076477, U=-426.1515861812912\n",
      "k=5, rel_gap=0.03379260585271342, L=-445.95679813844987, U=-431.3793652747273\n",
      "k=6, rel_gap=0.029653010193947792, L=-445.84107142586004, U=-433.00128005441405\n",
      "k=7, rel_gap=0.028064643135943368, L=-445.6960278612396, U=-433.5291859680308\n",
      "k=8, rel_gap=0.023471287010495744, L=-443.8876147129694, U=-433.70793137689395\n",
      "k=9, rel_gap=0.018124985850532453, L=-443.8373910632306, U=-435.9360562126396\n",
      "k=10, rel_gap=0.01406673696331014, L=-443.0984460901777, U=-436.95195783372725\n",
      "k=11, rel_gap=0.01152699687297284, L=-442.90599910786165, U=-437.8588020656473\n",
      "k=12, rel_gap=0.01040332878823197, L=-442.8740015696941, U=-438.31407612327354\n",
      "k=13, rel_gap=0.00815135007264801, L=-442.1589343905728, U=-438.58388361897306\n",
      "elapsed time =  302.4184367656708\n"
     ]
    }
   ],
   "source": [
    "start = time.time()\n",
    "x_agent, x_global = prob.solve(rel_gap=rel_gap, abs_gap=10**(-3), max_iter=50)\n",
    "print(f\"elapsed time =  {time.time()-start}\")"
   ]
  },
  {
   "cell_type": "markdown",
   "id": "ff8d1da1",
   "metadata": {},
   "source": [
    "# $L^k, \\quad h^\\star, \\quad U^k$"
   ]
  },
  {
   "cell_type": "code",
   "execution_count": 19,
   "id": "8c3aadff",
   "metadata": {},
   "outputs": [
    {
     "data": {
      "text/plain": [
       "(-442.1589343905728, -441.2143119803273, -438.58388361897306)"
      ]
     },
     "execution_count": 19,
     "metadata": {},
     "output_type": "execute_result"
    }
   ],
   "source": [
    "prob.lower_bnd[-1], h_cvx, prob.upper_bnd[-1]"
   ]
  },
  {
   "cell_type": "markdown",
   "id": "1c011f51",
   "metadata": {},
   "source": [
    "## Plot"
   ]
  },
  {
   "cell_type": "code",
   "execution_count": 20,
   "id": "ba5373c2",
   "metadata": {},
   "outputs": [
    {
     "data": {
      "image/png": "[encoded data removed]",
      "text/plain": [
       "<Figure size 600x400 with 1 Axes>"
      ]
     },
     "metadata": {
      "needs_background": "light"
     },
     "output_type": "display_data"
    }
   ],
   "source": [
    "ob.plot_true_rel_gap_uk(lk = prob.lower_bnd, uk = prob.upper_bnd, h_true = h_cvx)"
   ]
  },
  {
   "cell_type": "markdown",
   "id": "681cc740",
   "metadata": {},
   "source": [
    "# Walrasian equilibrium: price directed\n",
    "$$\n",
    "\\begin{array}{ll}\n",
    "\\mbox{minimize} & \\sum_{i=1}^N \\underset{x_i\\geq 0}{\\max} \\left(\n",
    " U_i(x_i) - \\nu_i^Tx_i \n",
    "\\right ) + \\nu_1^T E   \\\\\n",
    "\\mbox{subject to} & \\nu_1=\\cdots=\\nu_N,\n",
    "\\end{array}\n",
    "$$\n",
    "where $U_i(x_i)= \\mbox{geomean} \\left(A_ix_i+b_i\\right)$.\n",
    "\n",
    "## OSBDO oracle-structured form \n",
    "\n",
    "We can solve the problem in the dual variable using OSBDO, by taking the agent function\n",
    "$$\n",
    "f_i(\\nu_i) = \\underset{E \\geq x_i\\geq 0}{\\max} \\left(\n",
    " U_i(x_i) - \\nu_i^Tx_i \n",
    "\\right ),\n",
    "$$\n",
    "and $g$ the indicator function for consensus plus the total price for all  commodities,\n",
    "$$\n",
    "g(x) = \\left\\{ \\begin{array}{ll}  \\nu_1^T E & \\nu_1 = \\cdots = \\nu_N\\\\\n",
    "\\infty & \\mbox{otherwise}. \n",
    "\\end{array}\\right.\n",
    "$$\n",
    "Note that $f_i$ is convex as a pointwise supremum over linear functions in $\\nu_i$."
   ]
  },
  {
   "cell_type": "code",
   "execution_count": 21,
   "id": "589ffaed",
   "metadata": {},
   "outputs": [],
   "source": [
    "class GeoMeanConj(ob.Agent):\n",
    "    \"\"\"\n",
    "    fi(nu_i)  = \\max_{E\\geq x_i\\geq 0} ( U_i(x_i) - \\nu_i^Tx_i )\n",
    "    \"\"\"\n",
    "    def _construct_params(self):\n",
    "        self.A = self.params['A']\n",
    "        self.b = self.params['b']\n",
    "        self.E = self.params['E']\n",
    "        self.nu_max = self.params['nu_max']\n",
    "\n",
    "    def query(self, *, v, solver='ECOS'):\n",
    "        x = cp.Variable((self.dim), nonneg=True)\n",
    "        f = cp.geo_mean(self.A @ x + self.b) - v @ x\n",
    "        prob = cp.Problem(cp.Maximize(f), [x <= self.E])\n",
    "        prob.solve(solver=cp.MOSEK)\n",
    "        f = f.value\n",
    "        q = -x.value\n",
    "        return ob.Point(x=v, q=q, f=f)\n",
    "    \n",
    "    def get_init_minorant(self):\n",
    "        lwb = stats.mstats.gmean(self.b, axis=None) - self.E @ self.nu_max\n",
    "        return cp.Constant(lwb)\n",
    "    \n",
    "def get_total_obj(agents, xs):\n",
    "    obj = 0\n",
    "    for agent in agents:\n",
    "        obj += stats.mstats.gmean(agent.A @ xs[i] + agent.b, axis=None)\n",
    "    return -obj"
   ]
  },
  {
   "cell_type": "markdown",
   "id": "c34b0b79",
   "metadata": {},
   "source": [
    "# $\\nu \\geq 0$"
   ]
  },
  {
   "cell_type": "markdown",
   "id": "70ad6b4b",
   "metadata": {},
   "source": [
    "### Create agents"
   ]
  },
  {
   "cell_type": "code",
   "execution_count": 22,
   "id": "fdba35cb",
   "metadata": {},
   "outputs": [],
   "source": [
    "agents = [0]*N\n",
    "nu_params = []\n",
    "for i  in  range(N): \n",
    "    nu_params += [{ 'dimension':n, \n",
    "                    'lower_bound':0, \n",
    "                    'upper_bound':None,\n",
    "                    'nu_max':nu_upb,\n",
    "                    'E':E,\n",
    "                    'A':params[i][\"A_list\"][0],\n",
    "                    'b':params[i][\"b_list\"][0]}]\n",
    "    \n",
    "    agents[i] = GeoMeanConj(nu_params[i])"
   ]
  },
  {
   "cell_type": "code",
   "execution_count": 23,
   "id": "29f25cb9",
   "metadata": {},
   "outputs": [],
   "source": [
    "domain = [agents[0].x == agent.x for agent in agents[1:]]\n",
    "\n",
    "g = ob.Coupling(agents = agents, function = agents[0].x @ E, domain = domain)"
   ]
  },
  {
   "cell_type": "code",
   "execution_count": 24,
   "id": "2efeb5a7",
   "metadata": {},
   "outputs": [],
   "source": [
    "prob = ob.Problem(agents = agents, g = g)"
   ]
  },
  {
   "cell_type": "markdown",
   "id": "eb8c4fec",
   "metadata": {},
   "source": [
    "# OSBDO solution"
   ]
  },
  {
   "cell_type": "code",
   "execution_count": 25,
   "id": "cd641c95",
   "metadata": {
    "scrolled": false
   },
   "outputs": [
    {
     "name": "stdout",
     "output_type": "stream",
     "text": [
      "k=0, rel_gap=inf, L=-409888.9449481404, U=10014.126129272703\n",
      "k=1, rel_gap=inf, L=-401456.4859205848, U=10014.126129272703\n",
      "k=2, rel_gap=inf, L=-385280.7451810157, U=4360.844388614412\n",
      "k=3, rel_gap=inf, L=-375975.6033661573, U=4360.844388614412\n",
      "k=4, rel_gap=inf, L=-368674.07414525066, U=4360.844388614412\n",
      "k=5, rel_gap=14.77585167516818, L=276.4252909070231, U=4360.844388614412\n",
      "k=6, rel_gap=6.853321015081985, L=300.8179923811784, U=2362.420261281881\n",
      "k=7, rel_gap=3.726545680091909, L=307.5268189332859, U=1453.5395575415291\n",
      "k=8, rel_gap=2.196687843699184, L=316.3772204019875, U=1011.3592144823708\n",
      "k=9, rel_gap=1.3786873520245662, L=330.84014740135154, U=786.9652741655381\n"
     ]
    },
    {
     "name": "stderr",
     "output_type": "stream",
     "text": [
      "/Users/parshakova.tanya/opt/anaconda3/envs/py38/lib/python3.8/site-packages/cvxpy/problems/problem.py:1333: UserWarning: Solution may be inaccurate. Try another solver, adjusting the solver settings, or solve with verbose=True for more information.\n",
      "  warnings.warn(\n"
     ]
    },
    {
     "name": "stdout",
     "output_type": "stream",
     "text": [
      "k=10, rel_gap=0.7162815334755341, L=341.3037452564218, U=585.7733152896346\n",
      "k=11, rel_gap=0.46813894734851497, L=353.641316109227, U=519.1945895715439\n",
      "k=12, rel_gap=0.3071965106060116, L=378.31384227844393, U=494.53053454033494\n",
      "k=13, rel_gap=0.030786921737716834, L=434.10042453946403, U=447.46504033607016\n",
      "k=14, rel_gap=0.007772105638673326, L=438.70759103648436, U=442.1172727785078\n",
      "elapsed time =  105.71737909317017\n"
     ]
    }
   ],
   "source": [
    "start = time.time()\n",
    "x_agent, x_global = prob.solve(rel_gap=rel_gap, abs_gap=10**(-3), max_iter=50, \\\n",
    "                               solver=\"OSQP\")\n",
    "print(f\"elapsed time =  {time.time()-start}\")"
   ]
  },
  {
   "cell_type": "markdown",
   "id": "e27d97ce",
   "metadata": {},
   "source": [
    "# $L^k, \\quad h^\\star, \\quad U^k$"
   ]
  },
  {
   "cell_type": "code",
   "execution_count": 26,
   "id": "2852a1a6",
   "metadata": {},
   "outputs": [
    {
     "data": {
      "text/plain": [
       "(438.70759103648436, 441.2143119803273, 442.1172727785078)"
      ]
     },
     "execution_count": 26,
     "metadata": {},
     "output_type": "execute_result"
    }
   ],
   "source": [
    "prob.lower_bnd[-1], -h_cvx, prob.upper_bnd[-1]"
   ]
  },
  {
   "cell_type": "code",
   "execution_count": 27,
   "id": "b3c7659d",
   "metadata": {
    "scrolled": false
   },
   "outputs": [
    {
     "data": {
      "image/png": "[encoded data removed]",
      "text/plain": [
       "<Figure size 600x400 with 1 Axes>"
      ]
     },
     "metadata": {
      "needs_background": "light"
     },
     "output_type": "display_data"
    }
   ],
   "source": [
    "ob.plot_true_rel_gap_uk(lk = -np.array(prob.upper_bnd), uk = -np.array(prob.lower_bnd), h_true = h_cvx)"
   ]
  },
  {
   "cell_type": "markdown",
   "id": "4b6bdd8a",
   "metadata": {},
   "source": [
    "#  $0 \\leq \\nu \\leq \\nu_{\\max}$"
   ]
  },
  {
   "cell_type": "markdown",
   "id": "8fd2403c",
   "metadata": {},
   "source": [
    "### Create agents"
   ]
  },
  {
   "cell_type": "code",
   "execution_count": 28,
   "id": "e1d3a872",
   "metadata": {},
   "outputs": [],
   "source": [
    "agents = [0]*N\n",
    "nu_params = []\n",
    "for i  in  range(N): \n",
    "    nu_params += [{ 'dimension':n, \n",
    "                    'lower_bound':0, \n",
    "                    'upper_bound':nu_upb,\n",
    "                    'nu_max':nu_upb,\n",
    "                    'E':E,\n",
    "                    'A':params[i][\"A_list\"][0],\n",
    "                    'b':params[i][\"b_list\"][0]}]\n",
    "    \n",
    "    agents[i] = GeoMeanConj(nu_params[i])"
   ]
  },
  {
   "cell_type": "code",
   "execution_count": 31,
   "id": "ad39f4a0",
   "metadata": {},
   "outputs": [],
   "source": [
    "domain = [agents[0].x == agent.x for agent in agents[1:]]\n",
    "\n",
    "g = ob.Coupling(agents = agents, function = agents[0].x @ E, domain = domain)"
   ]
  },
  {
   "cell_type": "code",
   "execution_count": 32,
   "id": "0389ee0d",
   "metadata": {},
   "outputs": [],
   "source": [
    "prob = ob.Problem(agents = agents, g = g)"
   ]
  },
  {
   "cell_type": "markdown",
   "id": "9e40642f",
   "metadata": {},
   "source": [
    "# OSBDO solution"
   ]
  },
  {
   "cell_type": "code",
   "execution_count": 35,
   "id": "e5c37116",
   "metadata": {
    "scrolled": false
   },
   "outputs": [
    {
     "name": "stdout",
     "output_type": "stream",
     "text": [
      "k=0, rel_gap=inf, L=-409888.94494813966, U=4199.257903357693\n"
     ]
    },
    {
     "name": "stderr",
     "output_type": "stream",
     "text": [
      "/Users/parshakova.tanya/opt/anaconda3/envs/py38/lib/python3.8/site-packages/cvxpy/problems/problem.py:1333: UserWarning: Solution may be inaccurate. Try another solver, adjusting the solver settings, or solve with verbose=True for more information.\n",
      "  warnings.warn(\n"
     ]
    },
    {
     "name": "stdout",
     "output_type": "stream",
     "text": [
      "k=1, rel_gap=41.10016572231153, L=99.74445067640771, U=4199.257903357693\n",
      "k=2, rel_gap=21.535412641569838, L=186.34040432929783, U=4199.257903357693\n",
      "k=3, rel_gap=16.228680048598118, L=186.97809631974368, U=3221.385797588825\n",
      "k=4, rel_gap=10.317407912209807, L=217.92716953629804, U=2466.370672795588\n",
      "k=5, rel_gap=7.131186261921752, L=245.6762239255546, U=1997.6391368642817\n",
      "k=6, rel_gap=5.388721531878714, L=277.6708122573816, U=1773.9614970429857\n",
      "k=7, rel_gap=3.6650860304222608, L=288.6542631602767, U=1346.596970690838\n",
      "k=8, rel_gap=3.0556735108352933, L=307.0382059729114, U=1245.2467187787274\n",
      "k=9, rel_gap=2.7302754106800102, L=326.195321068196, U=1216.7983852595626\n",
      "k=10, rel_gap=1.5542036817711382, L=336.7268451540979, U=860.0689476437767\n",
      "k=11, rel_gap=1.3759639678527502, L=361.9873698762587, U=860.0689476437767\n",
      "k=12, rel_gap=1.3228190844306298, L=361.9873698829687, U=840.8311710870091\n",
      "k=13, rel_gap=0.9812080321491362, L=369.62285690963273, U=732.2997729752752\n",
      "k=14, rel_gap=0.9260839447584214, L=380.20137957544927, U=732.2997729752752\n",
      "k=15, rel_gap=0.691756705855598, L=381.3838536790621, U=645.2086919666035\n",
      "k=16, rel_gap=0.6703100162965837, L=386.2808015706941, U=645.2086919666035\n",
      "k=17, rel_gap=0.4487999669089921, L=392.72909854858483, U=568.985904981388\n",
      "k=18, rel_gap=0.4122182395529096, L=402.90224913220334, U=568.985904981388\n",
      "k=19, rel_gap=0.2928876600646417, L=408.95462018205114, U=528.7323819597964\n",
      "k=20, rel_gap=0.2817016860659499, L=412.5237469123455, U=528.7323819597964\n",
      "k=21, rel_gap=0.22594271747339825, L=414.2299391176006, U=507.8221772206716\n",
      "k=22, rel_gap=0.21165335040494979, L=419.11506872072863, U=507.8221772206716\n",
      "k=23, rel_gap=0.12303426776960973, L=424.4113968479221, U=476.62854229218345\n",
      "k=24, rel_gap=0.10384356253944928, L=428.8499403635169, U=473.38324596569487\n",
      "k=25, rel_gap=0.09917511278770601, L=430.6713647883727, U=473.38324596569487\n",
      "k=26, rel_gap=0.0602953076307452, L=431.99474548301356, U=458.04200155677734\n",
      "k=27, rel_gap=0.042512134467947056, L=433.748446835952, U=452.1880191331052\n",
      "k=28, rel_gap=0.019688053840915428, L=437.1891914764538, U=445.7965958169085\n",
      "k=29, rel_gap=0.010582541808706129, L=439.69640179463215, U=444.3495073497615\n",
      "k=30, rel_gap=0.004607506904199343, L=439.8213597442968, U=441.847839695933\n",
      "elapsed time =  250.47469830513\n"
     ]
    }
   ],
   "source": [
    "start = time.time()\n",
    "x_agent, x_global = prob.solve(rel_gap=rel_gap, abs_gap=10**(-3), max_iter=50)\n",
    "print(f\"elapsed time =  {time.time()-start}\")"
   ]
  },
  {
   "cell_type": "markdown",
   "id": "8f662d83",
   "metadata": {},
   "source": [
    "# $L^k, \\quad h^\\star, \\quad U^k$"
   ]
  },
  {
   "cell_type": "code",
   "execution_count": 36,
   "id": "37458766",
   "metadata": {},
   "outputs": [
    {
     "data": {
      "text/plain": [
       "(439.8213597442968, 441.2143119803273, 441.847839695933)"
      ]
     },
     "execution_count": 36,
     "metadata": {},
     "output_type": "execute_result"
    }
   ],
   "source": [
    "prob.lower_bnd[-1], -h_cvx, prob.upper_bnd[-1]"
   ]
  },
  {
   "cell_type": "code",
   "execution_count": 37,
   "id": "019705b0",
   "metadata": {
    "scrolled": false
   },
   "outputs": [
    {
     "data": {
      "image/png": "[encoded data removed]",
      "text/plain": [
       "<Figure size 600x400 with 1 Axes>"
      ]
     },
     "metadata": {
      "needs_background": "light"
     },
     "output_type": "display_data"
    }
   ],
   "source": [
    "ob.plot_true_rel_gap_uk(lk = -np.array(prob.upper_bnd), uk = -np.array(prob.lower_bnd), h_true = h_cvx)"
   ]
  }
 ],
 "metadata": {
  "kernelspec": {
   "display_name": "Python 3 (ipykernel)",
   "language": "python",
   "name": "python3"
  },
  "language_info": {
   "codemirror_mode": {
    "name": "ipython",
    "version": 3
   },
   "file_extension": ".py",
   "mimetype": "text/x-python",
   "name": "python",
   "nbconvert_exporter": "python",
   "pygments_lexer": "ipython3",
   "version": "3.8.8"
  }
 },
 "nbformat": 4,
 "nbformat_minor": 5
}
