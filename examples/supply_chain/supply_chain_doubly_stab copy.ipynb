{
 "cells": [
  {
   "cell_type": "code",
   "execution_count": 1,
   "id": "aa2f7901",
   "metadata": {},
   "outputs": [],
   "source": [
    "import numpy as np\n",
    "import cvxpy as cp\n",
    "import osbdo as ob"
   ]
  },
  {
   "cell_type": "code",
   "execution_count": 2,
   "id": "beef43fb",
   "metadata": {},
   "outputs": [],
   "source": [
    "import time\n",
    "import random\n",
    "np.random.seed(0) \n",
    "random.seed(0)"
   ]
  },
  {
   "attachments": {},
   "cell_type": "markdown",
   "id": "03a04778",
   "metadata": {},
   "source": [
    "# Problem description\n",
    "section 4.1 in https://web.stanford.edu/~boyd/papers/os_bundle_distr_opt.html "
   ]
  },
  {
   "attachments": {},
   "cell_type": "markdown",
   "id": "1819d54c",
   "metadata": {},
   "source": [
    "# Create parameters"
   ]
  },
  {
   "cell_type": "code",
   "execution_count": 3,
   "id": "5cd7cc37",
   "metadata": {},
   "outputs": [],
   "source": [
    "# ms = [5, 5, 12, 10, 6]\n",
    "# ns = [5, 12, 10, 6, 9]\n",
    "ms = [20, 30, 40, 25, 35]\n",
    "ns = [30, 40, 25, 35, 20]\n",
    "params = ob.sc_params(ms, ns)"
   ]
  },
  {
   "attachments": {},
   "cell_type": "markdown",
   "id": "21f273d1",
   "metadata": {},
   "source": [
    "# Distributed solution"
   ]
  },
  {
   "cell_type": "code",
   "execution_count": 4,
   "id": "0b2cd8f4",
   "metadata": {},
   "outputs": [],
   "source": [
    "agents = ob.sc_agents(params)\n",
    "g = ob.sc_coupling(params, agents)\n",
    "prob = ob.Problem(agents = agents, g = g)"
   ]
  },
  {
   "cell_type": "code",
   "execution_count": 5,
   "id": "1e7b56f4",
   "metadata": {},
   "outputs": [],
   "source": [
    "ob.add_extra_methods_to_problem(prob)"
   ]
  },
  {
   "cell_type": "code",
   "execution_count": 6,
   "id": "f48f71ca",
   "metadata": {},
   "outputs": [],
   "source": [
    "best_params = (1, 0.5, 0.1, 10)"
   ]
  },
  {
   "cell_type": "code",
   "execution_count": 7,
   "id": "c0dc208d",
   "metadata": {
    "scrolled": true
   },
   "outputs": [
    {
     "name": "stdout",
     "output_type": "stream",
     "text": [
      "k=0, rel_gap=inf, L=-2074.3559134842617, U=4409.906115002427, L0=-2074.3559134842617\n",
      "   null step: tau_k=0.5000005, mu_k=1.0000000000082658, L_k=-2074.3559134842617, l_k=1167.7751007590828\n",
      "k=20, rel_gap=inf, L=-384.3271618375411, U=58.29868364397851, L0=-384.3271618375411\n",
      "   null step: tau_k=0.004773293565273095, mu_k=2.166624106243595, L_k=-2074.3559134842617, l_k=-314.71856566600394\n",
      "k=40, rel_gap=1.0757718918738457, L=-124.31297057564598, U=-59.887587389684654, L0=-124.31297057564598\n",
      "   descent step: tau_k=0.003291211526870509, mu_k=1.94270401819747, L_k=-2074.3559134842617, l_k=-83.20116547155855\n",
      "k=60, rel_gap=0.1772477403167907, L=-91.42753063332714, U=-77.66209906567713, L0=-91.42753063332714\n",
      "   null step: tau_k=0.00012806809432372942, mu_k=1.0000000003937277, L_k=-2074.3559134842617, l_k=-80.57629632591136\n"
     ]
    },
    {
     "name": "stderr",
     "output_type": "stream",
     "text": [
      "/Users/parshakova.tanya/opt/anaconda3/envs/osbdo/lib/python3.9/site-packages/cvxpy/problems/problem.py:1385: UserWarning: Solution may be inaccurate. Try another solver, adjusting the solver settings, or solve with verbose=True for more information.\n",
      "  warnings.warn(\n"
     ]
    },
    {
     "name": "stdout",
     "output_type": "stream",
     "text": [
      "k=80, rel_gap=0.09531844395160989, L=-88.13637433247618, U=-80.46643861350879, L0=-88.13637433247618\n",
      "   null step: tau_k=4.7957603012224764e-05, mu_k=16.62713459200249, L_k=-2074.3559134842617, l_k=-81.19498792856734\n",
      "k=100, rel_gap=0.08805429478365905, L=-87.87864328234264, U=-80.76678131197102, L0=-87.87864328234264\n",
      "   null step: tau_k=1.213522413709709e-05, mu_k=10.540735814794667, L_k=-2074.3559134842617, l_k=-80.85784997635334\n",
      "k=120, rel_gap=0.08739550688817127, L=-87.8254351044568, U=-80.76678131197102, L0=-87.82543778531681\n",
      "   null step: tau_k=1.000010619377267e-06, mu_k=3.034890227485949, L_k=-2074.3559134842617, l_k=-80.78954847806659\n",
      "k=140, rel_gap=0.08739522848231938, L=-87.82541261851225, U=-80.76678131197102, L0=-87.82541635997723\n",
      "   null step: tau_k=1.0000000000101273e-06, mu_k=3.1843603614844853, L_k=-2074.3559134842617, l_k=-80.78954847806659\n",
      "rel_gap=0.08739505380388601, L=-87.82539851029742, L_k=-2074.3559134842617, U=-80.76678131197102, l_k=-80.78954847806659\n",
      "elapsed time = 206.45902395248413\n"
     ]
    }
   ],
   "source": [
    "max_iter = 150\n",
    "start_time = time.time()\n",
    "# best_params = (1, 0.5, 0.1, 10)\n",
    "x_agent, x_global = prob.solve_doubly_stabilized(ds_params=best_params, rel_gap=10**(-5), abs_gap=10**(-5),\\\n",
    "                                                  max_iter=max_iter, memory=max_iter, tol=1e-6, print_freq=20)\n",
    "print(f\"elapsed time = {time.time() - start_time}\")"
   ]
  },
  {
   "cell_type": "code",
   "execution_count": 8,
   "id": "e24ea789",
   "metadata": {},
   "outputs": [
    {
     "data": {
      "text/plain": [
       "(-87.82539851029742, -80.76678131197102)"
      ]
     },
     "execution_count": 8,
     "metadata": {},
     "output_type": "execute_result"
    }
   ],
   "source": [
    "prob.lower_bnd[-1], prob.upper_bnd[-1]"
   ]
  },
  {
   "attachments": {},
   "cell_type": "markdown",
   "id": "5c881a48",
   "metadata": {},
   "source": [
    "# Centralized solution"
   ]
  },
  {
   "cell_type": "code",
   "execution_count": 9,
   "id": "4c004780",
   "metadata": {},
   "outputs": [],
   "source": [
    "h_cvx, x_cvx, prob_cvx = ob.cvx_supply_chain(params=params)"
   ]
  },
  {
   "cell_type": "code",
   "execution_count": 10,
   "id": "8934b139",
   "metadata": {},
   "outputs": [
    {
     "data": {
      "text/plain": [
       "(-81.1232713273431, -80.76678131197102)"
      ]
     },
     "execution_count": 10,
     "metadata": {},
     "output_type": "execute_result"
    }
   ],
   "source": [
    "h_cvx, prob.upper_bnd[-1]"
   ]
  },
  {
   "cell_type": "code",
   "execution_count": 11,
   "id": "77b58f62",
   "metadata": {},
   "outputs": [],
   "source": [
    "assert prob.lower_bnd[-1] - 1e-8 <= h_cvx <= 1e-8 + prob.upper_bnd[-1], print(prob.lower_bnd[-1], h_cvx, prob.upper_bnd[-1])"
   ]
  },
  {
   "attachments": {},
   "cell_type": "markdown",
   "id": "d84e60d7",
   "metadata": {},
   "source": [
    "# Plot"
   ]
  },
  {
   "cell_type": "code",
   "execution_count": 12,
   "id": "7c1fdcdf",
   "metadata": {},
   "outputs": [
    {
     "name": "stdout",
     "output_type": "stream",
     "text": [
      "i=79, omega_k=0.09534536457290926, omega_true=0.008096723703164195\n"
     ]
    },
    {
     "data": {
      "image/png": "[encoded data removed]",
      "text/plain": [
       "<Figure size 640x480 with 1 Axes>"
      ]
     },
     "metadata": {},
     "output_type": "display_data"
    }
   ],
   "source": [
    "ob.plot_true_rel_gap_uk(lk = prob.lower_bnd, uk = prob.upper_bnd, h_true = h_cvx, file_name='sc_doubly_stab.pdf')"
   ]
  },
  {
   "cell_type": "code",
   "execution_count": null,
   "id": "9f04cdf5",
   "metadata": {},
   "outputs": [],
   "source": []
  },
  {
   "cell_type": "code",
   "execution_count": 13,
   "id": "5c3d39b6",
   "metadata": {},
   "outputs": [
    {
     "name": "stdout",
     "output_type": "stream",
     "text": [
      "i=79, omega_k=0.09534536457290926, omega_true=0.008096723703164195\n"
     ]
    },
    {
     "data": {
      "image/png": "[encoded data removed]",
      "text/plain": [
       "<Figure size 640x480 with 1 Axes>"
      ]
     },
     "metadata": {},
     "output_type": "display_data"
    }
   ],
   "source": [
    "ob.plot_true_rel_gap_uk(y_min=1e-4, y_max=1e2, lk = prob.lower_bnd, uk = prob.upper_bnd, h_true = h_cvx, file_name='sc_dsbm_bounds.pdf')"
   ]
  },
  {
   "cell_type": "code",
   "execution_count": null,
   "id": "158c5348",
   "metadata": {},
   "outputs": [],
   "source": []
  }
 ],
 "metadata": {
  "kernelspec": {
   "display_name": "Python 3 (ipykernel)",
   "language": "python",
   "name": "python3"
  },
  "language_info": {
   "codemirror_mode": {
    "name": "ipython",
    "version": 3
   },
   "file_extension": ".py",
   "mimetype": "text/x-python",
   "name": "python",
   "nbconvert_exporter": "python",
   "pygments_lexer": "ipython3",
   "version": "3.9.16"
  }
 },
 "nbformat": 4,
 "nbformat_minor": 5
}
