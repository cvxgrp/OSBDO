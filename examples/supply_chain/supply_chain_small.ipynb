{
 "cells": [
  {
   "cell_type": "code",
   "execution_count": 1,
   "id": "aa2f7901",
   "metadata": {},
   "outputs": [],
   "source": [
    "import numpy as np\n",
    "import cvxpy as cp\n",
    "import osbdo as ob"
   ]
  },
  {
   "cell_type": "code",
   "execution_count": 2,
   "id": "39f80311",
   "metadata": {},
   "outputs": [],
   "source": [
    "import time\n",
    "import random\n",
    "\n",
    "\n",
    "np.random.seed(0)\n",
    "random.seed(0)"
   ]
  },
  {
   "attachments": {},
   "cell_type": "markdown",
   "id": "03a04778",
   "metadata": {},
   "source": [
    "# Problem description\n",
    "section 4.1 in https://web.stanford.edu/~boyd/papers/os_bundle_distr_opt.html "
   ]
  },
  {
   "attachments": {},
   "cell_type": "markdown",
   "id": "1819d54c",
   "metadata": {},
   "source": [
    "# Create parameters"
   ]
  },
  {
   "cell_type": "code",
   "execution_count": 3,
   "id": "5cd7cc37",
   "metadata": {},
   "outputs": [],
   "source": [
    "ms = [2, 5, 2, 3, 6]\n",
    "ns = [5, 2, 3, 6, 5]\n",
    "params = ob.sc_params(ms, ns)"
   ]
  },
  {
   "attachments": {},
   "cell_type": "markdown",
   "id": "21f273d1",
   "metadata": {},
   "source": [
    "# Distributed solution"
   ]
  },
  {
   "cell_type": "code",
   "execution_count": 4,
   "id": "0b2cd8f4",
   "metadata": {},
   "outputs": [],
   "source": [
    "agents = ob.sc_agents(params)\n",
    "g = ob.sc_coupling(params, agents)\n",
    "prob = ob.Problem(agents = agents, g = g)"
   ]
  },
  {
   "cell_type": "code",
   "execution_count": 5,
   "id": "c0dc208d",
   "metadata": {
    "scrolled": true
   },
   "outputs": [
    {
     "name": "stdout",
     "output_type": "stream",
     "text": [
      "k=0, rel_gap=inf, L=-19.522970897904557, U=245.16392110644114, L0=-19.522970897904557\n",
      "k=20, rel_gap=inf, L=-0.05874637686287032, U=0.4267914266634134, L0=-0.05874637686287032\n",
      "rho=44.00774974444514\n"
     ]
    },
    {
     "name": "stderr",
     "output_type": "stream",
     "text": [
      "/var/folders/13/wyn3w3nx7ks002_qzk18rz7h0000gn/T/ipykernel_15035/1978256884.py:3: DeprecationWarning: `product` is deprecated as of NumPy 1.25.0, and will be removed in NumPy 2.0. Please use `prod` instead.\n",
      "  x_agent, x_global = prob.solve(rel_gap=10**(-5), abs_gap=10**(-5), max_iter=max_iter, memory=max_iter, print_freq=20)\n",
      "/Users/parshakova.tanya/opt/anaconda3/envs/osbdo/lib/python3.9/site-packages/cvxpy/problems/problem.py:1385: UserWarning: Solution may be inaccurate. Try another solver, adjusting the solver settings, or solve with verbose=True for more information.\n",
      "  warnings.warn(\n"
     ]
    },
    {
     "name": "stdout",
     "output_type": "stream",
     "text": [
      "rel_gap=inf, L=-6.326977036380671e-09, U=8.539059442694008e-07\n",
      "elapsed time = 11.079317092895508\n"
     ]
    }
   ],
   "source": [
    "max_iter = 150\n",
    "start_time = time.time()\n",
    "x_agent, x_global = prob.solve(rel_gap=10**(-5), abs_gap=10**(-5), max_iter=max_iter, memory=max_iter, print_freq=20)\n",
    "print(f\"elapsed time = {time.time() - start_time}\")"
   ]
  },
  {
   "attachments": {},
   "cell_type": "markdown",
   "id": "5c881a48",
   "metadata": {},
   "source": [
    "# Centralized solution"
   ]
  },
  {
   "cell_type": "code",
   "execution_count": 6,
   "id": "4c004780",
   "metadata": {},
   "outputs": [],
   "source": [
    "h_cvx, x_cvx, prob_cvx = ob.cvx_supply_chain(params=params)"
   ]
  },
  {
   "cell_type": "code",
   "execution_count": 7,
   "id": "8934b139",
   "metadata": {},
   "outputs": [
    {
     "data": {
      "text/plain": [
       "(2.234255981447417e-11, 8.539059442694008e-07)"
      ]
     },
     "execution_count": 7,
     "metadata": {},
     "output_type": "execute_result"
    }
   ],
   "source": [
    "h_cvx, prob.upper_bnd[-1]"
   ]
  },
  {
   "attachments": {},
   "cell_type": "markdown",
   "id": "d84e60d7",
   "metadata": {},
   "source": [
    "# Plot"
   ]
  },
  {
   "cell_type": "code",
   "execution_count": 8,
   "id": "7c1fdcdf",
   "metadata": {},
   "outputs": [
    {
     "data": {
      "image/png": "[encoded data removed]",
      "text/plain": [
       "<Figure size 640x480 with 1 Axes>"
      ]
     },
     "metadata": {},
     "output_type": "display_data"
    }
   ],
   "source": [
    "ob.plot_true_rel_gap_uk(lk = prob.lower_bnd, uk = prob.upper_bnd, h_true = h_cvx)"
   ]
  },
  {
   "cell_type": "code",
   "execution_count": null,
   "id": "9f04cdf5",
   "metadata": {},
   "outputs": [],
   "source": []
  },
  {
   "cell_type": "code",
   "execution_count": null,
   "id": "588201bd",
   "metadata": {},
   "outputs": [],
   "source": []
  },
  {
   "cell_type": "code",
   "execution_count": null,
   "id": "ff6a4c1e",
   "metadata": {},
   "outputs": [],
   "source": []
  },
  {
   "cell_type": "code",
   "execution_count": null,
   "id": "b5a826c7",
   "metadata": {},
   "outputs": [],
   "source": []
  },
  {
   "cell_type": "code",
   "execution_count": 9,
   "id": "92a2cb81",
   "metadata": {},
   "outputs": [],
   "source": [
    "A, b, l, u, _, grad_g_val = ob.sc_data_matrix_format(params)"
   ]
  },
  {
   "cell_type": "code",
   "execution_count": 10,
   "id": "af71cb35",
   "metadata": {},
   "outputs": [],
   "source": [
    "data = {\"params\" : params, \"A\": A, \"b\": b.reshape(-1, 1), \"grad_g_val\" : grad_g_val.reshape(-1, 1), \"lower_bound\" : l.reshape(-1, 1), \"upper_bound\" : u.reshape(-1, 1), \"h_cvx\":h_cvx}"
   ]
  },
  {
   "cell_type": "code",
   "execution_count": 11,
   "id": "69d30419",
   "metadata": {},
   "outputs": [],
   "source": [
    "import pandas as pd\n",
    "\n",
    "pd.to_pickle(data, \"sc_data_small.pickle\")"
   ]
  },
  {
   "cell_type": "code",
   "execution_count": 12,
   "id": "e4622372",
   "metadata": {},
   "outputs": [
    {
     "data": {
      "text/plain": [
       "(array([0., 0., 0., 0., 0., 0., 0., 0., 0., 0., 0., 0., 0., 0., 0., 0., 0.,\n",
       "        0., 0., 0., 0., 0., 0., 0., 0., 0., 0., 0., 0., 0., 0., 0., 0., 0.,\n",
       "        0., 0., 0., 0., 0.]),\n",
       " array([ 3.12767879,  9.59534879,  1.84040191,  3.17812036,  1.64910119,\n",
       "         5.33159147,  3.53306587,  1.84040191,  3.17812036,  1.64910119,\n",
       "         5.33159147,  3.53306587,  6.08047679,  4.09229414,  6.08047679,\n",
       "         4.09229414, 13.52191579,  7.81929729, 10.59553966, 13.52191579,\n",
       "         7.81929729, 10.59553966,  6.55920779, 10.18812278, 10.94050711,\n",
       "        13.87046479, 10.92997087,  9.08870515,  6.55920779, 10.18812278,\n",
       "        10.94050711, 13.87046479, 10.92997087,  9.08870515,  6.70544272,\n",
       "         9.04804683, 12.53820285,  4.91593991, 28.36934618]),\n",
       " array([  9.09762701,   9.43037873,   0.        ,   0.        ,\n",
       "          0.        ,   0.        ,   0.        ,   0.        ,\n",
       "          0.        ,   0.        ,   0.        ,   0.        ,\n",
       "          0.        ,   0.        ,   0.        ,   0.        ,\n",
       "          0.        ,   0.        ,   0.        ,   0.        ,\n",
       "          0.        ,   0.        ,   0.        ,   0.        ,\n",
       "          0.        ,   0.        ,   0.        ,   0.        ,\n",
       "          0.        ,   0.        ,   0.        ,   0.        ,\n",
       "          0.        ,   0.        , -11.20552675, -11.08976637,\n",
       "        -10.8473096 , -11.29178823, -10.87517442]))"
      ]
     },
     "execution_count": 12,
     "metadata": {},
     "output_type": "execute_result"
    }
   ],
   "source": [
    "l, u, grad_g_val"
   ]
  },
  {
   "cell_type": "code",
   "execution_count": 13,
   "id": "035eeff8",
   "metadata": {},
   "outputs": [
    {
     "data": {
      "text/plain": [
       "2.234255981447417e-11"
      ]
     },
     "execution_count": 13,
     "metadata": {},
     "output_type": "execute_result"
    }
   ],
   "source": [
    "h_cvx"
   ]
  },
  {
   "cell_type": "code",
   "execution_count": 15,
   "id": "e4cab960",
   "metadata": {},
   "outputs": [],
   "source": [
    "def cvx_supply_chain(*, params, grad_g_val, norm=\"l1\", x_val=None):\n",
    "    \"\"\"\n",
    "    params: parameters for OT agents\n",
    "\n",
    "    Returns the true solution to the distributed optimization problem\n",
    "    of  Optimal Transport using CVXPY and  centralised formulation\n",
    "        min. \\sum_i  f_i(xi)\n",
    "        s.t. Ax = b,\n",
    "             Cx <= d   \n",
    "    \"\"\"\n",
    "    N = len(params)\n",
    "    x_size = sum([params[i][\"dimension\"] for  i in range(1, N-1)])\n",
    "    A, b, l, u, idx = ob.sc_data_matrix_format(params)[:5]\n",
    "    idx = [params[0]['dimension'] - 1] + idx + [params[-1]['dimension']]\n",
    "    \n",
    "    mu = ob.get_mus(50, params[1:-1], N-2)\n",
    "    z = cp.Variable((A.shape[1], ))\n",
    "    f = 0\n",
    "    constraints = []\n",
    "    for i in range(1, N-1):\n",
    "        xi = z[idx[i][0] : idx[i][1]+1]\n",
    "        size = params[i][\"dimension\"]\n",
    "        m, n = params[i][\"m\"], params[i][\"n\"]\n",
    "        X = cp.Variable((n,m), nonneg=True)\n",
    "        tilde_x = cp.Variable((size, ), nonneg=True)\n",
    "        lin, quad, cap = params[i][\"lin\"], params[i][\"quad\"], params[i][\"cap\"]\n",
    "        constraints += [ cp.hstack([cp.sum(X, axis=0), cp.sum(X, axis=1)]) == tilde_x]\n",
    "        if cap.sum() < np.inf: constraints += [X <= cap]\n",
    "\n",
    "        f += cp.vec(X) @ cp.vec(lin) + 0.5 * cp.vec(cp.power(X,2)) @ cp.vec(quad)\n",
    "        r = cp.Variable((size, ))\n",
    "        constraints += [ r == tilde_x - xi ]\n",
    "        if norm == \"l2\":\n",
    "            f += 0.5 * cp.sum_squares(np.diag(mu[i-1]**(0.5)) @ r)\n",
    "        elif norm == \"l1\":\n",
    "            f += 0.5 * cp.norm(np.diag(mu[i-1]) @ r, 1)\n",
    "    obj = f + cp.vec(z) @ grad_g_val\n",
    "    if x_val is not None:\n",
    "        constraints += [z ==  x_val] \n",
    "    constraints += [A @ z == b, z <= u, z >= l]\n",
    "    prob = cp.Problem(cp.Minimize(obj), constraints)\n",
    "    prob.solve(solver='ECOS')\n",
    "    return obj.value, z.value, prob "
   ]
  },
  {
   "cell_type": "code",
   "execution_count": 16,
   "id": "61acecf2",
   "metadata": {},
   "outputs": [
    {
     "data": {
      "text/plain": [
       "2.2342559814474176e-11"
      ]
     },
     "execution_count": 16,
     "metadata": {},
     "output_type": "execute_result"
    }
   ],
   "source": [
    " cvx_supply_chain(params=params, grad_g_val=grad_g_val)[0]"
   ]
  },
  {
   "cell_type": "code",
   "execution_count": null,
   "id": "afcc82e5",
   "metadata": {},
   "outputs": [],
   "source": []
  }
 ],
 "metadata": {
  "kernelspec": {
   "display_name": "Python 3 (ipykernel)",
   "language": "python",
   "name": "python3"
  },
  "language_info": {
   "codemirror_mode": {
    "name": "ipython",
    "version": 3
   },
   "file_extension": ".py",
   "mimetype": "text/x-python",
   "name": "python",
   "nbconvert_exporter": "python",
   "pygments_lexer": "ipython3",
   "version": "3.9.16"
  }
 },
 "nbformat": 4,
 "nbformat_minor": 5
}
