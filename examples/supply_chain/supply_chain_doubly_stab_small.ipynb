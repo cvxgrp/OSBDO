{
 "cells": [
  {
   "cell_type": "code",
   "execution_count": 1,
   "id": "aa2f7901",
   "metadata": {},
   "outputs": [],
   "source": [
    "import numpy as np\n",
    "import cvxpy as cp\n",
    "import osbdo as ob"
   ]
  },
  {
   "cell_type": "code",
   "execution_count": 2,
   "id": "beef43fb",
   "metadata": {},
   "outputs": [],
   "source": [
    "import time\n",
    "import random\n",
    "np.random.seed(0) \n",
    "random.seed(0)"
   ]
  },
  {
   "attachments": {},
   "cell_type": "markdown",
   "id": "03a04778",
   "metadata": {},
   "source": [
    "# Problem description\n",
    "section 4.1 in https://web.stanford.edu/~boyd/papers/os_bundle_distr_opt.html "
   ]
  },
  {
   "attachments": {},
   "cell_type": "markdown",
   "id": "1819d54c",
   "metadata": {},
   "source": [
    "# Create parameters"
   ]
  },
  {
   "cell_type": "code",
   "execution_count": 3,
   "id": "5cd7cc37",
   "metadata": {},
   "outputs": [],
   "source": [
    "ms = [5, 5, 12, 10, 6]\n",
    "ns = [5, 12, 10, 6, 9]\n",
    "# ms = [20, 30, 40, 25, 35]\n",
    "# ns = [30, 40, 25, 35, 20]\n",
    "params = ob.sc_params(ms, ns)"
   ]
  },
  {
   "attachments": {},
   "cell_type": "markdown",
   "id": "21f273d1",
   "metadata": {},
   "source": [
    "# Distributed solution"
   ]
  },
  {
   "cell_type": "code",
   "execution_count": 4,
   "id": "0b2cd8f4",
   "metadata": {},
   "outputs": [],
   "source": [
    "agents = ob.sc_agents(params)\n",
    "g = ob.sc_coupling(params, agents)\n",
    "prob = ob.Problem(agents = agents, g = g)"
   ]
  },
  {
   "cell_type": "code",
   "execution_count": null,
   "id": "4b247653",
   "metadata": {},
   "outputs": [],
   "source": [
    "ob.add_extra_methods_to_problem(prob)"
   ]
  },
  {
   "cell_type": "code",
   "execution_count": 5,
   "id": "b34e16db",
   "metadata": {},
   "outputs": [
    {
     "name": "stdout",
     "output_type": "stream",
     "text": [
      "ds_params=(1, 0.2, 0.1, 1), rel_gap=inf, prob.upper_bnd[-1]=0.15781364638268514, prob.lower_bnd[-1]=-2.0749246161070545\n",
      "ds_params=(1, 0.2, 0.1, 5), rel_gap=0.5267376856199014, prob.upper_bnd[-1]=-0.69412964778508, prob.lower_bnd[-1]=-1.0597538919795504\n",
      "ds_params=(1, 0.2, 0.1, 10), rel_gap=0.4344522742187956, prob.upper_bnd[-1]=-0.709384436958671, prob.lower_bnd[-1]=-1.0175781188907855\n",
      "ds_params=(1, 0.2, 0.5, 1), rel_gap=inf, prob.upper_bnd[-1]=6.675870817097849, prob.lower_bnd[-1]=-6.89975645322297\n",
      "ds_params=(1, 0.2, 0.5, 5), rel_gap=inf, prob.upper_bnd[-1]=1.0308778285465365, prob.lower_bnd[-1]=-3.2734604214436196\n",
      "ds_params=(1, 0.2, 0.5, 10), rel_gap=inf, prob.upper_bnd[-1]=1.3607657180663786, prob.lower_bnd[-1]=-3.0011435387576384\n",
      "ds_params=(1, 0.2, 0.7, 1), rel_gap=inf, prob.upper_bnd[-1]=9.943492254429437, prob.lower_bnd[-1]=-8.490716333802936\n",
      "ds_params=(1, 0.2, 0.7, 5), rel_gap=inf, prob.upper_bnd[-1]=1.773571068709419, prob.lower_bnd[-1]=-3.669975028358948\n",
      "ds_params=(1, 0.2, 0.7, 10), rel_gap=inf, prob.upper_bnd[-1]=0.7590772176451015, prob.lower_bnd[-1]=-2.4338558301222157\n",
      "ds_params=(1, 0.5, 0.1, 1), rel_gap=5.879730420353676, prob.upper_bnd[-1]=-0.22371634417796038, prob.lower_bnd[-1]=-1.539108138571427\n",
      "ds_params=(1, 0.5, 0.1, 5), rel_gap=0.6716899118272315, prob.upper_bnd[-1]=-0.6445291305481975, prob.lower_bnd[-1]=-1.0774528454161985\n",
      "ds_params=(1, 0.5, 0.1, 10), rel_gap=0.8594593653388174, prob.upper_bnd[-1]=-0.5887791885176608, prob.lower_bnd[-1]=-1.0948109762057534\n",
      "ds_params=(1, 0.5, 0.5, 1), rel_gap=inf, prob.upper_bnd[-1]=2.2217433294091435, prob.lower_bnd[-1]=-3.9307361431125294\n",
      "ds_params=(1, 0.5, 0.5, 5), rel_gap=inf, prob.upper_bnd[-1]=0.3371766195983952, prob.lower_bnd[-1]=-2.0935196120866433\n",
      "ds_params=(1, 0.5, 0.5, 10), rel_gap=20.731649066059905, prob.upper_bnd[-1]=-0.07033953205513477, prob.lower_bnd[-1]=-1.5285940260930602\n",
      "ds_params=(1, 0.5, 0.7, 1), rel_gap=inf, prob.upper_bnd[-1]=3.5376907998273097, prob.lower_bnd[-1]=-4.739967044638085\n",
      "ds_params=(1, 0.5, 0.7, 5), rel_gap=inf, prob.upper_bnd[-1]=2.547596171393831, prob.lower_bnd[-1]=-3.865573482799981\n",
      "ds_params=(1, 0.5, 0.7, 10), rel_gap=inf, prob.upper_bnd[-1]=1.244092450994705, prob.lower_bnd[-1]=-2.862391416743563\n",
      "ds_params=(1, 0.7, 0.1, 1), rel_gap=0.3449865606095079, prob.upper_bnd[-1]=-0.7237258558221642, prob.lower_bnd[-1]=-0.9734015496464252\n",
      "ds_params=(1, 0.7, 0.1, 5), rel_gap=0.668368978880379, prob.upper_bnd[-1]=-0.6204390171418606, prob.lower_bnd[-1]=-1.0351212094865119\n",
      "ds_params=(1, 0.7, 0.1, 10), rel_gap=0.6030308696820328, prob.upper_bnd[-1]=-0.6269845887366206, prob.lower_bnd[-1]=-1.0050756505596965\n",
      "ds_params=(1, 0.7, 0.5, 1), rel_gap=inf, prob.upper_bnd[-1]=1.8602401831052546, prob.lower_bnd[-1]=-3.6256406537053856\n",
      "ds_params=(1, 0.7, 0.5, 5), rel_gap=2.339274884692694, prob.upper_bnd[-1]=-0.4075210235685436, prob.lower_bnd[-1]=-1.3608247189866969\n",
      "ds_params=(1, 0.7, 0.5, 10), rel_gap=8.070901003418776, prob.upper_bnd[-1]=-0.1672233327584074, prob.lower_bnd[-1]=-1.5168662969132694\n",
      "ds_params=(1, 0.7, 0.7, 1), rel_gap=inf, prob.upper_bnd[-1]=2.444947340044486, prob.lower_bnd[-1]=-4.232306487917647\n",
      "ds_params=(1, 0.7, 0.7, 5), rel_gap=inf, prob.upper_bnd[-1]=0.03056644776540729, prob.lower_bnd[-1]=-1.657045340730864\n",
      "ds_params=(1, 0.7, 0.7, 10), rel_gap=inf, prob.upper_bnd[-1]=0.11257464221305646, prob.lower_bnd[-1]=-1.9766950626374395\n",
      "ds_params=(5, 0.2, 0.1, 1), rel_gap=2.009814112481403, prob.upper_bnd[-1]=-0.44205167795963085, prob.lower_bnd[-1]=-1.3304933787689812\n",
      "ds_params=(5, 0.2, 0.1, 5), rel_gap=0.9537480402243477, prob.upper_bnd[-1]=-0.5784213710205064, prob.lower_bnd[-1]=-1.1300896200551946\n",
      "ds_params=(5, 0.2, 0.1, 10), rel_gap=1.0084207090803667, prob.upper_bnd[-1]=-0.5654534684319019, prob.lower_bnd[-1]=-1.1356684560199533\n",
      "ds_params=(5, 0.2, 0.5, 1), rel_gap=inf, prob.upper_bnd[-1]=3.387338188994434, prob.lower_bnd[-1]=-4.748409422147006\n",
      "ds_params=(5, 0.2, 0.5, 5), rel_gap=inf, prob.upper_bnd[-1]=1.5715121229298603, prob.lower_bnd[-1]=-3.4952420372895787\n",
      "ds_params=(5, 0.2, 0.5, 10), rel_gap=5.707673215707489, prob.upper_bnd[-1]=-0.21666223665552664, prob.lower_bnd[-1]=-1.4532994816695535\n",
      "ds_params=(5, 0.2, 0.7, 1), rel_gap=inf, prob.upper_bnd[-1]=5.276865170548916, prob.lower_bnd[-1]=-5.680429313509997\n",
      "ds_params=(5, 0.2, 0.7, 5), rel_gap=inf, prob.upper_bnd[-1]=0.8006868430213725, prob.lower_bnd[-1]=-2.816262181182548\n",
      "ds_params=(5, 0.2, 0.7, 10), rel_gap=inf, prob.upper_bnd[-1]=1.4067318987420592, prob.lower_bnd[-1]=-2.82186360802584\n",
      "ds_params=(5, 0.5, 0.1, 1), rel_gap=2.8222049692322995, prob.upper_bnd[-1]=-0.3606113478743307, prob.lower_bnd[-1]=-1.3783304858068242\n",
      "ds_params=(5, 0.5, 0.1, 5), rel_gap=0.5254782236647494, prob.upper_bnd[-1]=-0.676575189067286, prob.lower_bnd[-1]=-1.0321007175940053\n",
      "ds_params=(5, 0.5, 0.1, 10), rel_gap=1.0080562351795817, prob.upper_bnd[-1]=-0.534443511028643, prob.lower_bnd[-1]=-1.073192624672334\n",
      "ds_params=(5, 0.5, 0.5, 1), rel_gap=inf, prob.upper_bnd[-1]=4.771569171999239, prob.lower_bnd[-1]=-5.699098259617013\n",
      "ds_params=(5, 0.5, 0.5, 5), rel_gap=inf, prob.upper_bnd[-1]=0.13074916671615355, prob.lower_bnd[-1]=-1.8161094669728648\n"
     ]
    },
    {
     "name": "stderr",
     "output_type": "stream",
     "text": [
      "/Users/parshakova.tanya/opt/anaconda3/envs/osbdo/lib/python3.9/site-packages/cvxpy/problems/problem.py:1385: UserWarning: Solution may be inaccurate. Try another solver, adjusting the solver settings, or solve with verbose=True for more information.\n",
      "  warnings.warn(\n"
     ]
    },
    {
     "name": "stdout",
     "output_type": "stream",
     "text": [
      "ds_params=(5, 0.5, 0.5, 10), rel_gap=4.617350644402238, prob.upper_bnd[-1]=-0.2660795091001553, prob.lower_bnd[-1]=-1.4946619019059888\n",
      "ds_params=(5, 0.5, 0.7, 1), rel_gap=inf, prob.upper_bnd[-1]=3.794443693386043, prob.lower_bnd[-1]=-4.939618439235197\n",
      "ds_params=(5, 0.5, 0.7, 5), rel_gap=inf, prob.upper_bnd[-1]=0.5095339590910584, prob.lower_bnd[-1]=-2.201668282921318\n",
      "ds_params=(5, 0.5, 0.7, 10), rel_gap=inf, prob.upper_bnd[-1]=0.9961030405200777, prob.lower_bnd[-1]=-2.733017156573446\n",
      "ds_params=(5, 0.7, 0.1, 1), rel_gap=6.260529725483097, prob.upper_bnd[-1]=-0.21228261369233437, prob.lower_bnd[-1]=-1.5412842269164386\n",
      "ds_params=(5, 0.7, 0.1, 5), rel_gap=0.765870536727783, prob.upper_bnd[-1]=-0.6224598067791076, prob.lower_bnd[-1]=-1.0991834330884949\n",
      "ds_params=(5, 0.7, 0.1, 10), rel_gap=0.49476115572797785, prob.upper_bnd[-1]=-0.6951902824548872, prob.lower_bnd[-1]=-1.0391434300531266\n",
      "ds_params=(5, 0.7, 0.5, 1), rel_gap=inf, prob.upper_bnd[-1]=1.3579285761105275, prob.lower_bnd[-1]=-3.4927281008582263\n",
      "ds_params=(5, 0.7, 0.5, 5), rel_gap=11.953863245989336, prob.upper_bnd[-1]=-0.11757576744759568, prob.lower_bnd[-1]=-1.523060412558399\n",
      "ds_params=(5, 0.7, 0.5, 10), rel_gap=3.296266336126838, prob.upper_bnd[-1]=-0.32319797024286956, prob.lower_bnd[-1]=-1.388544559458964\n",
      "ds_params=(5, 0.7, 0.7, 1), rel_gap=inf, prob.upper_bnd[-1]=2.508084067481697, prob.lower_bnd[-1]=-4.162130441556002\n",
      "ds_params=(5, 0.7, 0.7, 5), rel_gap=inf, prob.upper_bnd[-1]=0.6693919035300198, prob.lower_bnd[-1]=-2.285651182945058\n",
      "ds_params=(5, 0.7, 0.7, 10), rel_gap=inf, prob.upper_bnd[-1]=0.7613474873397106, prob.lower_bnd[-1]=-2.6826817253894646\n",
      "ds_params=(10, 0.2, 0.1, 1), rel_gap=inf, prob.upper_bnd[-1]=0.6381036291051565, prob.lower_bnd[-1]=-3.0086589027278183\n",
      "ds_params=(10, 0.2, 0.1, 5), rel_gap=0.9955098041557382, prob.upper_bnd[-1]=-0.5920339277983055, prob.lower_bnd[-1]=-1.1814095073143491\n",
      "ds_params=(10, 0.2, 0.1, 10), rel_gap=0.9405490163202356, prob.upper_bnd[-1]=-0.6008178175027084, prob.lower_bnd[-1]=-1.1659164247425515\n",
      "ds_params=(10, 0.2, 0.5, 1), rel_gap=inf, prob.upper_bnd[-1]=3.463495104814868, prob.lower_bnd[-1]=-4.745797715323839\n",
      "ds_params=(10, 0.2, 0.5, 5), rel_gap=inf, prob.upper_bnd[-1]=0.7320547127021513, prob.lower_bnd[-1]=-2.9760893099430366\n",
      "ds_params=(10, 0.2, 0.5, 10), rel_gap=inf, prob.upper_bnd[-1]=0.8016869125207826, prob.lower_bnd[-1]=-2.7646407182760697\n",
      "ds_params=(10, 0.2, 0.7, 1), rel_gap=inf, prob.upper_bnd[-1]=16.5909231923197, prob.lower_bnd[-1]=-10.289800523669037\n",
      "ds_params=(10, 0.2, 0.7, 5), rel_gap=inf, prob.upper_bnd[-1]=0.48037570273399055, prob.lower_bnd[-1]=-2.2503622838522475\n",
      "ds_params=(10, 0.2, 0.7, 10), rel_gap=inf, prob.upper_bnd[-1]=2.075587016932108, prob.lower_bnd[-1]=-3.210335487157675\n",
      "ds_params=(10, 0.5, 0.1, 1), rel_gap=4.280415355369497, prob.upper_bnd[-1]=-0.28469912736496816, prob.lower_bnd[-1]=-1.5033296437982742\n",
      "ds_params=(10, 0.5, 0.1, 5), rel_gap=0.7379479924198447, prob.upper_bnd[-1]=-0.6020890747251482, prob.lower_bnd[-1]=-1.046399498676493\n",
      "ds_params=(10, 0.5, 0.1, 10), rel_gap=2.9452314427108783, prob.upper_bnd[-1]=-0.34411838598223277, prob.lower_bnd[-1]=-1.357626676392023\n",
      "ds_params=(10, 0.5, 0.5, 1), rel_gap=inf, prob.upper_bnd[-1]=6.4644971990235796, prob.lower_bnd[-1]=-7.619425893600933\n",
      "ds_params=(10, 0.5, 0.5, 5), rel_gap=2.5585218062543964, prob.upper_bnd[-1]=-0.3958651574524481, prob.lower_bnd[-1]=-1.4086947951308666\n",
      "ds_params=(10, 0.5, 0.5, 10), rel_gap=7.908472187362402, prob.upper_bnd[-1]=-0.18107728913556898, prob.lower_bnd[-1]=-1.6131219940271961\n",
      "ds_params=(10, 0.5, 0.7, 1), rel_gap=inf, prob.upper_bnd[-1]=16.356629581135692, prob.lower_bnd[-1]=-11.956207960072973\n",
      "ds_params=(10, 0.5, 0.7, 5), rel_gap=inf, prob.upper_bnd[-1]=1.5313615495920132, prob.lower_bnd[-1]=-3.5249185191271906\n",
      "ds_params=(10, 0.5, 0.7, 10), rel_gap=inf, prob.upper_bnd[-1]=1.026517030544177, prob.lower_bnd[-1]=-3.0808800614232617\n",
      "ds_params=(10, 0.7, 0.1, 1), rel_gap=1.7008313780865159, prob.upper_bnd[-1]=-0.4787217011865703, prob.lower_bnd[-1]=-1.292946591935646\n",
      "ds_params=(10, 0.7, 0.1, 5), rel_gap=0.6684054316921401, prob.upper_bnd[-1]=-0.6419175857590522, prob.lower_bnd[-1]=-1.0709787867791078\n",
      "ds_params=(10, 0.7, 0.1, 10), rel_gap=1.2401519690072038, prob.upper_bnd[-1]=-0.519316919883198, prob.lower_bnd[-1]=-1.1633488206151021\n",
      "ds_params=(10, 0.7, 0.5, 1), rel_gap=inf, prob.upper_bnd[-1]=1.8212198095047611, prob.lower_bnd[-1]=-4.018669730420299\n",
      "ds_params=(10, 0.7, 0.5, 5), rel_gap=inf, prob.upper_bnd[-1]=0.15755240190163988, prob.lower_bnd[-1]=-1.764500706381055\n",
      "ds_params=(10, 0.7, 0.5, 10), rel_gap=31.97541319945335, prob.upper_bnd[-1]=-0.05317525065291662, prob.lower_bnd[-1]=-1.7534758622644269\n",
      "ds_params=(10, 0.7, 0.7, 1), rel_gap=inf, prob.upper_bnd[-1]=3.420839544971372, prob.lower_bnd[-1]=-4.728883248288714\n",
      "ds_params=(10, 0.7, 0.7, 5), rel_gap=inf, prob.upper_bnd[-1]=0.04675294653916673, prob.lower_bnd[-1]=-1.9220795065174148\n",
      "ds_params=(10, 0.7, 0.7, 10), rel_gap=inf, prob.upper_bnd[-1]=1.5678970053793435, prob.lower_bnd[-1]=-3.2558139086849636\n",
      "best_params=(1, 0.7, 0.1, 1)\n"
     ]
    }
   ],
   "source": [
    "best_val = np.inf\n",
    "max_iter = 60\n",
    "\n",
    "for tau_k in [1, 5, 10]:\n",
    "    for m_l in [0.2, 0.5, 0.7]:\n",
    "        for m_f in [0.1, 0.5, 0.7]:\n",
    "            for mu_max in [1, 5, 10]:\n",
    "                ds_params = (tau_k, m_l, m_f, mu_max)\n",
    "                x_agent, x_global = prob.solve_doubly_stabilized(ds_params=ds_params, rel_gap=10**(-5), abs_gap=10**(-5),\\\n",
    "                                                                  max_iter=max_iter, memory=max_iter, tol=1e-6, printing=False)\n",
    "                if prob.upper_bnd[-1] - prob.lower_bnd[-1] < best_val:\n",
    "                    best_val = prob.upper_bnd[-1] - prob.lower_bnd[-1] \n",
    "                    best_params = ds_params\n",
    "                rel_gap = prob.get_rel_gap(U=prob.upper_bnd[-1], L=prob.lower_bnd[-1])\n",
    "                print(f\"{ds_params=}, {rel_gap=}, {prob.upper_bnd[-1]=}, {prob.lower_bnd[-1]=}\")\n",
    "\n",
    "print(f\"{best_params=}\")"
   ]
  },
  {
   "cell_type": "code",
   "execution_count": 7,
   "id": "adc6773f",
   "metadata": {},
   "outputs": [
    {
     "data": {
      "text/plain": [
       "(1, 0.7, 0.1, 1)"
      ]
     },
     "execution_count": 7,
     "metadata": {},
     "output_type": "execute_result"
    }
   ],
   "source": [
    "best_params"
   ]
  },
  {
   "cell_type": "code",
   "execution_count": 6,
   "id": "c0dc208d",
   "metadata": {
    "scrolled": true
   },
   "outputs": [
    {
     "name": "stdout",
     "output_type": "stream",
     "text": [
      "k=0, rel_gap=inf, L=-67.12188300797834, U=276.8879195054916, L0=-67.12188300797834\n",
      "   null step: tau_k=0.5000005, mu_k=1.0000000000040488, L_k=-67.12188300797834, l_k=173.68497875145061\n",
      "k=20, rel_gap=inf, L=-6.53739798443555, U=3.264619783706344, L0=-6.53739798443555\n",
      "   descent step: tau_k=0.005021344196929874, mu_k=1.0000000000016442, L_k=-67.12188300797834, l_k=-0.8999911287265077\n",
      "k=40, rel_gap=5.845686342950134, L=-1.6387341662181836, U=-0.23938201140427573, L0=-1.6387341662181836\n",
      "   descent step: tau_k=0.010985155835934996, mu_k=1.0000000000351141, L_k=-67.12188300797834, l_k=-0.7293443206410881\n",
      "k=60, rel_gap=0.3207945156094128, L=-0.9719631470691468, U=-0.7358927793705172, L0=-0.9719631470691468\n",
      "   descent step: tau_k=0.012622093147229103, mu_k=1.3188661118772698, L_k=-67.12188300797834, l_k=-0.764138131473024\n",
      "k=80, rel_gap=0.15870619531702176, L=-0.9185125767642255, U=-0.792705329855357, L0=-0.9185125767642255\n",
      "   descent step: tau_k=2.6149032726094455e-05, mu_k=1.00000064355149, L_k=-67.12188300797834, l_k=-0.7938451316936782\n",
      "k=100, rel_gap=0.1435315569149655, L=-0.9134031358606176, U=-0.798756387908357, L0=-0.9134031358606176\n",
      "   descent step: tau_k=0.00046114524275018436, mu_k=4.788208634195644, L_k=-67.12188300797834, l_k=-0.7991473399389012\n",
      "k=120, rel_gap=0.12986057472708004, L=-0.9070390476183352, U=-0.8027884748854364, L0=-0.9070390476183352\n",
      "   descent step: tau_k=0.0005056998790783911, mu_k=1.0000003732481106, L_k=-67.12188300797834, l_k=-0.8031794269159805\n",
      "k=140, rel_gap=0.10642947959459743, L=-0.8947221509733811, U=-0.8086571873529733, L0=-0.8947221509733811\n",
      "   descent step: tau_k=0.0010580847676010668, mu_k=1.0001103223339416, L_k=-67.12188300797834, l_k=-0.8090481393835175\n",
      "rel_gap=0.0962270293735102, L=-0.889325748082392, L_k=-67.12188300797834, U=-0.8112605548420371, l_k=-0.8116515068725813\n",
      "elapsed time = 48.38227820396423\n"
     ]
    }
   ],
   "source": [
    "max_iter = 150\n",
    "start_time = time.time()\n",
    "x_agent, x_global = prob.solve_doubly_stabilized(ds_params=best_params, rel_gap=10**(-5), abs_gap=10**(-5),\\\n",
    "                                                  max_iter=max_iter, memory=max_iter, tol=1e-6, print_freq=20)\n",
    "print(f\"elapsed time = {time.time() - start_time}\")"
   ]
  },
  {
   "cell_type": "code",
   "execution_count": 8,
   "id": "e24ea789",
   "metadata": {},
   "outputs": [
    {
     "data": {
      "text/plain": [
       "(-0.889325748082392, -0.8112605548420371)"
      ]
     },
     "execution_count": 8,
     "metadata": {},
     "output_type": "execute_result"
    }
   ],
   "source": [
    "prob.lower_bnd[-1], prob.upper_bnd[-1]"
   ]
  },
  {
   "attachments": {},
   "cell_type": "markdown",
   "id": "5c881a48",
   "metadata": {},
   "source": [
    "# Centralized solution"
   ]
  },
  {
   "cell_type": "code",
   "execution_count": 9,
   "id": "4c004780",
   "metadata": {},
   "outputs": [],
   "source": [
    "h_cvx, x_cvx, prob_cvx = ob.cvx_supply_chain(params=params)"
   ]
  },
  {
   "cell_type": "code",
   "execution_count": 10,
   "id": "8934b139",
   "metadata": {},
   "outputs": [
    {
     "data": {
      "text/plain": [
       "(-0.8325469349499457, -0.8112605548420371)"
      ]
     },
     "execution_count": 10,
     "metadata": {},
     "output_type": "execute_result"
    }
   ],
   "source": [
    "h_cvx, prob.upper_bnd[-1]"
   ]
  },
  {
   "cell_type": "code",
   "execution_count": 11,
   "id": "77b58f62",
   "metadata": {},
   "outputs": [],
   "source": [
    "assert prob.lower_bnd[-1] - 1e-8 <= h_cvx <= 1e-8 + prob.upper_bnd[-1], print(prob.lower_bnd[-1], h_cvx, prob.upper_bnd[-1])"
   ]
  },
  {
   "attachments": {},
   "cell_type": "markdown",
   "id": "d84e60d7",
   "metadata": {},
   "source": [
    "# Plot"
   ]
  },
  {
   "cell_type": "code",
   "execution_count": 12,
   "id": "7c1fdcdf",
   "metadata": {},
   "outputs": [
    {
     "data": {
      "image/png": "[encoded data removed]",
      "text/plain": [
       "<Figure size 640x480 with 1 Axes>"
      ]
     },
     "metadata": {},
     "output_type": "display_data"
    }
   ],
   "source": [
    "ob.plot_true_rel_gap_uk(lk = prob.lower_bnd, uk = prob.upper_bnd, h_true = h_cvx)"
   ]
  },
  {
   "cell_type": "code",
   "execution_count": null,
   "id": "9f04cdf5",
   "metadata": {},
   "outputs": [],
   "source": []
  }
 ],
 "metadata": {
  "kernelspec": {
   "display_name": "Python 3 (ipykernel)",
   "language": "python",
   "name": "python3"
  },
  "language_info": {
   "codemirror_mode": {
    "name": "ipython",
    "version": 3
   },
   "file_extension": ".py",
   "mimetype": "text/x-python",
   "name": "python",
   "nbconvert_exporter": "python",
   "pygments_lexer": "ipython3",
   "version": "3.9.16"
  }
 },
 "nbformat": 4,
 "nbformat_minor": 5
}
