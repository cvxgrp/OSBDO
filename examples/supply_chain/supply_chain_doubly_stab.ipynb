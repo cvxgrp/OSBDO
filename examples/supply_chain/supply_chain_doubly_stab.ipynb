{
 "cells": [
  {
   "cell_type": "code",
   "execution_count": 1,
   "id": "aa2f7901",
   "metadata": {},
   "outputs": [],
   "source": [
    "import numpy as np\n",
    "import cvxpy as cp\n",
    "import osbdo as ob"
   ]
  },
  {
   "cell_type": "code",
   "execution_count": 2,
   "id": "beef43fb",
   "metadata": {},
   "outputs": [],
   "source": [
    "import time\n",
    "import random\n",
    "np.random.seed(0) \n",
    "random.seed(0)"
   ]
  },
  {
   "attachments": {},
   "cell_type": "markdown",
   "id": "03a04778",
   "metadata": {},
   "source": [
    "# Problem description\n",
    "section 4.1 in https://web.stanford.edu/~boyd/papers/os_bundle_distr_opt.html "
   ]
  },
  {
   "attachments": {},
   "cell_type": "markdown",
   "id": "1819d54c",
   "metadata": {},
   "source": [
    "# Create parameters"
   ]
  },
  {
   "cell_type": "code",
   "execution_count": 3,
   "id": "5cd7cc37",
   "metadata": {},
   "outputs": [],
   "source": [
    "# ms = [5, 5, 12, 10, 6]\n",
    "# ns = [5, 12, 10, 6, 9]\n",
    "ms = [20, 30, 40, 25, 35]\n",
    "ns = [30, 40, 25, 35, 20]\n",
    "params = ob.sc_params(ms, ns)"
   ]
  },
  {
   "attachments": {},
   "cell_type": "markdown",
   "id": "21f273d1",
   "metadata": {},
   "source": [
    "# Distributed solution"
   ]
  },
  {
   "cell_type": "code",
   "execution_count": 4,
   "id": "0b2cd8f4",
   "metadata": {},
   "outputs": [],
   "source": [
    "agents = ob.sc_agents(params)\n",
    "g = ob.sc_coupling(params, agents)\n",
    "prob = ob.Problem(agents = agents, g = g)"
   ]
  },
  {
   "cell_type": "code",
   "execution_count": null,
   "id": "1e7b56f4",
   "metadata": {},
   "outputs": [],
   "source": [
    "ob.add_extra_methods_to_problem(prob)"
   ]
  },
  {
   "cell_type": "code",
   "execution_count": 5,
   "id": "cda2502b",
   "metadata": {},
   "outputs": [
    {
     "name": "stdout",
     "output_type": "stream",
     "text": [
      "ds_params=(1, 0.2, 0.1, 1), rel_gap=0.3540288959848815, prob.upper_bnd[-1]=-78.4631481026662, prob.lower_bnd[-1]=-106.24136980095136\n",
      "ds_params=(1, 0.2, 0.1, 5), rel_gap=0.2883215259563124, prob.upper_bnd[-1]=-76.96825223699861, prob.lower_bnd[-1]=-99.1598561721604\n",
      "ds_params=(1, 0.2, 0.1, 10), rel_gap=0.20120469560449825, prob.upper_bnd[-1]=-78.29620460071317, prob.lower_bnd[-1]=-94.04976861438718\n",
      "ds_params=(1, 0.2, 0.5, 1), rel_gap=3.025865453827384, prob.upper_bnd[-1]=-40.52045463357621, prob.lower_bnd[-1]=-163.12989848269422\n",
      "ds_params=(1, 0.2, 0.5, 5), rel_gap=1.5673901342538508, prob.upper_bnd[-1]=-55.76275808404603, prob.lower_bnd[-1]=-143.16475496376393\n",
      "ds_params=(1, 0.2, 0.5, 10), rel_gap=0.7623666849506493, prob.upper_bnd[-1]=-67.84473409653094, prob.lower_bnd[-1]=-119.56729912106152\n",
      "ds_params=(1, 0.2, 0.7, 1), rel_gap=inf, prob.upper_bnd[-1]=335.1141302212218, prob.lower_bnd[-1]=-415.66884037023135\n",
      "ds_params=(1, 0.2, 0.7, 5), rel_gap=1.4148196537780022, prob.upper_bnd[-1]=-58.15054404471442, prob.lower_bnd[-1]=-140.42307663705975\n",
      "ds_params=(1, 0.2, 0.7, 10), rel_gap=2.875530055435526, prob.upper_bnd[-1]=-40.121350795281046, prob.lower_bnd[-1]=-155.49150087178373\n",
      "ds_params=(1, 0.5, 0.1, 1), rel_gap=0.2879468109878591, prob.upper_bnd[-1]=-78.30805771255342, prob.lower_bnd[-1]=-100.8566132055364\n",
      "ds_params=(1, 0.5, 0.1, 5), rel_gap=0.1959439139981616, prob.upper_bnd[-1]=-79.01666918395685, prob.lower_bnd[-1]=-94.49950461495928\n",
      "ds_params=(1, 0.5, 0.1, 10), rel_gap=0.19105007734329557, prob.upper_bnd[-1]=-77.66209906567713, prob.lower_bnd[-1]=-92.49944909881742\n",
      "ds_params=(1, 0.5, 0.5, 1), rel_gap=4.257027446595424, prob.upper_bnd[-1]=-32.67982996643292, prob.lower_bnd[-1]=-171.79876308360946\n",
      "ds_params=(1, 0.5, 0.5, 5), rel_gap=0.6937697119928373, prob.upper_bnd[-1]=-70.44918948953136, prob.lower_bnd[-1]=-119.32470339181236\n"
     ]
    },
    {
     "name": "stderr",
     "output_type": "stream",
     "text": [
      "/Users/parshakova.tanya/opt/anaconda3/envs/osbdo/lib/python3.9/site-packages/cvxpy/problems/problem.py:1385: UserWarning: Solution may be inaccurate. Try another solver, adjusting the solver settings, or solve with verbose=True for more information.\n",
      "  warnings.warn(\n"
     ]
    },
    {
     "name": "stdout",
     "output_type": "stream",
     "text": [
      "ds_params=(1, 0.5, 0.5, 10), rel_gap=0.5179229661563359, prob.upper_bnd[-1]=-73.08405943121664, prob.lower_bnd[-1]=-110.9359722705783\n",
      "ds_params=(1, 0.5, 0.7, 1), rel_gap=inf, prob.upper_bnd[-1]=835.6185224725118, prob.lower_bnd[-1]=-627.4155888828086\n",
      "ds_params=(1, 0.5, 0.7, 5), rel_gap=6.529906444315778, prob.upper_bnd[-1]=-23.869675200936626, prob.lower_bnd[-1]=-179.73642111925722\n",
      "ds_params=(1, 0.5, 0.7, 10), rel_gap=1.6699690937223637, prob.upper_bnd[-1]=-51.47623463412924, prob.lower_bnd[-1]=-137.4399555343258\n",
      "ds_params=(1, 0.7, 0.1, 1), rel_gap=0.36904222190023644, prob.upper_bnd[-1]=-76.84908224365398, prob.lower_bnd[-1]=-105.20963830584606\n",
      "ds_params=(1, 0.7, 0.1, 5), rel_gap=0.29932694258218184, prob.upper_bnd[-1]=-76.25306142873671, prob.lower_bnd[-1]=-99.07765716873178\n",
      "ds_params=(1, 0.7, 0.1, 10), rel_gap=0.2871605701505797, prob.upper_bnd[-1]=-76.19071873042716, prob.lower_bnd[-1]=-98.06968896123908\n",
      "ds_params=(1, 0.7, 0.5, 1), rel_gap=1.549959185308491, prob.upper_bnd[-1]=-55.862254198331016, prob.lower_bnd[-1]=-142.446468205072\n",
      "ds_params=(1, 0.7, 0.5, 5), rel_gap=0.947395242047534, prob.upper_bnd[-1]=-65.8513266908165, prob.lower_bnd[-1]=-128.23856028021385\n",
      "ds_params=(1, 0.7, 0.5, 10), rel_gap=0.9437181871585122, prob.upper_bnd[-1]=-65.07004914606375, prob.lower_bnd[-1]=-126.47783796450233\n",
      "ds_params=(1, 0.7, 0.7, 1), rel_gap=inf, prob.upper_bnd[-1]=808.9249626021578, prob.lower_bnd[-1]=-615.2452940396097\n",
      "ds_params=(1, 0.7, 0.7, 5), rel_gap=2.139217641952701, prob.upper_bnd[-1]=-48.37837378239152, prob.lower_bnd[-1]=-151.8702444666655\n",
      "ds_params=(1, 0.7, 0.7, 10), rel_gap=1.6262221984130973, prob.upper_bnd[-1]=-54.566754675949085, prob.lower_bnd[-1]=-143.30442242533917\n",
      "ds_params=(5, 0.2, 0.1, 1), rel_gap=0.35202989556784137, prob.upper_bnd[-1]=-76.9142835643413, prob.lower_bnd[-1]=-103.99041077517171\n",
      "ds_params=(5, 0.2, 0.1, 5), rel_gap=0.2584482462774627, prob.upper_bnd[-1]=-78.73696771458421, prob.lower_bnd[-1]=-99.0863989376237\n",
      "ds_params=(5, 0.2, 0.1, 10), rel_gap=0.20685539171388664, prob.upper_bnd[-1]=-78.64044519205879, prob.lower_bnd[-1]=-94.90764528681655\n",
      "ds_params=(5, 0.2, 0.5, 1), rel_gap=4.7111786796964825, prob.upper_bnd[-1]=-30.286329491333788, prob.lower_bnd[-1]=-172.97063927716835\n",
      "ds_params=(5, 0.2, 0.5, 5), rel_gap=1.052556221525517, prob.upper_bnd[-1]=-63.644628361239086, prob.lower_bnd[-1]=-130.63417790954065\n",
      "ds_params=(5, 0.2, 0.5, 10), rel_gap=1.2042729134029617, prob.upper_bnd[-1]=-59.186990744012746, prob.lower_bnd[-1]=-130.4642805228591\n",
      "ds_params=(5, 0.2, 0.7, 1), rel_gap=inf, prob.upper_bnd[-1]=230.79860512512482, prob.lower_bnd[-1]=-365.0912717736629\n",
      "ds_params=(5, 0.2, 0.7, 5), rel_gap=1.3802863558947527, prob.upper_bnd[-1]=-57.73749159399756, prob.lower_bnd[-1]=-137.43176346478037\n",
      "ds_params=(5, 0.2, 0.7, 10), rel_gap=2.956591964031599, prob.upper_bnd[-1]=-39.05105007753713, prob.lower_bnd[-1]=-154.50907092377895\n",
      "ds_params=(5, 0.5, 0.1, 1), rel_gap=0.4776298627920923, prob.upper_bnd[-1]=-74.77950790716352, prob.lower_bnd[-1]=-110.49643400852221\n",
      "ds_params=(5, 0.5, 0.1, 5), rel_gap=0.30378870844693695, prob.upper_bnd[-1]=-77.9342545121221, prob.lower_bnd[-1]=-101.60980103413453\n",
      "ds_params=(5, 0.5, 0.1, 10), rel_gap=0.44152229976875335, prob.upper_bnd[-1]=-75.13007202263162, prob.lower_bnd[-1]=-108.30167420385601\n",
      "ds_params=(5, 0.5, 0.5, 1), rel_gap=3.2953135016114508, prob.upper_bnd[-1]=-38.38430869764386, prob.lower_bnd[-1]=-164.87263939901152\n",
      "ds_params=(5, 0.5, 0.5, 5), rel_gap=0.8301753847990636, prob.upper_bnd[-1]=-66.742481356339, prob.lower_bnd[-1]=-122.15044649878206\n",
      "ds_params=(5, 0.5, 0.5, 10), rel_gap=0.6451016241939438, prob.upper_bnd[-1]=-72.07990397630442, prob.lower_bnd[-1]=-118.57876710316191\n",
      "ds_params=(5, 0.5, 0.7, 1), rel_gap=inf, prob.upper_bnd[-1]=230.38029212088918, prob.lower_bnd[-1]=-361.3522636126752\n",
      "ds_params=(5, 0.5, 0.7, 5), rel_gap=2.8083688150009114, prob.upper_bnd[-1]=-41.484800978748865, prob.lower_bnd[-1]=-157.98942234398646\n",
      "ds_params=(5, 0.5, 0.7, 10), rel_gap=1.2886738814170506, prob.upper_bnd[-1]=-58.07484370617084, prob.lower_bnd[-1]=-132.9143779576906\n",
      "ds_params=(5, 0.7, 0.1, 1), rel_gap=0.269534445090281, prob.upper_bnd[-1]=-78.72069503560357, prob.lower_bnd[-1]=-99.93863388914622\n",
      "ds_params=(5, 0.7, 0.1, 5), rel_gap=0.24051667463352455, prob.upper_bnd[-1]=-76.77481684454125, prob.lower_bnd[-1]=-95.24044048758822\n",
      "ds_params=(5, 0.7, 0.1, 10), rel_gap=0.4028435724831376, prob.upper_bnd[-1]=-73.95973767357236, prob.lower_bnd[-1]=-103.75394261790996\n",
      "ds_params=(5, 0.7, 0.5, 1), rel_gap=1.1595484601836639, prob.upper_bnd[-1]=-61.72377577300222, prob.lower_bnd[-1]=-133.29548492730868\n",
      "ds_params=(5, 0.7, 0.5, 5), rel_gap=0.5857024195744592, prob.upper_bnd[-1]=-72.44172571207122, prob.lower_bnd[-1]=-114.87101973978065\n",
      "ds_params=(5, 0.7, 0.5, 10), rel_gap=0.6125052121466337, prob.upper_bnd[-1]=-70.69316478298674, prob.lower_bnd[-1]=-113.99309667570697\n",
      "ds_params=(5, 0.7, 0.7, 1), rel_gap=inf, prob.upper_bnd[-1]=229.79383605454132, prob.lower_bnd[-1]=-364.5051813484172\n",
      "ds_params=(5, 0.7, 0.7, 5), rel_gap=5.137149497339465, prob.upper_bnd[-1]=-27.46103871912743, prob.lower_bnd[-1]=-168.5324999715125\n",
      "ds_params=(5, 0.7, 0.7, 10), rel_gap=1.3152123571700827, prob.upper_bnd[-1]=-57.59476996580696, prob.lower_bnd[-1]=-133.34412313320462\n",
      "ds_params=(10, 0.2, 0.1, 1), rel_gap=0.45964889004877973, prob.upper_bnd[-1]=-74.97674990810378, prob.lower_bnd[-1]=-109.43972978282864\n",
      "ds_params=(10, 0.2, 0.1, 5), rel_gap=0.29158486448376864, prob.upper_bnd[-1]=-78.46000447842113, prob.lower_bnd[-1]=-101.33775425165743\n",
      "ds_params=(10, 0.2, 0.1, 10), rel_gap=0.2745042670853276, prob.upper_bnd[-1]=-78.54462939515463, prob.lower_bnd[-1]=-100.10546532076023\n",
      "ds_params=(10, 0.2, 0.5, 1), rel_gap=5.404577308365724, prob.upper_bnd[-1]=-27.592098930328973, prob.lower_bnd[-1]=-176.7157306993671\n",
      "ds_params=(10, 0.2, 0.5, 5), rel_gap=1.047638582739805, prob.upper_bnd[-1]=-63.261619776136854, prob.lower_bnd[-1]=-129.53693346023329\n",
      "ds_params=(10, 0.2, 0.5, 10), rel_gap=0.44605543490959, prob.upper_bnd[-1]=-73.08265839086806, prob.lower_bnd[-1]=-105.68157536375571\n",
      "ds_params=(10, 0.2, 0.7, 1), rel_gap=inf, prob.upper_bnd[-1]=10.624329692735387, prob.lower_bnd[-1]=-222.22418318786447\n",
      "ds_params=(10, 0.2, 0.7, 5), rel_gap=4.923693280010613, prob.upper_bnd[-1]=-29.065960097110178, prob.lower_bnd[-1]=-172.17783250430818\n",
      "ds_params=(10, 0.2, 0.7, 10), rel_gap=1.5573157913618914, prob.upper_bnd[-1]=-54.27198184878557, prob.lower_bnd[-1]=-138.79059621040528\n",
      "ds_params=(10, 0.5, 0.1, 1), rel_gap=0.4521242690547968, prob.upper_bnd[-1]=-76.10605441488286, prob.lower_bnd[-1]=-110.51544863785637\n",
      "ds_params=(10, 0.5, 0.1, 5), rel_gap=0.3048795541534072, prob.upper_bnd[-1]=-77.64098602429155, prob.lower_bnd[-1]=-101.31213522740848\n",
      "ds_params=(10, 0.5, 0.1, 10), rel_gap=0.2764892115653247, prob.upper_bnd[-1]=-75.33112037072229, prob.lower_bnd[-1]=-96.15936244835586\n",
      "ds_params=(10, 0.5, 0.5, 1), rel_gap=3.312504019092489, prob.upper_bnd[-1]=-38.0881755202206, prob.lower_bnd[-1]=-164.2554100108515\n",
      "ds_params=(10, 0.5, 0.5, 5), rel_gap=1.038863165656719, prob.upper_bnd[-1]=-63.86363983946501, prob.lower_bnd[-1]=-130.2092228934522\n",
      "ds_params=(10, 0.5, 0.5, 10), rel_gap=0.68287303494497, prob.upper_bnd[-1]=-69.9666128178535, prob.lower_bnd[-1]=-117.74492605760076\n",
      "ds_params=(10, 0.5, 0.7, 1), rel_gap=inf, prob.upper_bnd[-1]=10.220519861455614, prob.lower_bnd[-1]=-221.9346941381757\n",
      "ds_params=(10, 0.5, 0.7, 5), rel_gap=1.306152980418437, prob.upper_bnd[-1]=-58.02735034005434, prob.lower_bnd[-1]=-133.81994693250113\n",
      "ds_params=(10, 0.5, 0.7, 10), rel_gap=1.1341331102224974, prob.upper_bnd[-1]=-60.34986934366185, prob.lower_bnd[-1]=-128.7946543639104\n",
      "ds_params=(10, 0.7, 0.1, 1), rel_gap=0.5304461066170939, prob.upper_bnd[-1]=-73.94965798656938, prob.lower_bnd[-1]=-113.17596615121079\n",
      "ds_params=(10, 0.7, 0.1, 5), rel_gap=0.20573539808910232, prob.upper_bnd[-1]=-76.59760695898282, prob.lower_bnd[-1]=-92.35644611936175\n",
      "ds_params=(10, 0.7, 0.1, 10), rel_gap=0.3038992009594629, prob.upper_bnd[-1]=-75.19693662686527, prob.lower_bnd[-1]=-98.04922558236899\n",
      "ds_params=(10, 0.7, 0.5, 1), rel_gap=1.575771245559086, prob.upper_bnd[-1]=-55.47377418304717, prob.lower_bnd[-1]=-142.88775242333088\n",
      "ds_params=(10, 0.7, 0.5, 5), rel_gap=0.67608112097844, prob.upper_bnd[-1]=-70.95248396482111, prob.lower_bnd[-1]=-118.92211885996215\n",
      "ds_params=(10, 0.7, 0.5, 10), rel_gap=0.5025905203860862, prob.upper_bnd[-1]=-72.86603964769051, prob.lower_bnd[-1]=-109.48782043269648\n",
      "ds_params=(10, 0.7, 0.7, 1), rel_gap=inf, prob.upper_bnd[-1]=243.5796928904249, prob.lower_bnd[-1]=-372.30711066946765\n",
      "ds_params=(10, 0.7, 0.7, 5), rel_gap=1.9146929192662383, prob.upper_bnd[-1]=-48.91533681649145, prob.lower_bnd[-1]=-142.57318586255076\n",
      "ds_params=(10, 0.7, 0.7, 10), rel_gap=1.3705350176589135, prob.upper_bnd[-1]=-57.31254249008384, prob.lower_bnd[-1]=-135.86138892380814\n",
      "best_params=(1, 0.5, 0.1, 10)\n"
     ]
    }
   ],
   "source": [
    "best_val = np.inf\n",
    "max_iter = 60\n",
    "\n",
    "for tau_k in [1, 5, 10]:\n",
    "    for m_l in [0.2, 0.5, 0.7]:\n",
    "        for m_f in [0.1, 0.5, 0.7]:\n",
    "            for mu_max in [1, 5, 10]:\n",
    "                ds_params = (tau_k, m_l, m_f, mu_max)\n",
    "                x_agent, x_global = prob.solve_doubly_stabilized(ds_params=ds_params, rel_gap=10**(-5), abs_gap=10**(-5),\\\n",
    "                                                                  max_iter=max_iter, memory=max_iter, tol=1e-6, printing=False)\n",
    "                if prob.upper_bnd[-1] - prob.lower_bnd[-1] < best_val:\n",
    "                    best_val = prob.upper_bnd[-1] - prob.lower_bnd[-1] \n",
    "                    best_params = ds_params\n",
    "                rel_gap = prob.get_rel_gap(U=prob.upper_bnd[-1], L=prob.lower_bnd[-1])\n",
    "                print(f\"{ds_params=}, {rel_gap=}, {prob.upper_bnd[-1]=}, {prob.lower_bnd[-1]=}\")\n",
    "\n",
    "print(f\"{best_params=}\")"
   ]
  },
  {
   "cell_type": "code",
   "execution_count": 6,
   "id": "f48f71ca",
   "metadata": {},
   "outputs": [
    {
     "data": {
      "text/plain": [
       "(1, 0.5, 0.1, 10)"
      ]
     },
     "execution_count": 6,
     "metadata": {},
     "output_type": "execute_result"
    }
   ],
   "source": [
    "best_params # (1, 0.5, 0.1, 10)"
   ]
  },
  {
   "cell_type": "code",
   "execution_count": 7,
   "id": "c0dc208d",
   "metadata": {
    "scrolled": true
   },
   "outputs": [
    {
     "name": "stdout",
     "output_type": "stream",
     "text": [
      "k=0, rel_gap=inf, L=-2074.3559134842617, U=4409.906115002427, L0=-2074.3559134842617\n",
      "   null step: tau_k=0.5000005, mu_k=1.0000000000082658, L_k=-2074.3559134842617, l_k=1167.7751007590828\n",
      "k=20, rel_gap=inf, L=-384.3271618375411, U=58.29868364397851, L0=-384.3271618375411\n",
      "   null step: tau_k=0.004773293565273095, mu_k=2.166624106243595, L_k=-2074.3559134842617, l_k=-314.71856566600394\n",
      "k=40, rel_gap=1.0757718918738457, L=-124.31297057564598, U=-59.887587389684654, L0=-124.31297057564598\n",
      "   descent step: tau_k=0.003291211526870509, mu_k=1.94270401819747, L_k=-2074.3559134842617, l_k=-83.20116547155855\n",
      "k=60, rel_gap=0.1772477403167907, L=-91.42753063332714, U=-77.66209906567713, L0=-91.42753063332714\n",
      "   null step: tau_k=0.00012806809432372942, mu_k=1.0000000003937277, L_k=-2074.3559134842617, l_k=-80.57629632591136\n",
      "k=80, rel_gap=0.09531844395160989, L=-88.13637433247618, U=-80.46643861350879, L0=-88.13637433247618\n",
      "   null step: tau_k=4.7957603012224764e-05, mu_k=16.62713459200249, L_k=-2074.3559134842617, l_k=-81.19498792856734\n",
      "k=100, rel_gap=0.08805429478365905, L=-87.87864328234264, U=-80.76678131197102, L0=-87.87864328234264\n",
      "   null step: tau_k=1.213522413709709e-05, mu_k=10.540735814794667, L_k=-2074.3559134842617, l_k=-80.85784997635334\n",
      "k=120, rel_gap=0.08739550688817127, L=-87.8254351044568, U=-80.76678131197102, L0=-87.82543778531681\n",
      "   null step: tau_k=1.000010619377267e-06, mu_k=3.034890227485949, L_k=-2074.3559134842617, l_k=-80.78954847806659\n",
      "k=140, rel_gap=0.08739522848231938, L=-87.82541261851225, U=-80.76678131197102, L0=-87.82541635997723\n",
      "   null step: tau_k=1.0000000000101273e-06, mu_k=3.1843603614844853, L_k=-2074.3559134842617, l_k=-80.78954847806659\n",
      "rel_gap=0.08739505380388601, L=-87.82539851029742, L_k=-2074.3559134842617, U=-80.76678131197102, l_k=-80.78954847806659\n",
      "elapsed time = 188.0354859828949\n"
     ]
    }
   ],
   "source": [
    "max_iter = 150\n",
    "start_time = time.time()\n",
    "# best_params = (1, 0.5, 0.1, 10)\n",
    "x_agent, x_global = prob.solve_doubly_stabilized(ds_params=best_params, rel_gap=10**(-5), abs_gap=10**(-5),\\\n",
    "                                                  max_iter=max_iter, memory=max_iter, tol=1e-6, print_freq=20)\n",
    "print(f\"elapsed time = {time.time() - start_time}\")"
   ]
  },
  {
   "cell_type": "code",
   "execution_count": 8,
   "id": "e24ea789",
   "metadata": {},
   "outputs": [
    {
     "data": {
      "text/plain": [
       "(-87.82539851029742, -80.76678131197102)"
      ]
     },
     "execution_count": 8,
     "metadata": {},
     "output_type": "execute_result"
    }
   ],
   "source": [
    "prob.lower_bnd[-1], prob.upper_bnd[-1]"
   ]
  },
  {
   "attachments": {},
   "cell_type": "markdown",
   "id": "5c881a48",
   "metadata": {},
   "source": [
    "# Centralized solution"
   ]
  },
  {
   "cell_type": "code",
   "execution_count": 9,
   "id": "4c004780",
   "metadata": {},
   "outputs": [],
   "source": [
    "h_cvx, x_cvx, prob_cvx = ob.cvx_supply_chain(params=params)"
   ]
  },
  {
   "cell_type": "code",
   "execution_count": 10,
   "id": "8934b139",
   "metadata": {},
   "outputs": [
    {
     "data": {
      "text/plain": [
       "(-81.1232713273431, -80.76678131197102)"
      ]
     },
     "execution_count": 10,
     "metadata": {},
     "output_type": "execute_result"
    }
   ],
   "source": [
    "h_cvx, prob.upper_bnd[-1]"
   ]
  },
  {
   "cell_type": "code",
   "execution_count": 11,
   "id": "77b58f62",
   "metadata": {},
   "outputs": [],
   "source": [
    "assert prob.lower_bnd[-1] - 1e-8 <= h_cvx <= 1e-8 + prob.upper_bnd[-1], print(prob.lower_bnd[-1], h_cvx, prob.upper_bnd[-1])"
   ]
  },
  {
   "attachments": {},
   "cell_type": "markdown",
   "id": "d84e60d7",
   "metadata": {},
   "source": [
    "# Plot"
   ]
  },
  {
   "cell_type": "code",
   "execution_count": 12,
   "id": "7c1fdcdf",
   "metadata": {},
   "outputs": [
    {
     "data": {
      "image/png": "[encoded data removed]",
      "text/plain": [
       "<Figure size 640x480 with 1 Axes>"
      ]
     },
     "metadata": {},
     "output_type": "display_data"
    }
   ],
   "source": [
    "ob.plot_true_rel_gap_uk(lk = prob.lower_bnd, uk = prob.upper_bnd, h_true = h_cvx, file_name='sc_doubly_stab.pdf')"
   ]
  },
  {
   "cell_type": "code",
   "execution_count": null,
   "id": "9f04cdf5",
   "metadata": {},
   "outputs": [],
   "source": []
  },
  {
   "cell_type": "code",
   "execution_count": null,
   "id": "5c3d39b6",
   "metadata": {},
   "outputs": [],
   "source": []
  },
  {
   "cell_type": "code",
   "execution_count": 13,
   "id": "7538b493",
   "metadata": {},
   "outputs": [
    {
     "name": "stdout",
     "output_type": "stream",
     "text": [
      "i=79, omega_k=0.09534536457290926, omega_true=0.008096723703164195\n"
     ]
    },
    {
     "data": {
      "image/png": "[encoded data removed]",
      "text/plain": [
       "<Figure size 640x480 with 1 Axes>"
      ]
     },
     "metadata": {},
     "output_type": "display_data"
    }
   ],
   "source": [
    "ob.plot_true_rel_gap_uk(y_min=1e-4, y_max=1e2, lk = prob.lower_bnd, uk = prob.upper_bnd, h_true = h_cvx, file_name='sc_dsbm_bounds.pdf')"
   ]
  },
  {
   "cell_type": "code",
   "execution_count": null,
   "id": "f79c1194",
   "metadata": {},
   "outputs": [],
   "source": []
  },
  {
   "cell_type": "code",
   "execution_count": null,
   "id": "158c5348",
   "metadata": {},
   "outputs": [],
   "source": []
  }
 ],
 "metadata": {
  "kernelspec": {
   "display_name": "Python 3 (ipykernel)",
   "language": "python",
   "name": "python3"
  },
  "language_info": {
   "codemirror_mode": {
    "name": "ipython",
    "version": 3
   },
   "file_extension": ".py",
   "mimetype": "text/x-python",
   "name": "python",
   "nbconvert_exporter": "python",
   "pygments_lexer": "ipython3",
   "version": "3.9.16"
  }
 },
 "nbformat": 4,
 "nbformat_minor": 5
}
