{
 "cells": [
  {
   "cell_type": "code",
   "execution_count": 1,
   "id": "aa2f7901",
   "metadata": {},
   "outputs": [],
   "source": [
    "import numpy as np\n",
    "import cvxpy as cp\n",
    "import osbdo as ob"
   ]
  },
  {
   "cell_type": "code",
   "execution_count": 2,
   "id": "beef43fb",
   "metadata": {},
   "outputs": [],
   "source": [
    "import time\n",
    "import random\n",
    "\n",
    "\n",
    "np.random.seed(0) \n",
    "random.seed(0)"
   ]
  },
  {
   "attachments": {},
   "cell_type": "markdown",
   "id": "03a04778",
   "metadata": {},
   "source": [
    "# Problem description\n",
    "section 4.1 in https://web.stanford.edu/~boyd/papers/os_bundle_distr_opt.html "
   ]
  },
  {
   "attachments": {},
   "cell_type": "markdown",
   "id": "1819d54c",
   "metadata": {},
   "source": [
    "# Create parameters"
   ]
  },
  {
   "cell_type": "code",
   "execution_count": 3,
   "id": "5cd7cc37",
   "metadata": {},
   "outputs": [],
   "source": [
    "# ms = [5, 5, 12, 10, 6]\n",
    "# ns = [5, 12, 10, 6, 9]\n",
    "ms = [20, 30, 40, 25, 35]\n",
    "ns = [30, 40, 25, 35, 20]\n",
    "params = ob.sc_params(ms, ns)"
   ]
  },
  {
   "attachments": {},
   "cell_type": "markdown",
   "id": "21f273d1",
   "metadata": {},
   "source": [
    "# Distributed solution"
   ]
  },
  {
   "cell_type": "code",
   "execution_count": 4,
   "id": "0b2cd8f4",
   "metadata": {},
   "outputs": [],
   "source": [
    "agents = ob.sc_agents(params)\n",
    "g = ob.sc_coupling(params, agents)\n",
    "prob = ob.Problem(agents = agents, g = g)"
   ]
  },
  {
   "cell_type": "code",
   "execution_count": 5,
   "id": "330c5162",
   "metadata": {},
   "outputs": [],
   "source": [
    "ob.add_extra_methods_to_problem(prob)"
   ]
  },
  {
   "cell_type": "code",
   "execution_count": 6,
   "id": "c0dc208d",
   "metadata": {
    "scrolled": true
   },
   "outputs": [
    {
     "name": "stdout",
     "output_type": "stream",
     "text": [
      "k=0, rel_gap=inf, L=-2074.3559134842617, U=4409.906115002427, L0=-2074.3559134842617\n",
      "   CS status='init', iters=1\n"
     ]
    },
    {
     "name": "stderr",
     "output_type": "stream",
     "text": [
      "/Users/parshakova.tanya/opt/anaconda3/envs/osbdo/lib/python3.9/site-packages/cvxpy/problems/problem.py:1385: UserWarning: Solution may be inaccurate. Try another solver, adjusting the solver settings, or solve with verbose=True for more information.\n",
      "  warnings.warn(\n"
     ]
    },
    {
     "name": "stdout",
     "output_type": "stream",
     "text": [
      "k=50, rel_gap=0.23040629908736998, L=-95.20504304826477, U=-77.37691453537036, L0=-95.20504304826477\n",
      "   CS status='null', iters=1\n",
      "k=100, rel_gap=0.04678081402367668, L=-84.80387163047112, U=-81.0139720697565, L0=-84.80387163047112\n",
      "   CS status='descent', iters=1\n",
      "elapsed time = 184.5854070186615\n"
     ]
    }
   ],
   "source": [
    "max_iter = 150\n",
    "start_time = time.time()\n",
    "x_agent, x_global = prob.solve_var_metric(rel_gap=10**(-5), abs_gap=10**(-5), max_iter=max_iter,\\\n",
    "                                          memory=max_iter, poorman=True, print_freq=50)\n",
    "print(f\"elapsed time = {time.time() - start_time}\")"
   ]
  },
  {
   "cell_type": "code",
   "execution_count": 7,
   "id": "e24ea789",
   "metadata": {},
   "outputs": [
    {
     "data": {
      "text/plain": [
       "(-82.97007907838633, -81.10842475838794)"
      ]
     },
     "execution_count": 7,
     "metadata": {},
     "output_type": "execute_result"
    }
   ],
   "source": [
    "prob.lower_bnd[-1], prob.upper_bnd[-1]"
   ]
  },
  {
   "attachments": {},
   "cell_type": "markdown",
   "id": "5c881a48",
   "metadata": {},
   "source": [
    "# Centralized solution"
   ]
  },
  {
   "cell_type": "code",
   "execution_count": 8,
   "id": "4c004780",
   "metadata": {},
   "outputs": [],
   "source": [
    "h_cvx, x_cvx, prob_cvx = ob.cvx_supply_chain(params=params)"
   ]
  },
  {
   "cell_type": "code",
   "execution_count": 9,
   "id": "8934b139",
   "metadata": {},
   "outputs": [
    {
     "data": {
      "text/plain": [
       "(-81.1232713273431, -81.10842475838794)"
      ]
     },
     "execution_count": 9,
     "metadata": {},
     "output_type": "execute_result"
    }
   ],
   "source": [
    "h_cvx, prob.upper_bnd[-1]"
   ]
  },
  {
   "attachments": {},
   "cell_type": "markdown",
   "id": "d84e60d7",
   "metadata": {},
   "source": [
    "# Plot"
   ]
  },
  {
   "cell_type": "code",
   "execution_count": 11,
   "id": "35998f91",
   "metadata": {},
   "outputs": [
    {
     "name": "stdout",
     "output_type": "stream",
     "text": [
      "i=69, omega_k=0.11027455694084042, omega_true=0.009886449880777966\n"
     ]
    },
    {
     "data": {
      "image/png": "[encoded data removed]",
      "text/plain": [
       "<Figure size 640x480 with 1 Axes>"
      ]
     },
     "metadata": {},
     "output_type": "display_data"
    }
   ],
   "source": [
    "ob.plot_true_rel_gap_uk(y_min=1e-4, y_max=1e2, lk = prob.lower_bnd, uk = prob.upper_bnd, h_true = h_cvx, file_name='sc_var_metric_bounds.pdf')"
   ]
  },
  {
   "cell_type": "code",
   "execution_count": null,
   "id": "effe6e9d",
   "metadata": {},
   "outputs": [],
   "source": []
  }
 ],
 "metadata": {
  "kernelspec": {
   "display_name": "Python 3 (ipykernel)",
   "language": "python",
   "name": "python3"
  },
  "language_info": {
   "codemirror_mode": {
    "name": "ipython",
    "version": 3
   },
   "file_extension": ".py",
   "mimetype": "text/x-python",
   "name": "python",
   "nbconvert_exporter": "python",
   "pygments_lexer": "ipython3",
   "version": "3.9.16"
  }
 },
 "nbformat": 4,
 "nbformat_minor": 5
}
