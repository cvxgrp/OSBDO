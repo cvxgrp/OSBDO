{
 "cells": [
  {
   "cell_type": "code",
   "execution_count": 1,
   "id": "0525ba0a",
   "metadata": {},
   "outputs": [],
   "source": [
    "import cvxpy as cp\n",
    "import numpy as np\n",
    "import osbdo as ob\n",
    "import random\n",
    "\n",
    "np.random.seed(0)\n",
    "random.seed(0)"
   ]
  },
  {
   "attachments": {},
   "cell_type": "markdown",
   "id": "2ef73d40",
   "metadata": {},
   "source": [
    "# Create parameters"
   ]
  },
  {
   "cell_type": "code",
   "execution_count": 2,
   "id": "7d156b49",
   "metadata": {},
   "outputs": [],
   "source": [
    "params, R = ob.ra_params(num_resources=50, num_agents=50, num_participants=500)"
   ]
  },
  {
   "attachments": {},
   "cell_type": "markdown",
   "id": "84cc2a26",
   "metadata": {},
   "source": [
    "# Distributed solution with limited memory $m$"
   ]
  },
  {
   "cell_type": "code",
   "execution_count": 3,
   "id": "89196719",
   "metadata": {},
   "outputs": [],
   "source": [
    "agents = ob.ra_agents(params=params)\n",
    "g = ob.ra_coupling(agents, R)\n",
    "prob = ob.Problem(agents = agents, g = g)"
   ]
  },
  {
   "cell_type": "code",
   "execution_count": 4,
   "id": "d3bad410",
   "metadata": {
    "scrolled": true
   },
   "outputs": [
    {
     "name": "stdout",
     "output_type": "stream",
     "text": [
      "memory = 2\n"
     ]
    },
    {
     "name": "stderr",
     "output_type": "stream",
     "text": [
      "/Users/fangzhaozhang/miniconda3/envs/hw4/lib/python3.8/site-packages/cvxpy/problems/problem.py:1385: UserWarning: Solution may be inaccurate. Try another solver, adjusting the solver settings, or solve with verbose=True for more information.\n",
      "  warnings.warn(\n"
     ]
    },
    {
     "name": "stdout",
     "output_type": "stream",
     "text": [
      "k=0, rel_gap=242.43469819914174, L=-1139391.8368440405, U=-4680.4824672609375, L0=-1139391.8368440405\n",
      "k=10, rel_gap=0.0654699844823378, L=-5613.820215442633, U=-5268.867539398706, L0=-12737.65192768509\n",
      "k=20, rel_gap=0.0654699844823378, L=-5613.820215442633, U=-5268.867539398706, L0=-10308.291901061713\n",
      "proxmin ECOS fail, increase #iter in ECOS\n",
      "proxmin ECOS fail again, switch to OSQP\n",
      "proxmin ECOS fail, increase #iter in ECOS\n",
      "proxmin ECOS fail again, switch to OSQP\n",
      "proxmin ECOS fail, increase #iter in ECOS\n",
      "proxmin ECOS fail again, switch to OSQP\n",
      "proxmin ECOS fail, increase #iter in ECOS\n",
      "proxmin ECOS fail again, switch to OSQP\n",
      "proxmin ECOS fail, increase #iter in ECOS\n",
      "proxmin ECOS fail again, switch to OSQP\n",
      "proxmin ECOS fail, increase #iter in ECOS\n",
      "proxmin ECOS fail again, switch to OSQP\n",
      "proxmin ECOS fail, increase #iter in ECOS\n",
      "proxmin ECOS fail again, switch to OSQP\n",
      "proxmin ECOS fail, increase #iter in ECOS\n",
      "proxmin ECOS fail again, switch to OSQP\n",
      "proxmin ECOS fail, increase #iter in ECOS\n",
      "proxmin ECOS fail again, switch to OSQP\n",
      "proxmin ECOS fail, increase #iter in ECOS\n",
      "proxmin ECOS fail again, switch to OSQP\n",
      "k=30, rel_gap=0.0654699844823378, L=-5613.820215442633, U=-5268.867539398706, L0=-11234.837338257266\n",
      "proxmin ECOS fail, increase #iter in ECOS\n",
      "proxmin ECOS fail again, switch to OSQP\n",
      "proxmin ECOS fail, increase #iter in ECOS\n",
      "proxmin ECOS fail again, switch to OSQP\n",
      "proxmin ECOS fail, increase #iter in ECOS\n",
      "proxmin ECOS fail again, switch to OSQP\n",
      "proxmin ECOS fail, increase #iter in ECOS\n",
      "proxmin ECOS fail again, switch to OSQP\n",
      "proxmin ECOS fail, increase #iter in ECOS\n",
      "proxmin ECOS fail again, switch to OSQP\n",
      "proxmin ECOS fail, increase #iter in ECOS\n",
      "proxmin ECOS fail again, switch to OSQP\n",
      "proxmin ECOS fail, increase #iter in ECOS\n",
      "proxmin ECOS fail again, switch to OSQP\n",
      "proxmin ECOS fail, increase #iter in ECOS\n",
      "proxmin ECOS fail again, switch to OSQP\n",
      "proxmin ECOS fail, increase #iter in ECOS\n",
      "proxmin ECOS fail again, switch to OSQP\n",
      "proxmin ECOS fail, increase #iter in ECOS\n",
      "proxmin ECOS fail again, switch to OSQP\n",
      "k=40, rel_gap=0.0654699844823378, L=-5613.820215442633, U=-5268.867539398706, L0=-11725.174467456862\n",
      "proxmin ECOS fail, increase #iter in ECOS\n",
      "proxmin ECOS fail again, switch to OSQP\n",
      "proxmin ECOS fail, increase #iter in ECOS\n",
      "proxmin ECOS fail again, switch to OSQP\n",
      "proxmin ECOS fail, increase #iter in ECOS\n",
      "proxmin ECOS fail again, switch to OSQP\n",
      "proxmin ECOS fail, increase #iter in ECOS\n",
      "proxmin ECOS fail again, switch to OSQP\n",
      "proxmin ECOS fail, increase #iter in ECOS\n",
      "proxmin ECOS fail again, switch to OSQP\n",
      "proxmin ECOS fail, increase #iter in ECOS\n",
      "proxmin ECOS fail again, switch to OSQP\n",
      "proxmin ECOS fail, increase #iter in ECOS\n",
      "proxmin ECOS fail again, switch to OSQP\n",
      "proxmin ECOS fail, increase #iter in ECOS\n",
      "proxmin ECOS fail again, switch to OSQP\n",
      "proxmin ECOS fail, increase #iter in ECOS\n",
      "proxmin ECOS fail again, switch to OSQP\n",
      "proxmin ECOS fail, increase #iter in ECOS\n",
      "proxmin ECOS fail again, switch to OSQP\n",
      "memory = 20\n",
      "k=0, rel_gap=242.43469819914174, L=-1139391.8368440405, U=-4680.4824672609375, L0=-1139391.8368440405\n",
      "k=10, rel_gap=0.0384685605306621, L=-5582.63500240729, U=-5375.834391707091, L0=-5582.63500240729\n",
      "k=20, rel_gap=0.022927941781487902, L=-5529.010028265676, U=-5405.082608885027, L0=-5529.010028265676\n",
      "k=30, rel_gap=0.022090543080408847, L=-5529.010028265676, U=-5409.510992638842, L0=-5865.810442288021\n",
      "k=40, rel_gap=0.022090543080408847, L=-5529.010028265676, U=-5409.510992638842, L0=-7821.637560731465\n",
      "memory = 30\n",
      "k=0, rel_gap=242.43469819914174, L=-1139391.8368440405, U=-4680.4824672609375, L0=-1139391.8368440405\n",
      "k=10, rel_gap=0.0384685605306621, L=-5582.63500240729, U=-5375.834391707091, L0=-5582.63500240729\n",
      "k=20, rel_gap=0.022927941781487902, L=-5529.010028265676, U=-5405.082608885027, L0=-5529.010028265676\n",
      "k=30, rel_gap=0.014304312554010145, L=-5501.390194123918, U=-5423.806372538693, L0=-5501.390194123918\n",
      "k=40, rel_gap=0.011792700699239947, L=-5495.952089788941, U=-5431.895373420605, L0=-5549.608855369571\n",
      "memory = 50\n",
      "k=0, rel_gap=242.43469819914174, L=-1139391.8368440405, U=-4680.4824672609375, L0=-1139391.8368440405\n",
      "k=10, rel_gap=0.0384685605306621, L=-5582.63500240729, U=-5375.834391707091, L0=-5582.63500240729\n",
      "k=20, rel_gap=0.022927941781487902, L=-5529.010028265676, U=-5405.082608885027, L0=-5529.010028265676\n",
      "k=30, rel_gap=0.014304312554010145, L=-5501.390194123918, U=-5423.806372538693, L0=-5501.390194123918\n",
      "k=40, rel_gap=0.010842139910878804, L=-5493.736612751135, U=-5434.811624726579, L0=-5493.736612751135\n"
     ]
    }
   ],
   "source": [
    "max_iter = 50\n",
    "memory = [2, 20, 30, max_iter]\n",
    "memory_bounds = {}\n",
    "for m in memory:\n",
    "    print(f\"memory = {m}\")\n",
    "    prob.solve(rel_gap= 10**(-10), abs_gap=10**(-10), max_iter=max_iter, memory=m, minorant_update='drop_constr', print_freq=10)\n",
    "    memory_bounds[m] = {'uk':prob.upper_bnd, 'lk':prob.lower_bnd}"
   ]
  },
  {
   "attachments": {},
   "cell_type": "markdown",
   "id": "389b2505",
   "metadata": {},
   "source": [
    "# Centralized solution"
   ]
  },
  {
   "cell_type": "code",
   "execution_count": 5,
   "id": "c36f53f5",
   "metadata": {},
   "outputs": [
    {
     "name": "stdout",
     "output_type": "stream",
     "text": [
      "h_cvx=-5470.798374529231\n"
     ]
    }
   ],
   "source": [
    "h_cvx = ob.cvx_resource_allocation(params=params, R=R)[0]\n",
    "print(f\"{h_cvx=}\")"
   ]
  },
  {
   "attachments": {},
   "cell_type": "markdown",
   "id": "ec9cf912",
   "metadata": {},
   "source": [
    "# Plot"
   ]
  },
  {
   "cell_type": "code",
   "execution_count": 6,
   "id": "b806e678",
   "metadata": {},
   "outputs": [
    {
     "data": {
      "image/png": "[encoded data removed]",
      "text/plain": [
       "<Figure size 640x480 with 1 Axes>"
      ]
     },
     "metadata": {},
     "output_type": "display_data"
    }
   ],
   "source": [
    "ob.plot_finite_memory(memory_bounds=memory_bounds, memory=memory, h_true=h_cvx, filename='ra_fin_memory_drop.pdf')"
   ]
  },
  {
   "cell_type": "code",
   "execution_count": null,
   "id": "29aa2009",
   "metadata": {},
   "outputs": [],
   "source": []
  }
 ],
 "metadata": {
  "kernelspec": {
   "display_name": "Python 3 (ipykernel)",
   "language": "python",
   "name": "python3"
  },
  "language_info": {
   "codemirror_mode": {
    "name": "ipython",
    "version": 3
   },
   "file_extension": ".py",
   "mimetype": "text/x-python",
   "name": "python",
   "nbconvert_exporter": "python",
   "pygments_lexer": "ipython3",
   "version": "3.8.16"
  }
 },
 "nbformat": 4,
 "nbformat_minor": 5
}
