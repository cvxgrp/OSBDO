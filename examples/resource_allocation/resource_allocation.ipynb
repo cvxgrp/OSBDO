{
 "cells": [
  {
   "cell_type": "code",
   "execution_count": 1,
   "id": "d4f1200e",
   "metadata": {},
   "outputs": [],
   "source": [
    "import cvxpy as cp\n",
    "import numpy as np\n",
    "import osbdo as ob"
   ]
  },
  {
   "cell_type": "code",
   "execution_count": 2,
   "id": "7631db4f",
   "metadata": {},
   "outputs": [],
   "source": [
    "import random, time\n",
    "\n",
    "np.random.seed(1001)\n",
    "random.seed(1001)"
   ]
  },
  {
   "attachments": {},
   "cell_type": "markdown",
   "id": "adfafb15",
   "metadata": {},
   "source": [
    "# Problem description\n",
    "section 4.2 in https://web.stanford.edu/~boyd/papers/os_bundle_distr_opt.html "
   ]
  },
  {
   "attachments": {},
   "cell_type": "markdown",
   "id": "e50cb7f4",
   "metadata": {},
   "source": [
    "# Create parameters"
   ]
  },
  {
   "cell_type": "code",
   "execution_count": 3,
   "id": "4d3e3d66",
   "metadata": {},
   "outputs": [],
   "source": [
    "params, R = ob.ra_params(num_resources=50, num_agents=50, num_participants=500)"
   ]
  },
  {
   "attachments": {},
   "cell_type": "markdown",
   "id": "ac935195",
   "metadata": {},
   "source": [
    "# Distributed solution"
   ]
  },
  {
   "cell_type": "code",
   "execution_count": 4,
   "id": "60da99a8",
   "metadata": {},
   "outputs": [],
   "source": [
    "agents = ob.ra_agents(params=params)\n",
    "g = ob.ra_coupling(agents, R)\n",
    "prob = ob.Problem(agents = agents, g = g)"
   ]
  },
  {
   "cell_type": "code",
   "execution_count": 5,
   "id": "3c38e2c5",
   "metadata": {
    "scrolled": true
   },
   "outputs": [
    {
     "name": "stderr",
     "output_type": "stream",
     "text": [
      "/Users/parshakova.tanya/opt/anaconda3/envs/osbdo/lib/python3.9/site-packages/cvxpy/problems/problem.py:1385: UserWarning: Solution may be inaccurate. Try another solver, adjusting the solver settings, or solve with verbose=True for more information.\n",
      "  warnings.warn(\n"
     ]
    },
    {
     "name": "stdout",
     "output_type": "stream",
     "text": [
      "k=0, rel_gap=223.021469758155, L=-840063.2757961305, U=-3749.923061852199, L0=-840063.2757961305\n",
      "k=10, rel_gap=0.0404662489661043, L=-4377.693880308359, U=-4207.4347771092125, L0=-4377.693880308359\n",
      "k=20, rel_gap=0.025352765568767, L=-4331.804744157706, U=-4224.696991727367, L0=-4331.804744157706\n",
      "rho=247.35591973486356\n",
      "k=30, rel_gap=0.01919652123556546, L=-4311.968653399846, U=-4230.752915220387, L0=-4311.968653399846\n",
      "k=40, rel_gap=0.0122516226088991, L=-4302.686218419238, U=-4250.6093567228145, L0=-4302.686218419238\n",
      "k=50, rel_gap=0.008813332300796577, L=-4296.678032532045, U=-4259.140809264117, L0=-4296.678032532045\n",
      "k=60, rel_gap=0.006792530377125369, L=-4293.102812730117, U=-4264.138522285224, L0=-4293.102812730117\n",
      "k=70, rel_gap=0.005288185054937472, L=-4290.762839029526, U=-4268.19185067319, L0=-4290.762839029526\n",
      "k=80, rel_gap=0.0047019935578468414, L=-4289.24434593731, U=-4269.170732655018, L0=-4289.24434593731\n",
      "k=90, rel_gap=0.0040116336288732735, L=-4287.720544218732, U=-4270.588507745979, L0=-4287.720544218732\n",
      "rel_gap=0.0035260924518536753, L=-4286.970745471123, U=-4271.907604312541\n",
      "elapsed time = 8406.904618024826\n"
     ]
    }
   ],
   "source": [
    "max_iter = 100\n",
    "start_time = time.time()\n",
    "x_agent, x_global = prob.solve(rel_gap=10**(-5), abs_gap=10**(-5), max_iter=max_iter, print_freq=10)\n",
    "print(f\"elapsed time = {time.time() - start_time}\")"
   ]
  },
  {
   "cell_type": "code",
   "execution_count": 6,
   "id": "5f17e666",
   "metadata": {},
   "outputs": [
    {
     "data": {
      "text/plain": [
       "(-4286.970745471123, -4271.907604312541)"
      ]
     },
     "execution_count": 6,
     "metadata": {},
     "output_type": "execute_result"
    }
   ],
   "source": [
    "prob.lower_bnd[-1], prob.upper_bnd[-1]"
   ]
  },
  {
   "attachments": {},
   "cell_type": "markdown",
   "id": "2f788f70",
   "metadata": {},
   "source": [
    "# Centralized solution"
   ]
  },
  {
   "cell_type": "code",
   "execution_count": 7,
   "id": "cce4a08b",
   "metadata": {},
   "outputs": [],
   "source": [
    "h_cvx, x_cvx = ob.cvx_resource_allocation(params=params, R=R)"
   ]
  },
  {
   "cell_type": "code",
   "execution_count": 8,
   "id": "4cbfe901",
   "metadata": {},
   "outputs": [
    {
     "data": {
      "text/plain": [
       "(-4278.68493859097, -4271.907604312541)"
      ]
     },
     "execution_count": 8,
     "metadata": {},
     "output_type": "execute_result"
    }
   ],
   "source": [
    "h_cvx, prob.upper_bnd[-1]"
   ]
  },
  {
   "attachments": {},
   "cell_type": "markdown",
   "id": "f068f7eb",
   "metadata": {},
   "source": [
    "# Plot"
   ]
  },
  {
   "cell_type": "code",
   "execution_count": 17,
   "id": "51a638ed",
   "metadata": {},
   "outputs": [
    {
     "name": "stdout",
     "output_type": "stream",
     "text": [
      "i=33, omega_k=0.01685152241020332, omega_true=0.009709404008015577\n",
      "i=47, omega_k=0.009513713491593708, omega_true=0.004943273708807813\n"
     ]
    },
    {
     "data": {
      "image/png": "[encoded data removed]",
      "text/plain": [
       "<Figure size 640x480 with 1 Axes>"
      ]
     },
     "metadata": {},
     "output_type": "display_data"
    }
   ],
   "source": [
    "ob.plot_true_rel_gap_uk(y_min=3e-3, y_max=1e2, lk = prob.lower_bnd[:51], uk = prob.upper_bnd[:51], h_true = h_cvx, file_name='ra_osbdo_50_bounds.pdf')"
   ]
  },
  {
   "cell_type": "code",
   "execution_count": null,
   "id": "43e1949b",
   "metadata": {},
   "outputs": [],
   "source": []
  }
 ],
 "metadata": {
  "kernelspec": {
   "display_name": "Python 3 (ipykernel)",
   "language": "python",
   "name": "python3"
  },
  "language_info": {
   "codemirror_mode": {
    "name": "ipython",
    "version": 3
   },
   "file_extension": ".py",
   "mimetype": "text/x-python",
   "name": "python",
   "nbconvert_exporter": "python",
   "pygments_lexer": "ipython3",
   "version": "3.9.16"
  }
 },
 "nbformat": 4,
 "nbformat_minor": 5
}
