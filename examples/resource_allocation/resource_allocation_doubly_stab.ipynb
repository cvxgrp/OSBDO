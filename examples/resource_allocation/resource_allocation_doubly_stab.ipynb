{
 "cells": [
  {
   "cell_type": "code",
   "execution_count": 1,
   "id": "aa2f7901",
   "metadata": {},
   "outputs": [],
   "source": [
    "import numpy as np\n",
    "import cvxpy as cp\n",
    "import osbdo as ob"
   ]
  },
  {
   "cell_type": "code",
   "execution_count": 2,
   "id": "beef43fb",
   "metadata": {},
   "outputs": [],
   "source": [
    "import time\n",
    "import random\n",
    "\n",
    "np.random.seed(1001) \n",
    "random.seed(1001)"
   ]
  },
  {
   "attachments": {},
   "cell_type": "markdown",
   "id": "03a04778",
   "metadata": {},
   "source": [
    "# Problem description\n",
    "section 4.2 in https://web.stanford.edu/~boyd/papers/os_bundle_distr_opt.html "
   ]
  },
  {
   "attachments": {},
   "cell_type": "markdown",
   "id": "1819d54c",
   "metadata": {},
   "source": [
    "# Create parameters"
   ]
  },
  {
   "cell_type": "code",
   "execution_count": 3,
   "id": "5cd7cc37",
   "metadata": {},
   "outputs": [],
   "source": [
    "params, R = ob.ra_params(num_resources=50, num_agents=50, num_participants=500)"
   ]
  },
  {
   "attachments": {},
   "cell_type": "markdown",
   "id": "21f273d1",
   "metadata": {},
   "source": [
    "# Distributed solution"
   ]
  },
  {
   "cell_type": "code",
   "execution_count": 4,
   "id": "0b2cd8f4",
   "metadata": {},
   "outputs": [],
   "source": [
    "agents = ob.ra_agents(params=params)\n",
    "g = ob.ra_coupling(agents, R)\n",
    "prob = ob.Problem(agents = agents, g = g)"
   ]
  },
  {
   "cell_type": "code",
   "execution_count": null,
   "id": "6d85d69d",
   "metadata": {},
   "outputs": [],
   "source": [
    "ob.add_extra_methods_to_problem(prob)"
   ]
  },
  {
   "cell_type": "code",
   "execution_count": 5,
   "id": "c0dc208d",
   "metadata": {
    "scrolled": true
   },
   "outputs": [
    {
     "name": "stderr",
     "output_type": "stream",
     "text": [
      "/Users/parshakova.tanya/opt/anaconda3/envs/osbdo/lib/python3.9/site-packages/cvxpy/problems/problem.py:1385: UserWarning: Solution may be inaccurate. Try another solver, adjusting the solver settings, or solve with verbose=True for more information.\n",
      "  warnings.warn(\n"
     ]
    },
    {
     "name": "stdout",
     "output_type": "stream",
     "text": [
      "k=0, rel_gap=223.021469758155, L=-840063.2757961305, U=-3749.923061852199, L0=-840063.2757961305\n",
      "   null step: tau_k=0.5000005, mu_k=1.0000000000035325, L_k=-840063.2757961305, l_k=-421906.5994289914\n",
      "k=10, rel_gap=0.041693391940443233, L=-4399.237219480989, U=-4223.159380214736, L0=-4399.237219480989\n",
      "   null step: tau_k=0.000977561523459097, mu_k=1.0000000000333795, L_k=-4566.635320381768, l_k=-4309.028365256494\n",
      "k=20, rel_gap=0.02824472923932411, L=-4362.4984962923145, U=-4242.665556398823, L0=-4362.4984962923145\n",
      "   null step: tau_k=0.00013586811469686757, mu_k=7.056110490391541, L_k=-4566.635320381768, l_k=-4285.600048919702\n",
      "k=30, rel_gap=0.021917896609201567, L=-4346.624909854115, U=-4253.399342820529, L0=-4346.624909854115\n",
      "   null step: tau_k=0.0009989727349049848, mu_k=1.8143069558123535, L_k=-4566.635320381768, l_k=-4274.866589080968\n",
      "k=40, rel_gap=0.019464219292204148, L=-4339.573455983719, U=-4256.719729699398, L0=-4339.573455983719\n",
      "   null step: tau_k=0.00018647141256758606, mu_k=2.5442618330357005, L_k=-4566.635320381768, l_k=-4267.453352829618\n",
      "rel_gap=0.017280662750398298, L=-4334.360502827317, L_k=-4566.635320381768, U=-4260.732226157338, l_k=-4266.099037722448\n",
      "elapsed time = 3483.0308780670166\n"
     ]
    }
   ],
   "source": [
    "max_iter = 50\n",
    "start_time = time.time()\n",
    "best_params = (1, 0.5, 0.1, 10)\n",
    "x_agent, x_global = prob.solve_doubly_stabilized(ds_params=best_params, rel_gap=10**(-5), abs_gap=10**(-5),\\\n",
    "                                                  max_iter=max_iter, memory=max_iter, tol=1e-6, print_freq=10)\n",
    "print(f\"elapsed time = {time.time() - start_time}\")"
   ]
  },
  {
   "cell_type": "code",
   "execution_count": 6,
   "id": "e24ea789",
   "metadata": {},
   "outputs": [
    {
     "data": {
      "text/plain": [
       "(-4334.360502827317, -4260.732226157338)"
      ]
     },
     "execution_count": 6,
     "metadata": {},
     "output_type": "execute_result"
    }
   ],
   "source": [
    "prob.lower_bnd[-1], prob.upper_bnd[-1]"
   ]
  },
  {
   "attachments": {},
   "cell_type": "markdown",
   "id": "5c881a48",
   "metadata": {},
   "source": [
    "# Centralized solution"
   ]
  },
  {
   "cell_type": "code",
   "execution_count": 8,
   "id": "4c004780",
   "metadata": {},
   "outputs": [],
   "source": [
    "h_cvx, x_cvx = ob.cvx_resource_allocation(params=params, R=R)"
   ]
  },
  {
   "cell_type": "code",
   "execution_count": 9,
   "id": "8934b139",
   "metadata": {},
   "outputs": [
    {
     "data": {
      "text/plain": [
       "(-4278.68493859097, -4260.732226157338)"
      ]
     },
     "execution_count": 9,
     "metadata": {},
     "output_type": "execute_result"
    }
   ],
   "source": [
    "h_cvx, prob.upper_bnd[-1]"
   ]
  },
  {
   "cell_type": "code",
   "execution_count": 10,
   "id": "77b58f62",
   "metadata": {},
   "outputs": [],
   "source": [
    "assert prob.lower_bnd[-1] - 1e-8 <= h_cvx <= 1e-8 + prob.upper_bnd[-1], print(prob.lower_bnd[-1], h_cvx, prob.upper_bnd[-1])"
   ]
  },
  {
   "attachments": {},
   "cell_type": "markdown",
   "id": "d84e60d7",
   "metadata": {},
   "source": [
    "# Plot"
   ]
  },
  {
   "cell_type": "code",
   "execution_count": 13,
   "id": "7c1fdcdf",
   "metadata": {},
   "outputs": [
    {
     "data": {
      "image/png": "[encoded data removed]",
      "text/plain": [
       "<Figure size 640x480 with 1 Axes>"
      ]
     },
     "metadata": {},
     "output_type": "display_data"
    }
   ],
   "source": [
    "ob.plot_true_rel_gap_uk(lk = prob.lower_bnd[:51], uk = prob.upper_bnd[:51], h_true = h_cvx, file_name='ra_doubly_stab.pdf')"
   ]
  },
  {
   "cell_type": "code",
   "execution_count": null,
   "id": "9f04cdf5",
   "metadata": {},
   "outputs": [],
   "source": []
  },
  {
   "cell_type": "code",
   "execution_count": null,
   "id": "545324f5",
   "metadata": {},
   "outputs": [],
   "source": []
  },
  {
   "cell_type": "code",
   "execution_count": null,
   "id": "4b7dc06b",
   "metadata": {},
   "outputs": [],
   "source": []
  },
  {
   "cell_type": "code",
   "execution_count": 15,
   "id": "a34f7dd8",
   "metadata": {},
   "outputs": [
    {
     "name": "stdout",
     "output_type": "stream",
     "text": [
      "i=28, omega_k=0.028589719383001172, omega_true=0.008418330096538565\n"
     ]
    },
    {
     "data": {
      "image/png": "[encoded data removed]",
      "text/plain": [
       "<Figure size 640x480 with 1 Axes>"
      ]
     },
     "metadata": {},
     "output_type": "display_data"
    }
   ],
   "source": [
    "ob.plot_true_rel_gap_uk(y_min=3e-3, y_max=1e2, lk = prob.lower_bnd, uk = prob.upper_bnd, h_true = h_cvx, file_name='ra_dsbm_bounds.pdf')"
   ]
  },
  {
   "cell_type": "code",
   "execution_count": null,
   "id": "f1764445",
   "metadata": {},
   "outputs": [],
   "source": []
  }
 ],
 "metadata": {
  "kernelspec": {
   "display_name": "Python 3 (ipykernel)",
   "language": "python",
   "name": "python3"
  },
  "language_info": {
   "codemirror_mode": {
    "name": "ipython",
    "version": 3
   },
   "file_extension": ".py",
   "mimetype": "text/x-python",
   "name": "python",
   "nbconvert_exporter": "python",
   "pygments_lexer": "ipython3",
   "version": "3.9.16"
  }
 },
 "nbformat": 4,
 "nbformat_minor": 5
}
