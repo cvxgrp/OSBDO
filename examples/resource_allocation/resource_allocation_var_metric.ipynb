{
 "cells": [
  {
   "cell_type": "code",
   "execution_count": 1,
   "id": "d4f1200e",
   "metadata": {},
   "outputs": [],
   "source": [
    "import cvxpy as cp\n",
    "import numpy as np\n",
    "import osbdo as ob"
   ]
  },
  {
   "cell_type": "code",
   "execution_count": 2,
   "id": "7631db4f",
   "metadata": {},
   "outputs": [],
   "source": [
    "import random, time\n",
    "\n",
    "np.random.seed(1001)\n",
    "random.seed(1001)"
   ]
  },
  {
   "attachments": {},
   "cell_type": "markdown",
   "id": "adfafb15",
   "metadata": {},
   "source": [
    "# Problem description\n",
    "section 4.2 in https://web.stanford.edu/~boyd/papers/os_bundle_distr_opt.html "
   ]
  },
  {
   "attachments": {},
   "cell_type": "markdown",
   "id": "e50cb7f4",
   "metadata": {},
   "source": [
    "# Create parameters"
   ]
  },
  {
   "cell_type": "code",
   "execution_count": 3,
   "id": "4d3e3d66",
   "metadata": {},
   "outputs": [],
   "source": [
    "params, R = ob.ra_params(num_resources=50, num_agents=50, num_participants=500)"
   ]
  },
  {
   "attachments": {},
   "cell_type": "markdown",
   "id": "ac935195",
   "metadata": {},
   "source": [
    "# Distributed solution"
   ]
  },
  {
   "cell_type": "code",
   "execution_count": 4,
   "id": "60da99a8",
   "metadata": {},
   "outputs": [],
   "source": [
    "agents = ob.ra_agents(params=params)\n",
    "g = ob.ra_coupling(agents, R)\n",
    "prob = ob.Problem(agents = agents, g = g)"
   ]
  },
  {
   "cell_type": "code",
   "execution_count": null,
   "id": "2553f1a5",
   "metadata": {},
   "outputs": [],
   "source": [
    "ob.add_extra_methods_to_problem(prob)"
   ]
  },
  {
   "cell_type": "code",
   "execution_count": 5,
   "id": "3c38e2c5",
   "metadata": {
    "scrolled": true
   },
   "outputs": [
    {
     "name": "stderr",
     "output_type": "stream",
     "text": [
      "/Users/parshakova.tanya/opt/anaconda3/envs/osbdo/lib/python3.9/site-packages/cvxpy/problems/problem.py:1385: UserWarning: Solution may be inaccurate. Try another solver, adjusting the solver settings, or solve with verbose=True for more information.\n",
      "  warnings.warn(\n"
     ]
    },
    {
     "name": "stdout",
     "output_type": "stream",
     "text": [
      "k=0, rel_gap=223.021469758155, L=-840063.2757961305, U=-3749.923061852199, L0=-840063.2757961305\n",
      "   CS status='init', iters=1\n",
      "k=20, rel_gap=0.039987269539586846, L=-4402.436447521255, U=-4233.163786197363, L0=-4402.436447521255\n",
      "   CS status='null', iters=1\n",
      "k=40, rel_gap=0.0364940627470094, L=-4393.865786638643, U=-4239.161558720005, L0=-4393.865786638643\n",
      "   CS status='null', iters=1\n",
      "elapsed time = 736.1044509410858\n"
     ]
    }
   ],
   "source": [
    "max_iter = 50\n",
    "start_time = time.time()\n",
    "x_agent, x_global = prob.solve_var_metric(rel_gap=10**(-5), abs_gap=10**(-5), max_iter=max_iter,\\\n",
    "                                          memory=max_iter, poorman=True, print_freq=20)\n",
    "print(f\"elapsed time = {time.time() - start_time}\")"
   ]
  },
  {
   "cell_type": "code",
   "execution_count": 6,
   "id": "99ce55a8",
   "metadata": {},
   "outputs": [
    {
     "data": {
      "text/plain": [
       "(-4390.589821064684, -4240.31470890214)"
      ]
     },
     "execution_count": 6,
     "metadata": {},
     "output_type": "execute_result"
    }
   ],
   "source": [
    "prob.lower_bnd[-1], prob.upper_bnd[-1]"
   ]
  },
  {
   "attachments": {},
   "cell_type": "markdown",
   "id": "2f788f70",
   "metadata": {},
   "source": [
    "# Centralized solution"
   ]
  },
  {
   "cell_type": "code",
   "execution_count": 7,
   "id": "cce4a08b",
   "metadata": {},
   "outputs": [],
   "source": [
    "h_cvx, x_cvx = ob.cvx_resource_allocation(params=params, R=R)"
   ]
  },
  {
   "cell_type": "code",
   "execution_count": 8,
   "id": "4cbfe901",
   "metadata": {},
   "outputs": [
    {
     "data": {
      "text/plain": [
       "(-4278.68493859097, -4240.31470890214)"
      ]
     },
     "execution_count": 8,
     "metadata": {},
     "output_type": "execute_result"
    }
   ],
   "source": [
    "h_cvx, prob.upper_bnd[-1]"
   ]
  },
  {
   "attachments": {},
   "cell_type": "markdown",
   "id": "f068f7eb",
   "metadata": {},
   "source": [
    "# Plot"
   ]
  },
  {
   "cell_type": "code",
   "execution_count": 11,
   "id": "76fc82c8",
   "metadata": {},
   "outputs": [
    {
     "name": "stdout",
     "output_type": "stream",
     "text": [
      "i=32, omega_k=0.0376964292648516, omega_true=0.009635401054640393\n"
     ]
    },
    {
     "data": {
      "image/png": "[encoded data removed]",
      "text/plain": [
       "<Figure size 640x480 with 1 Axes>"
      ]
     },
     "metadata": {},
     "output_type": "display_data"
    }
   ],
   "source": [
    "ob.plot_true_rel_gap_uk(y_min=3e-3, y_max=1e2, lk = prob.lower_bnd, uk = prob.upper_bnd, h_true = h_cvx, file_name='ra_var_metric_bounds.pdf')"
   ]
  },
  {
   "cell_type": "code",
   "execution_count": null,
   "id": "a0ef5535",
   "metadata": {},
   "outputs": [],
   "source": []
  }
 ],
 "metadata": {
  "kernelspec": {
   "display_name": "Python 3 (ipykernel)",
   "language": "python",
   "name": "python3"
  },
  "language_info": {
   "codemirror_mode": {
    "name": "ipython",
    "version": 3
   },
   "file_extension": ".py",
   "mimetype": "text/x-python",
   "name": "python",
   "nbconvert_exporter": "python",
   "pygments_lexer": "ipython3",
   "version": "3.9.16"
  }
 },
 "nbformat": 4,
 "nbformat_minor": 5
}
